{
 "cells": [
  {
   "cell_type": "markdown",
   "metadata": {},
   "source": [
    "Department of Political Science <br/>\n",
    "Faculty of Economics and Political Science <br/>\n",
    "Cairo University"
   ]
  },
  {
   "cell_type": "markdown",
   "metadata": {},
   "source": [
    "### P420 Introduction to Artificial Intelligence and Data Science in Empirical Political Science\n",
    "<br/>\n",
    "Dr. Zeyad Elkelani"
   ]
  },
  {
   "cell_type": "markdown",
   "metadata": {},
   "source": [
    "# Data Structures"
   ]
  },
  {
   "cell_type": "markdown",
   "metadata": {},
   "source": [
    "### What are data structures?\n",
    "<br/>\n",
    "Data structures are a way of organizing and storing data so that they can be accessed and worked with efficiently. They define the relationship between the data, and the operations that can be performed on the data.\n",
    "<br/>\n",
    "\n",
    "### Why do we need to know about data structures \n",
    "<br/>\n",
    "Data structures refer to the way we organize information on our computers and you can guess that the way we organize information can have a lot of impact on the performance. A good example is a library. Suppose, one wants to have a book on Calculus from a library, to do so, one has to first go to the math section, then to the Calculus section. If these books had not been organized in this manner and just distributed randomly then it would have been really a cumbersome process to find the book."
   ]
  },
  {
   "cell_type": "markdown",
   "metadata": {},
   "source": [
    "## Overview of Python Data Structures"
   ]
  },
  {
   "cell_type": "markdown",
   "metadata": {},
   "source": [
    "<img src=\"./data_structures.png\" alt=\"\" style=\"height: 400px; width:600px;\"/>"
   ]
  },
  {
   "cell_type": "markdown",
   "metadata": {},
   "source": [
    "Data structures are  an implementation of Abstract Data Types or ADT. This implementation requires a physical view of data using some collection of programming constructs and basic data types.\n",
    "\n",
    "Generally, data structures can be divided into two categories in computer science: primitive and non-primitive data structures. The former are the simplest forms of representing data, whereas the latter are more advanced: they contain the primitive data structures within more complex data structures for special purposes."
   ]
  },
  {
   "cell_type": "markdown",
   "metadata": {},
   "source": [
    "## Primitive Data Types and Memory\n",
    "We must understand that for every data type the operating system allocated a specific amount of memory in RAM. Unlike our decimal number system, in which ones place can hold 10 distinct values (0 to 9), in the binary number system, ones place can only hold only 2 distinct values (0 and 1). One binary digit is called a bit (binary + digit). We store 8 bits together and call it a byte."
   ]
  },
  {
   "cell_type": "markdown",
   "metadata": {},
   "source": [
    "Because a bit can hold 2 values, 0 or 1, you can calculate the number of possible values by calculating 2^n where n is the number of bits. Given 8 bits per byte, a **short integer** which is allocated 2 bytes can store 2¹⁶ (65,536) possible 0 and 1 combinations. If we split those between negative and positive values, the data range for a short is -32,768 to +32,767."
   ]
  },
  {
   "cell_type": "markdown",
   "metadata": {},
   "source": [
    "<img src=\"./typevalues.gif\" alt=\"Data Types & Range in Java\" style=\"height: 300px; width:400px;\"/>"
   ]
  },
  {
   "cell_type": "markdown",
   "metadata": {},
   "source": [
    "## Non-primitive Data Types"
   ]
  },
  {
   "cell_type": "markdown",
   "metadata": {},
   "source": [
    "Data structures are different from the primitive data types, but they are similar to them in the sense that it holds (structures) same data into certain predefined manners.\n",
    "\n",
    "When we study data structure and algorithm, we are talking (and concern) about space (RAM) and processing (CPU) efficiency. Both processing power and memory are finite. So we need to keep things optimized so that it takes the least amount of space and processing time."
   ]
  },
  {
   "cell_type": "markdown",
   "metadata": {},
   "source": [
    "## List\n",
    "* A list is a mutable sequence that can hold both homogeneous and heterogeneous data, in a sequential manner. An address is assigned to every element of the list, called an Index. The elements within a list are comma-separated and enclosed within square brackets.\n",
    "\n",
    "* You can add, remove, or change elements from the list without changing its identity."
   ]
  },
  {
   "cell_type": "markdown",
   "metadata": {},
   "source": [
    "<img src=\"./List-Slicing.jpeg\" alt=\"\" style=\"height: 400px; width:600px;\"/>"
   ]
  },
  {
   "cell_type": "markdown",
   "metadata": {},
   "source": [
    "<img src=\"./list_operations.png\" alt=\"Data Types & Range in Java\" style=\"height: 300px; width:400px;\"/>"
   ]
  },
  {
   "cell_type": "markdown",
   "metadata": {},
   "source": [
    "#### Creating a List\n"
   ]
  },
  {
   "cell_type": "code",
   "execution_count": null,
   "metadata": {},
   "outputs": [],
   "source": [
    "initial_list = [1,2,3,4]\n",
    "my_list = ['R', 'Python', 'Julia', 1,2,3]\n",
    "print(my_list)"
   ]
  },
  {
   "cell_type": "markdown",
   "metadata": {},
   "source": [
    "#### Adding elements\n",
    "* The insert function adds an element at the position/index specified.\n",
    "* The append function will add all elements specified, as a single element.\n",
    "* The extend function will add elements on a one-by-one basis."
   ]
  },
  {
   "cell_type": "code",
   "execution_count": null,
   "metadata": {},
   "outputs": [],
   "source": [
    "my_list = ['R', 'Python', 'Julia']\n",
    "my_list.append(['C','Ruby'])\n",
    "print(my_list)\n",
    "my_list.extend(['Java', 'HTML'])\n",
    "my_list.insert(2, 'JavaScript')"
   ]
  },
  {
   "cell_type": "markdown",
   "metadata": {},
   "source": [
    "#### Accessing elements\n",
    "* Lists can be indexed using square brackets to retrieve the element stored in a particular position.\n",
    "* Indexing is exactly similar to indexing in strings except that indexing in lists returns the entire item at that position whereas in strings, the character at that position is returned"
   ]
  },
  {
   "cell_type": "code",
   "execution_count": null,
   "metadata": {},
   "outputs": [],
   "source": [
    "print(my_list[0])"
   ]
  },
  {
   "cell_type": "code",
   "execution_count": null,
   "metadata": {},
   "outputs": [],
   "source": [
    "print(my_list[0:3]) #prints elements from 0 to 2, excludes element at index 3"
   ]
  },
  {
   "cell_type": "code",
   "execution_count": null,
   "metadata": {},
   "outputs": [],
   "source": [
    "print(my_list[-1]) #prints the first element from the last"
   ]
  },
  {
   "cell_type": "markdown",
   "metadata": {},
   "source": [
    "#### Deleting Elements\n",
    "* Remove is used when you want to remove element by specifying its value.\n",
    "\n",
    "* Use del to remove an element by index, pop() to remove it by index if you need the returned value."
   ]
  },
  {
   "cell_type": "code",
   "execution_count": null,
   "metadata": {},
   "outputs": [],
   "source": [
    "del my_list[3] "
   ]
  },
  {
   "cell_type": "code",
   "execution_count": null,
   "metadata": {},
   "outputs": [],
   "source": [
    "list_2 = my_list.pop(2)\n",
    "print('This is the popped element: ', list_2, 'This is the remaining list: ', my_list)"
   ]
  },
  {
   "cell_type": "code",
   "execution_count": null,
   "metadata": {},
   "outputs": [],
   "source": [
    "my_list.remove('R')\n",
    "print(my_list)"
   ]
  },
  {
   "cell_type": "markdown",
   "metadata": {},
   "source": [
    "### Slicing a List\n",
    "* While indexing is limited to accessing a single element, slicing accesses a sequence of data from a list.\n",
    "* Slicing is done by defining the index values of the first element and the last element from the parent list that is required in the sliced list. It is written as [ a : b ] where a,b are the index values from the parent list. If a or b is not defined then the index value is considered to be the first value for a if a is not defined and the last value for b when b is not defined."
   ]
  },
  {
   "cell_type": "code",
   "execution_count": null,
   "metadata": {},
   "outputs": [],
   "source": [
    "numerical = [0,1,2,3,4,5,6,7,8,9]\n",
    "print(numerical[0:3])"
   ]
  },
  {
   "cell_type": "code",
   "execution_count": null,
   "metadata": {},
   "outputs": [],
   "source": [
    "print(numerical[3:])"
   ]
  },
  {
   "cell_type": "markdown",
   "metadata": {},
   "source": [
    "To check if an element is present in a list or not\n",
    "\n"
   ]
  },
  {
   "cell_type": "code",
   "execution_count": null,
   "metadata": {},
   "outputs": [],
   "source": [
    "names = ['Earth','Air','Fire','Water']\n",
    "'Earth' in names"
   ]
  },
  {
   "cell_type": "code",
   "execution_count": null,
   "metadata": {},
   "outputs": [],
   "source": [
    "print(len(names)) # length of the list"
   ]
  },
  {
   "cell_type": "code",
   "execution_count": null,
   "metadata": {},
   "outputs": [],
   "source": [
    "print(names.index('Earth'))#the index value of 'Earth' where it has been encountered the first time."
   ]
  },
  {
   "cell_type": "code",
   "execution_count": null,
   "metadata": {},
   "outputs": [],
   "source": [
    "print(names.count('Air')) # finds the count of the value passed to it"
   ]
  },
  {
   "cell_type": "markdown",
   "metadata": {},
   "source": [
    "#### Sort Function"
   ]
  },
  {
   "cell_type": "code",
   "execution_count": null,
   "metadata": {},
   "outputs": [],
   "source": [
    "numero = [1,12,4,25,19,8,29,6] # print the sorted list but not change the original one.\n",
    "print(sorted(numero))"
   ]
  },
  {
   "cell_type": "code",
   "execution_count": null,
   "metadata": {},
   "outputs": [],
   "source": [
    "numero.sort(reverse=True)\n",
    "print(numero)"
   ]
  },
  {
   "cell_type": "markdown",
   "metadata": {},
   "source": [
    "## Tuple\n",
    "Tuples are used to hold together multiple objects. Unlike lists, tuples are both immutable and specified within parentheses instead of square brackets. The values within a tuple cannot be overridden, that is, they cannot be changed, deleted, or reassigned. Tuples can hold both homogeneous and heterogenous data."
   ]
  },
  {
   "cell_type": "code",
   "execution_count": 17,
   "metadata": {},
   "outputs": [
    {
     "name": "stdout",
     "output_type": "stream",
     "text": [
      "(10, 20, 30, 40, 50)\n"
     ]
    }
   ],
   "source": [
    "new_tuple = (10,20,30,40,50)\n",
    "print(new_tuple)"
   ]
  },
  {
   "cell_type": "code",
   "execution_count": 18,
   "metadata": {},
   "outputs": [
    {
     "name": "stdout",
     "output_type": "stream",
     "text": [
      "10\n",
      "20\n",
      "(10, 20, 30, 40, 50)\n",
      "50\n"
     ]
    }
   ],
   "source": [
    "print(new_tuple[0])\n",
    "print(new_tuple[1])\n",
    "print(new_tuple[:])\n",
    "print(new_tuple[-1])"
   ]
  },
  {
   "cell_type": "code",
   "execution_count": 19,
   "metadata": {},
   "outputs": [
    {
     "name": "stdout",
     "output_type": "stream",
     "text": [
      "(1, 2, 3, 4, 5, 6, 7, 8, 9, 10)\n"
     ]
    }
   ],
   "source": [
    "tuple_1 = (1,2,3,4,5)\n",
    "tuple_1 = tuple_1 + (6,7,8,9,10)\n",
    "print(tuple_1)"
   ]
  },
  {
   "cell_type": "markdown",
   "metadata": {},
   "source": [
    "The divmod() function performs integer division between x and y and returns a tuple with two values:\n",
    "\n",
    "The quotient, which is the integer result of x divided by y.\n",
    "The remainder, which is the integer remainder when x is divided by y.\n",
    "For example, if we use divmod(11, 3), the function would return the tuple (3, 2), since 11 divided by 3 is 3 with a remainder of 2."
   ]
  },
  {
   "cell_type": "code",
   "execution_count": 21,
   "metadata": {},
   "outputs": [
    {
     "name": "stdout",
     "output_type": "stream",
     "text": [
      "(3, 2)\n",
      "<class 'tuple'>\n"
     ]
    }
   ],
   "source": [
    "xyz = divmod(11,3)\n",
    "print(xyz)\n",
    "print(type(xyz))"
   ]
  },
  {
   "cell_type": "code",
   "execution_count": 22,
   "metadata": {},
   "outputs": [
    {
     "name": "stdout",
     "output_type": "stream",
     "text": [
      "(1, 2, 3)\n",
      "('H', 'e', 'l', 'l', 'o')\n"
     ]
    }
   ],
   "source": [
    "tup3 = tuple([1,2,3])\n",
    "print(tup3)\n",
    "tup4 = tuple('Hello')\n",
    "print(tup4)"
   ]
  },
  {
   "cell_type": "markdown",
   "metadata": {},
   "source": [
    "* count() function counts the number of specified element that is present in the tuple.\n",
    "* index() function returns the index of the specified element. If the elements are more than one then the index of the first element of that specified element is returned"
   ]
  },
  {
   "cell_type": "code",
   "execution_count": 24,
   "metadata": {},
   "outputs": [
    {
     "name": "stdout",
     "output_type": "stream",
     "text": [
      "2\n",
      "0\n"
     ]
    }
   ],
   "source": [
    "example = (\"Mumbai\",\"Chennai\",\"Delhi\",\"Kolkatta\",\"Mumbai\",\"Bangalore\")\n",
    "print(example.count(\"Mumbai\"))\n",
    "\n",
    "print(example.index(\"Mumbai\")) "
   ]
  },
  {
   "cell_type": "markdown",
   "metadata": {},
   "source": [
    "## Dictionary\n",
    "* If you are looking to implement something like a telephone book, a dictionary is what you need. Dictionaries basically store ‘key-value’ pairs. In a phone directory, you’ll have Phone and Name as keys and the various names and numbers assigned are the values. The ‘key’ identifies an item and the ‘value’ stores the item’s value. The ‘key-value’ pairs are separated by commas and the values are separated from the keys using a colon ‘:’ character.\n",
    "\n",
    "* You can add, remove, or change existing key-value pairs in a dictionary."
   ]
  },
  {
   "cell_type": "markdown",
   "metadata": {},
   "source": [
    "<img src=\"./dict_operations.png\" alt=\"Data Types & Range in Java\" style=\"height: 300px; width:400px;\"/>"
   ]
  },
  {
   "cell_type": "code",
   "execution_count": 25,
   "metadata": {},
   "outputs": [
    {
     "name": "stdout",
     "output_type": "stream",
     "text": [
      "{}\n",
      "{'Ahmed': 1, 'Rana': 2, 'Dina': 3, 'Essam': 4}\n"
     ]
    }
   ],
   "source": [
    "new_dict = {} # empty dictionary\n",
    "print(new_dict)\n",
    "new_dict = {'Ahmed':1, 'Rana':2, 'Dina':3, 'Essam':4}\n",
    "print(new_dict)"
   ]
  },
  {
   "cell_type": "code",
   "execution_count": 26,
   "metadata": {},
   "outputs": [
    {
     "name": "stdout",
     "output_type": "stream",
     "text": [
      "{'Ahmed': 1, 'Rana': 2, 'Dina': 3, 'Essam': 5}\n"
     ]
    }
   ],
   "source": [
    "new_dict['Essam'] = 5 # changing elements\n",
    "print(new_dict)"
   ]
  },
  {
   "cell_type": "code",
   "execution_count": 27,
   "metadata": {},
   "outputs": [
    {
     "name": "stdout",
     "output_type": "stream",
     "text": [
      "{'Ahmed': 1, 'Rana': 2, 'Dina': 3, 'Essam': 5, 'Gamal': 6}\n"
     ]
    }
   ],
   "source": [
    "new_dict['Gamal'] = 6 # adding a key-value pair\n",
    "print(new_dict)"
   ]
  },
  {
   "cell_type": "markdown",
   "metadata": {},
   "source": [
    "#### Deleting key-value pairs\n",
    "* To delete the values, you use the pop() function which returns the value that has been deleted.\n",
    "* To retrieve the key-value pair, you use the popitem() function which returns a tuple of the key and value.\n",
    "* To clear the entire dictionary, you use the clear() function."
   ]
  },
  {
   "cell_type": "code",
   "execution_count": 13,
   "metadata": {},
   "outputs": [],
   "source": [
    "new_dict_2 = new_dict.pop('Essam')\n",
    "print(new_dict_2)"
   ]
  },
  {
   "cell_type": "markdown",
   "metadata": {},
   "source": [
    "* values( ) function returns a list with all the assigned values in the dictionary.\n",
    "\n",
    "* keys( ) function returns all the index or the keys to which contains the values that it was assigned to.\n",
    "\n"
   ]
  },
  {
   "cell_type": "code",
   "execution_count": 28,
   "metadata": {},
   "outputs": [
    {
     "name": "stdout",
     "output_type": "stream",
     "text": [
      "dict_values([1, 2, 3, 5, 6])\n",
      "<class 'dict_values'>\n",
      "dict_keys(['Ahmed', 'Rana', 'Dina', 'Essam', 'Gamal'])\n",
      "<class 'dict_keys'>\n"
     ]
    }
   ],
   "source": [
    "print(new_dict.values())\n",
    "print(type(new_dict.values()))\n",
    "print(new_dict.keys())\n",
    "print(type(new_dict.keys()))"
   ]
  },
  {
   "cell_type": "markdown",
   "metadata": {},
   "source": [
    "* items( ) returns a list containing both the list but each element in the dictionary is inside a tuple.\n"
   ]
  },
  {
   "cell_type": "code",
   "execution_count": 9,
   "metadata": {},
   "outputs": [
    {
     "name": "stdout",
     "output_type": "stream",
     "text": [
      "dict_items([('Ahmed', 1), ('Rana', 2), ('Dina', 3), ('Essam', 4)])\n",
      "[('Ahmed', 1), ('Rana', 2), ('Dina', 3), ('Essam', 4)]\n"
     ]
    }
   ],
   "source": [
    "print(new_dict.items())\n",
    "\n",
    "#convert to list of tuples\n",
    "print(list(new_dict.items()))"
   ]
  },
  {
   "cell_type": "code",
   "execution_count": 29,
   "metadata": {},
   "outputs": [
    {
     "name": "stdout",
     "output_type": "stream",
     "text": [
      "{}\n"
     ]
    }
   ],
   "source": [
    "new_dict.clear() # .clear() function is used to empty a dictionary\n",
    "print(new_dict)"
   ]
  },
  {
   "cell_type": "markdown",
   "metadata": {},
   "source": [
    "## Sets\n",
    "Sets are an unordered collection of unique elements. Sets are mutable but can hold only unique values in the dataset. Set operations are similar to the ones used in arithmetic."
   ]
  },
  {
   "cell_type": "code",
   "execution_count": 32,
   "metadata": {},
   "outputs": [
    {
     "name": "stdout",
     "output_type": "stream",
     "text": [
      "{1, 2, 3, 4, 5}\n",
      "{1, 2, 3, 4, 5, 8}\n"
     ]
    }
   ],
   "source": [
    "new_set = {1,2,3,3,3,4,5,5}\n",
    "print(new_set)\n",
    "new_set.add(8)\n",
    "print(new_set)"
   ]
  },
  {
   "cell_type": "code",
   "execution_count": null,
   "metadata": {},
   "outputs": [],
   "source": [
    "new_set_1 = {1,3} \n",
    "print(new_set - new_set_1)"
   ]
  },
  {
   "cell_type": "code",
   "execution_count": null,
   "metadata": {},
   "outputs": [],
   "source": [
    "print(new_set.union(new_set_1)) # combines the data present in both sets"
   ]
  },
  {
   "cell_type": "code",
   "execution_count": null,
   "metadata": {},
   "outputs": [],
   "source": [
    "print(new_set.intersection(new_set_1)) # finds the data present in both sets"
   ]
  },
  {
   "cell_type": "code",
   "execution_count": null,
   "metadata": {},
   "outputs": [],
   "source": [
    "print(new_set.difference(new_set_1)) # deletes the data present in both and outputs data present only in the set passed."
   ]
  },
  {
   "cell_type": "code",
   "execution_count": null,
   "metadata": {},
   "outputs": [],
   "source": [
    "print(new_set.symmetric_difference(new_set_1))"
   ]
  },
  {
   "cell_type": "markdown",
   "metadata": {},
   "source": [
    "**Other operations on sets**\n",
    "* The union() function combines the data present in both sets.\n",
    "* The intersection() function finds the data present in both sets only.\n",
    "* The difference() function deletes the data present in both and outputs data present only in the set passed.\n",
    "* The symmetric_difference() does the same as the difference() function but outputs the data which is remaining in both sets."
   ]
  },
  {
   "cell_type": "markdown",
   "metadata": {},
   "source": [
    "Check original documentation at: https://docs.python.org/3/tutorial/datastructures.html#"
   ]
  },
  {
   "cell_type": "markdown",
   "metadata": {},
   "source": [
    "# Hands on Exercise"
   ]
  },
  {
   "cell_type": "markdown",
   "metadata": {},
   "source": [
    "### 1- Given two lists, l1 and l2, write a program to create a third list l3 by picking an odd-index element from the list l1 and even index elements from the list l2."
   ]
  },
  {
   "cell_type": "code",
   "execution_count": 5,
   "metadata": {},
   "outputs": [],
   "source": [
    "list1 = [3, 6, 9, 12, 15, 18, 21]\n",
    "list2 = [4, 8, 12, 16, 20, 24, 28]"
   ]
  },
  {
   "cell_type": "markdown",
   "metadata": {},
   "source": [
    "#### Hint: use list slicing\n",
    "#### listname[start_index : end_index : step]"
   ]
  },
  {
   "cell_type": "code",
   "execution_count": null,
   "metadata": {},
   "outputs": [],
   "source": [
    "odd_elements = list1[1::2]\n",
    "print(\"Element at odd-index positions from list one\", odd_elements)"
   ]
  },
  {
   "cell_type": "code",
   "execution_count": null,
   "metadata": {},
   "outputs": [],
   "source": [
    "even_elements = list2[0::2]\n",
    "print(\"Element at even-index positions from list two\", even_elements)"
   ]
  },
  {
   "cell_type": "code",
   "execution_count": null,
   "metadata": {},
   "outputs": [],
   "source": [
    "res = list[]\n",
    "res.extend(odd_elements)\n",
    "res.extend(even_elements)\n",
    "print(\"Printing Final third list\",res)"
   ]
  },
  {
   "cell_type": "markdown",
   "metadata": {},
   "source": [
    "### 2-Write a program to remove the item present at index 4 and add it to the 2nd position and at the end of the list."
   ]
  },
  {
   "cell_type": "code",
   "execution_count": 12,
   "metadata": {},
   "outputs": [],
   "source": [
    "sample_list = [34, 54, 67, 89, 11, 43, 94]"
   ]
  },
  {
   "cell_type": "markdown",
   "metadata": {},
   "source": [
    "#### Hint\n",
    "* pop(index): Removes and returns the item at the given index from the list.\n",
    "* insert(index, item): Add the item at the specified position(index) in the list\n",
    "* append(item): Add item at the end of the list."
   ]
  },
  {
   "cell_type": "code",
   "execution_count": null,
   "metadata": {},
   "outputs": [],
   "source": [
    "print(\"Original list \", sample_list)\n",
    "element = sample_list.pop(4)\n",
    "print(\"List After removing element at index 4 \", sample_list)"
   ]
  },
  {
   "cell_type": "code",
   "execution_count": null,
   "metadata": {},
   "outputs": [],
   "source": [
    "sample_list.insert(2, element)\n",
    "print(\"List after Adding element at index 2 \", sample_list)"
   ]
  },
  {
   "cell_type": "code",
   "execution_count": null,
   "metadata": {},
   "outputs": [],
   "source": [
    "sample_list.append(element)\n",
    "print(\"List after Adding element at last \", sample_list)"
   ]
  }
 ],
 "metadata": {
  "kernelspec": {
   "display_name": "Python 3",
   "language": "python",
   "name": "python3"
  },
  "language_info": {
   "codemirror_mode": {
    "name": "ipython",
    "version": 3
   },
   "file_extension": ".py",
   "mimetype": "text/x-python",
   "name": "python",
   "nbconvert_exporter": "python",
   "pygments_lexer": "ipython3",
   "version": "3.7.6"
  }
 },
 "nbformat": 4,
 "nbformat_minor": 4
}
