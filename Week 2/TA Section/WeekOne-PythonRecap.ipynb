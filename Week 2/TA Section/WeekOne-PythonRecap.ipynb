{
 "cells": [
  {
   "cell_type": "markdown",
   "id": "0160cbc6-b2ce-4fba-91ba-4872fe0cfff6",
   "metadata": {
    "tags": []
   },
   "source": [
    "# Week One & Two: Python Recap\n",
    "\n",
    "In this notebook, we will be revising some Python basics.\n",
    "\n",
    "1. [Variables](#1) \n",
    "<br> <br>\n",
    "2. [Operators](#2)\n",
    "    1. [Assignment](#3)\n",
    "    2. [Arithmetic](#4)\n",
    "    3. [String](#5)\n",
    "    4. [Comparison & Identity](#6)\n",
    "    5. [Logical](#7)   \n",
    "<br><br>\n",
    "[Notes on User Input and Python Syntax](#23)\n",
    "<br><br>\n",
    "3. [Conditional Execution](#8)\n",
    "    1. [Conditional Execution: if statements](#9)\n",
    "    2. [Alternative Execution: if...else... statements](#10)\n",
    "    3. [Chained Conditionals: if...elif...else... statements](#11)\n",
    "<br> <br>\n",
    "4. [Loops](#12)\n",
    "    1. [Definite, Finite Loop: For loop](#13)\n",
    "    2. [Indefinite, Finite Loop: While loop](#14)\n",
    "    3. [Infinite Loops](#15)\n",
    "<br> <br>\n",
    "5. [Functions](#16)\n",
    "    1. [Built in Functions](#17)\n",
    "    2. [User-defined Functions](#18)\n",
    "<br> <br>\n",
    "[Notes on Variable Scope](#24)\n",
    "<br><br>\n",
    "6. [Data Structures](#19)\n",
    "    1. [Lists](#20)\n",
    "    2. [Dictionaries](#21)\n",
    "    3. [Tuples](#22)\n",
    "* * *"
   ]
  },
  {
   "cell_type": "markdown",
   "id": "7ad025da-8c17-4557-b3b7-2776fbfbee68",
   "metadata": {},
   "source": [
    "## <a id = 1> 1. Variables </a>\n",
    "\n",
    "A variable is a reserved memory location that stores values. \n",
    "\n",
    "The values can be numbers (integer, float, complex), strings (text), or boolean (True/False).\n",
    "\n",
    "With Python, the variables are declared by assigning values to them. Note that even after declaring a variable with one type, you can change it to a variable of another type by reassigning it.\n",
    "\n",
    "__Variable Naming Rules:__\n",
    "* Case sensitive\n",
    "* Contain alpha-numeric characters & underscores only\n",
    "* Cannot start with a number \n",
    "* There are some reserved names that can be accessed through help(\"keywords\") "
   ]
  },
  {
   "cell_type": "code",
   "execution_count": 17,
   "id": "9d995505-2689-48da-bd91-430d17f32b33",
   "metadata": {},
   "outputs": [
    {
     "name": "stdout",
     "output_type": "stream",
     "text": [
      "7 is a <class 'int'>\n",
      "2.5 is a <class 'float'>\n",
      "(3+4j) is a <class 'complex'>\n",
      "Hello World is a <class 'str'>\n",
      "True is a <class 'bool'>\n"
     ]
    }
   ],
   "source": [
    "a = 7\n",
    "b = 2.5\n",
    "c = complex(3,4)\n",
    "d = \"Hello World\"\n",
    "e = True\n",
    "\n",
    "print (a, \"is a\", type(a))\n",
    "print (b, \"is a\", type(b))\n",
    "print (c, \"is a\", type(c))\n",
    "print (d, \"is a\", type(d))\n",
    "print (e, \"is a\", type(e))"
   ]
  },
  {
   "cell_type": "code",
   "execution_count": 11,
   "id": "7259441b",
   "metadata": {},
   "outputs": [
    {
     "name": "stdout",
     "output_type": "stream",
     "text": [
      "The last value of a is, Nour and has type <class 'str'>\n"
     ]
    }
   ],
   "source": [
    "a = \"Nour\"\n",
    "print (\"The last value of a is,\", a, \"and has type\", type(a))"
   ]
  },
  {
   "cell_type": "code",
   "execution_count": 18,
   "id": "7be4ed2c",
   "metadata": {},
   "outputs": [
    {
     "name": "stdout",
     "output_type": "stream",
     "text": [
      "2\n",
      "3\n",
      "John\n",
      "e has a value of 1\n",
      "f has a value of 1\n",
      "g has a value of 1\n"
     ]
    }
   ],
   "source": [
    "x,y,z = 2,3,\"John\"\n",
    "print(x)\n",
    "print(y)\n",
    "print(z)\n",
    "\n",
    "e = f = g = 1\n",
    "print(\"e has a value of\", e)\n",
    "print(\"f has a value of\", f)\n",
    "print(\"g has a value of\", g)"
   ]
  },
  {
   "cell_type": "code",
   "execution_count": 12,
   "id": "bc3a27b8",
   "metadata": {},
   "outputs": [
    {
     "name": "stdout",
     "output_type": "stream",
     "text": [
      "\n",
      "Here is a list of the Python keywords.  Enter any keyword to get more help.\n",
      "\n",
      "False               break               for                 not\n",
      "None                class               from                or\n",
      "True                continue            global              pass\n",
      "__peg_parser__      def                 if                  raise\n",
      "and                 del                 import              return\n",
      "as                  elif                in                  try\n",
      "assert              else                is                  while\n",
      "async               except              lambda              with\n",
      "await               finally             nonlocal            yield\n",
      "\n"
     ]
    }
   ],
   "source": [
    "help(\"keywords\")"
   ]
  },
  {
   "cell_type": "markdown",
   "id": "4217a055",
   "metadata": {},
   "source": [
    "## <a id = 2> 2. Operators </a>\n",
    "\n",
    "Operators are special symbols/keywords that execute certain operations.\n",
    "\n",
    "#### <a id = 3> A. Assignment Operators </a>\n",
    "\n",
    "You've already seen the most important assignment operator above! **=**"
   ]
  },
  {
   "cell_type": "code",
   "execution_count": 25,
   "id": "b962b780",
   "metadata": {},
   "outputs": [
    {
     "name": "stdout",
     "output_type": "stream",
     "text": [
      "x is a variable declared with value 2\n",
      "Using the += operator adds the number on the right hand side to the variable on the left hand side. It executes x = x + 10, so x's value is now 12\n",
      "Using the -= operator subtracts the number on the right hand side from the variable on the left hand side. It executes x = x - 2, so x's value is now 10\n"
     ]
    }
   ],
   "source": [
    "x = 2\n",
    "print(\"x is a variable declared with value\", x)\n",
    "\n",
    "x += 10\n",
    "\n",
    "print(\"Using the += operator adds the number on the right hand side to the variable on the left hand side. It executes x = x + 10, so x's value is now\", x)\n",
    "\n",
    "x -= 2\n",
    "\n",
    "print(\"Using the -= operator subtracts the number on the right hand side from the variable on the left hand side. It executes x = x - 2, so x's value is now\", x)\n"
   ]
  },
  {
   "cell_type": "markdown",
   "id": "4e62392f",
   "metadata": {},
   "source": [
    "These are called shorthand assignment operators. They combine the assignment operator with arithmetic operators.\n",
    "> *= \n",
    "\n",
    "> /=\n",
    "\n",
    "> //=\n",
    "\n",
    "> %=\n",
    "\n",
    "> \\**=\n"
   ]
  },
  {
   "cell_type": "markdown",
   "id": "c645b133",
   "metadata": {},
   "source": [
    "#### <a id = 4> B. Arithmetic Operators </a>\n",
    "Arithmetic operators are used with numeric values to perform common mathematical operations. \n",
    "\n",
    "Addition\n",
    "> \\+ \n",
    "\n",
    "Subtraction\n",
    "> \\- \n",
    "\n",
    "Multiplication\n",
    "> \\* \n",
    "\n",
    "Division \n",
    "> /\n",
    "\n",
    "Floor Division - Divides the first argument by the second and rounds the result **down** to the nearest whole number\n",
    "> // \n",
    "\n",
    "Exponentiation\n",
    "> \\** \n",
    "\n",
    "Modulus - Returns the remainder of dividing the first number by the second\n",
    "> % "
   ]
  },
  {
   "cell_type": "code",
   "execution_count": 30,
   "id": "b2b70456",
   "metadata": {},
   "outputs": [
    {
     "name": "stdout",
     "output_type": "stream",
     "text": [
      "Addition:  6\n",
      "Subtraction:  2\n",
      "Multiplication:  8\n",
      "Division:  0.5\n",
      "Floor Division:  0\n",
      "Exponentiation:  16\n",
      "Modulus with remainder:  2\n",
      "Modulus with no remainder:  0\n"
     ]
    }
   ],
   "source": [
    "a = 2\n",
    "b = 4\n",
    "\n",
    "print(\"Addition: \",a + b)\n",
    "print(\"Subtraction: \", b - a)\n",
    "print(\"Multiplication: \", a * b)\n",
    "print(\"Division: \", a/b)\n",
    "print(\"Floor Division: \", a//b)\n",
    "print(\"Exponentiation: \", b**a)\n",
    "print(\"Modulus with remainder: \", a%b)\n",
    "print(\"Modulus with no remainder: \", b%a)\n"
   ]
  },
  {
   "cell_type": "markdown",
   "id": "f2154a59",
   "metadata": {},
   "source": [
    "#### Important note regarding order of arithmetic operations\n",
    "If you do not use (parentheses), you need to know that the math operators are executed according to their order of importance as mentioned below:\n",
    "1. Parantheses \n",
    "2. Exponents and roots\n",
    "3. Multiplication and division \n",
    "4. Addition and subtraction"
   ]
  },
  {
   "cell_type": "markdown",
   "id": "ae35e1b9",
   "metadata": {},
   "source": [
    "#### <a id = 5> C. String Operators </a>\n",
    "Some operations can also be applied on strings.\n",
    "\n",
    "Concatentation - Adds values on either side of the operator\n",
    "> \\+ \n",
    "\n",
    "Repetition - Creates new strings, concatenating multiple copies of the same string\n",
    "> \\* \n",
    "\n",
    "Slice - Gives the character from the given index\n",
    "> [] \n",
    "\n",
    "Range Slice - Gives the characters from the given range\n",
    "> [ : ] "
   ]
  },
  {
   "cell_type": "code",
   "execution_count": 37,
   "id": "51a53614",
   "metadata": {},
   "outputs": [
    {
     "name": "stdout",
     "output_type": "stream",
     "text": [
      "Concatentation:  HelloWorld\n",
      "Concatentation with space:  Hello World\n",
      "Repetition:  HelloHello\n",
      "Slice example 1:  H\n",
      "Slice example 2:  o\n",
      "Slice example 3:  o\n",
      "Range slice example 1:  Wo\n",
      "Range slice example 2:  rld\n",
      "Range slice example 3:  Wor\n"
     ]
    }
   ],
   "source": [
    "c = \"Hello\"\n",
    "d = \"World\"\n",
    "\n",
    "print(\"Concatentation: \", c + d)\n",
    "print(\"Concatentation with space: \", c + \" \" + d)\n",
    "print(\"Repetition: \", c*2)\n",
    "print(\"Slice example 1: \", c[0]) #Indexes start at zero\n",
    "print(\"Slice example 2: \", c[-1])\n",
    "print(\"Slice example 3: \", c[4])\n",
    "print(\"Range slice example 1: \", d[0:2]) #Ranges are exclusive\n",
    "print(\"Range slice example 2: \", d[2:])\n",
    "print(\"Range slice example 3: \", d[:3])"
   ]
  },
  {
   "cell_type": "markdown",
   "id": "03238c96",
   "metadata": {},
   "source": [
    "#### <a id = 6> D. Comparison Operators </a>\n",
    "Comparison operators are used to compare two values.\n",
    "\n",
    "Equal\n",
    "> == \n",
    "\n",
    "Not Equal\n",
    "> != \n",
    "\n",
    "Greater than\n",
    "> \\>\n",
    "\n",
    "Less than\n",
    "> <\n",
    "\n",
    "Greater than or equal to \n",
    "> \\>= \n",
    "\n",
    "Less than or equal to\n",
    "> <="
   ]
  },
  {
   "cell_type": "code",
   "execution_count": 39,
   "id": "a1fef763",
   "metadata": {},
   "outputs": [
    {
     "name": "stdout",
     "output_type": "stream",
     "text": [
      "is x equal to y?  False\n",
      "is x greater than y?  False\n",
      "is x less than y?  True\n",
      "is x greater than or equal to y?  False\n",
      "is x less than or equal to y?  True\n",
      "is x not equal to y?  True\n"
     ]
    }
   ],
   "source": [
    "x = 10\n",
    "y = 20\n",
    "\n",
    "print(\"is x equal to y? \", x == y)\n",
    "print(\"is x greater than y? \", x > y)\n",
    "print(\"is x less than y? \", x < y)\n",
    "print(\"is x greater than or equal to y? \", x >= y)\n",
    "print(\"is x less than or equal to y? \", x <= y)\n",
    "print(\"is x not equal to y? \", x != y)\n"
   ]
  },
  {
   "cell_type": "markdown",
   "id": "25f0e601",
   "metadata": {},
   "source": [
    "_Note_ There are also Identity Operators, which compare the objects, not if the objects, or variables, hold the same value, but rather, if they are actually the same object in the same memory location.\n",
    "\n",
    "> is \n",
    "\n",
    "> is not"
   ]
  },
  {
   "cell_type": "code",
   "execution_count": 48,
   "id": "f0a67bb9",
   "metadata": {},
   "outputs": [
    {
     "name": "stdout",
     "output_type": "stream",
     "text": [
      "False\n",
      "True\n",
      "But when only comparing the values, the result is True\n"
     ]
    }
   ],
   "source": [
    "x = [\"apples\", \"bananas\"] #This is a list, we will see it later in this notebook\n",
    "y = [\"apples\", \"bananas\"]\n",
    "z = x\n",
    "\n",
    "print(x is y)\n",
    "print(x is z)\n",
    "print(\"But when only comparing the values, the result is\", x == y)"
   ]
  },
  {
   "cell_type": "markdown",
   "id": "ed7095b5",
   "metadata": {},
   "source": [
    "#### <a id = 7> E. Logical Operators </a>\n",
    "Logical operators are used to combine conditional statements.\n",
    "\n",
    "and - returns true if both statement are True \n",
    "\n",
    "or - returns true if one of the statements are True\n",
    "\n",
    "not - reverses the results, returns False if the result is True"
   ]
  },
  {
   "cell_type": "code",
   "execution_count": 51,
   "id": "5c4659f6",
   "metadata": {},
   "outputs": [
    {
     "name": "stdout",
     "output_type": "stream",
     "text": [
      "True\n",
      "True\n",
      "False\n"
     ]
    }
   ],
   "source": [
    "x = 10\n",
    "\n",
    "print(x > 5 and x < 20)\n",
    "\n",
    "print(x > 5 or x < 3)\n",
    "\n",
    "print(not(x > 5))"
   ]
  },
  {
   "cell_type": "markdown",
   "id": "dfc2e9bc",
   "metadata": {},
   "source": [
    "## <a id = 23> Notes on User Input and Python Syntax </a>\n",
    "\n",
    "#### User Input\n",
    "\n",
    "Sometimes we would like to take the value for a variable from the user. For this, Python provides a method called input(). When this function is called, the program will stop and wait for the user to type something. The program resumes when the user presses enter.\n",
    "\n",
    "In order to prompt string inputs:\n",
    "> str(input(\"You can add a prompt for user here\"))\n",
    "\n",
    "In order to prompt integer inputs:\n",
    "> int(input(\"You can add a prompt for user here\"))\n",
    "\n",
    "In order to prompt float inputs:\n",
    "> float(input(\"You can add a prompt for user here\"))\n",
    "\n",
    "#### Python Syntax \n",
    "\n",
    "* __Identation__ is very important in Python. It is used to indicate a block of code, and Python will automatically insert indentations. To avoid errors, make sure not to remove them when they are necessary and not to add any unnecessary identation. Keep an eye out for indentations in loops, conditionals, and function definition.\n",
    "* You can use __comments__ for in-code documentation by using the sharp symbol \"#\"\n",
    "* If comments are taking one or more than one line, they are called \"docstring,\" and can be started by using triple quotes at the beginning and end of the docstring \"\"\"\n"
   ]
  },
  {
   "cell_type": "code",
   "execution_count": 8,
   "id": "2d54b19c",
   "metadata": {},
   "outputs": [
    {
     "name": "stdout",
     "output_type": "stream",
     "text": [
      "Enter your age:10\n"
     ]
    },
    {
     "data": {
      "text/plain": [
       "'10'"
      ]
     },
     "execution_count": 8,
     "metadata": {},
     "output_type": "execute_result"
    }
   ],
   "source": []
  },
  {
   "cell_type": "markdown",
   "id": "856e3012",
   "metadata": {},
   "source": [
    "## <a id = 8> 3. Conditional Execution </a>\n",
    "\n",
    "Conditions allow us to control what the program does and perform different actions based on the statements. \n",
    "\n",
    "#### <a id = 9> A. Conditional Execution: if statement </a> \n",
    "The simplest form of conditional statements.\n",
    "\n",
    "Example: Write a program that prints “Fail” if a student gets a grade less than 10"
   ]
  },
  {
   "cell_type": "code",
   "execution_count": 55,
   "id": "85f7e025",
   "metadata": {},
   "outputs": [
    {
     "name": "stdout",
     "output_type": "stream",
     "text": [
      "Enter grade:5\n",
      "FAIL\n"
     ]
    }
   ],
   "source": [
    "grade = float(input(\"Enter grade:\"))\n",
    "\n",
    "if grade < 10:\n",
    "    print(\"FAIL\")"
   ]
  },
  {
   "cell_type": "code",
   "execution_count": 58,
   "id": "4d96ffd5",
   "metadata": {
    "scrolled": true
   },
   "outputs": [
    {
     "name": "stdout",
     "output_type": "stream",
     "text": [
      "Enter grade:10\n"
     ]
    }
   ],
   "source": [
    "grade = float(input(\"Enter grade:\"))\n",
    "\n",
    "if grade < 10:\n",
    "    print(\"FAIL\")"
   ]
  },
  {
   "cell_type": "markdown",
   "id": "78bb446f",
   "metadata": {},
   "source": [
    "#### <a id = 10> B. Alternative Execution: if...else... statement </a>\n",
    "This is another form of conditional statements is one in which there are two mutually exclusive possibilities.\n",
    "\n",
    "Example: Write a program that prints “Fail” if a student gets a grade less than 10 and “Pass” otherwise.\n"
   ]
  },
  {
   "cell_type": "code",
   "execution_count": 59,
   "id": "03851f2b",
   "metadata": {},
   "outputs": [
    {
     "name": "stdout",
     "output_type": "stream",
     "text": [
      "Enter grade:10\n",
      "PASS\n"
     ]
    }
   ],
   "source": [
    "grade = float(input(\"Enter grade:\"))\n",
    "\n",
    "if grade < 10:\n",
    "    print(\"FAIL\")\n",
    "else:\n",
    "    print(\"PASS\")"
   ]
  },
  {
   "cell_type": "code",
   "execution_count": 60,
   "id": "d6e9d6d4",
   "metadata": {},
   "outputs": [
    {
     "name": "stdout",
     "output_type": "stream",
     "text": [
      "Enter grade:5\n",
      "FAIL\n"
     ]
    }
   ],
   "source": [
    "grade = float(input(\"Enter grade:\"))\n",
    "\n",
    "if grade < 10:\n",
    "    print(\"FAIL\")\n",
    "else:\n",
    "    print(\"PASS\")"
   ]
  },
  {
   "cell_type": "markdown",
   "id": "b5a2a700",
   "metadata": {},
   "source": [
    "#### <a id= 11> C. Chained Conditionals: If... elif... else </a>\n",
    "In this case, there are more than two mutually exclusice possibilities. \n",
    "\n",
    "Example: Write a program that prints “Fail” if grade is less than 10, “Good” if grade is between 10 and 15, “Very Good” if grade is more than 15.\n"
   ]
  },
  {
   "cell_type": "code",
   "execution_count": 63,
   "id": "07359b91",
   "metadata": {},
   "outputs": [
    {
     "name": "stdout",
     "output_type": "stream",
     "text": [
      "Enter grade:5\n",
      "FAIL\n"
     ]
    }
   ],
   "source": [
    "grade = float(input(\"Enter grade:\"))\n",
    "\n",
    "if grade < 10:\n",
    "    print(\"FAIL\")\n",
    "elif grade >= 10 and grade <= 15:\n",
    "    print(\"GOOD\")\n",
    "else:\n",
    "    print(\"VERY GOOD\")"
   ]
  },
  {
   "cell_type": "code",
   "execution_count": 64,
   "id": "86d1ae45",
   "metadata": {},
   "outputs": [
    {
     "name": "stdout",
     "output_type": "stream",
     "text": [
      "Enter grade:12\n",
      "GOOD\n"
     ]
    }
   ],
   "source": [
    "grade = float(input(\"Enter grade:\"))\n",
    "\n",
    "if grade < 10:\n",
    "    print(\"FAIL\")\n",
    "elif grade >= 10 and grade <= 15:\n",
    "    print(\"GOOD\")\n",
    "else:\n",
    "    print(\"VERY GOOD\")"
   ]
  },
  {
   "cell_type": "code",
   "execution_count": 65,
   "id": "ba9ce478",
   "metadata": {},
   "outputs": [
    {
     "name": "stdout",
     "output_type": "stream",
     "text": [
      "Enter grade:16\n",
      "VERY GOOD\n"
     ]
    }
   ],
   "source": [
    "grade = float(input(\"Enter grade:\"))\n",
    "\n",
    "if grade < 10:\n",
    "    print(\"FAIL\")\n",
    "elif grade >= 10 and grade <= 15:\n",
    "    print(\"GOOD\")\n",
    "else:\n",
    "    print(\"VERY GOOD\")"
   ]
  },
  {
   "cell_type": "markdown",
   "id": "50a92fc7",
   "metadata": {},
   "source": [
    "## <a id=12> 4. Loops </a>\n",
    "A loop is used to repeat a specific block of code until a certain condition is reached.\n",
    "\n",
    "Note that each instance the loop body is executed is called an **iteration**\n",
    "    \n",
    "#### <a id = 13> A. Definite, Finite Loop: for loop </a>\n",
    "    \n",
    "The for loop is used to repeat a block of code for a **known** number of times or over a **finite set of items**\n",
    "\n",
    "Example: Write a program to add the sequence of numbers from 1 to 100.\n"
   ]
  },
  {
   "cell_type": "code",
   "execution_count": 69,
   "id": "feb150f5",
   "metadata": {},
   "outputs": [
    {
     "name": "stdout",
     "output_type": "stream",
     "text": [
      "5050\n"
     ]
    }
   ],
   "source": [
    "total = 0\n",
    "\n",
    "for i in range(1,101):\n",
    "    total = total + i \n",
    "print(total)"
   ]
  },
  {
   "cell_type": "markdown",
   "id": "1d6ae463",
   "metadata": {},
   "source": [
    "Example 2: Write a program that displays the even numbers from 1 to 100."
   ]
  },
  {
   "cell_type": "code",
   "execution_count": 70,
   "id": "572f72b7",
   "metadata": {},
   "outputs": [
    {
     "name": "stdout",
     "output_type": "stream",
     "text": [
      "[2, 4, 6, 8, 10, 12, 14, 16, 18, 20, 22, 24, 26, 28, 30, 32, 34, 36, 38, 40, 42, 44, 46, 48, 50, 52, 54, 56, 58, 60, 62, 64, 66, 68, 70, 72, 74, 76, 78, 80, 82, 84, 86, 88, 90, 92, 94, 96, 98, 100]\n"
     ]
    }
   ],
   "source": [
    "EvenNums = []\n",
    "\n",
    "for i in range (1,101):\n",
    "    if i%2 == 0:\n",
    "        EvenNums.append(i)\n",
    "print(EvenNums)"
   ]
  },
  {
   "cell_type": "markdown",
   "id": "dfda08cd",
   "metadata": {},
   "source": [
    "#### <a id = 14> B. Indefinite, Finite Loop: while loop </a>\n",
    "The while loop is used to repeat a block of code for as long as a certain condition is true.\n",
    "\n",
    "Example: write a program that displays the even numbers from 1 to 100 using a While loop"
   ]
  },
  {
   "cell_type": "code",
   "execution_count": 72,
   "id": "4348966f",
   "metadata": {},
   "outputs": [
    {
     "name": "stdout",
     "output_type": "stream",
     "text": [
      "[2, 4, 6, 8, 10, 12, 14, 16, 18, 20, 22, 24, 26, 28, 30, 32, 34, 36, 38, 40, 42, 44, 46, 48, 50, 52, 54, 56, 58, 60, 62, 64, 66, 68, 70, 72, 74, 76, 78, 80, 82, 84, 86, 88, 90, 92, 94, 96, 98, 100]\n"
     ]
    }
   ],
   "source": [
    "EvenNums = []\n",
    "counter = 1\n",
    "\n",
    "while counter <= 100:\n",
    "    if counter%2 == 0:\n",
    "        EvenNums.append(counter)\n",
    "    counter = counter + 1\n",
    "\n",
    "print(EvenNums)"
   ]
  },
  {
   "cell_type": "markdown",
   "id": "862fabac",
   "metadata": {},
   "source": [
    "Example: Write a program that keeps asking the student to input their password until it is correct. \n",
    "Assume that every student at FEPS is issued an email with a unified password “FEPS12345”. If the password is correct, the student gets the message “you are now logged in” Otherwise, print \"incorrect password, please try again\""
   ]
  },
  {
   "cell_type": "code",
   "execution_count": 18,
   "id": "bef7d19c",
   "metadata": {},
   "outputs": [
    {
     "name": "stdout",
     "output_type": "stream",
     "text": [
      "Enter your password:12\n",
      "Incorrect password, please try again\n",
      "Enter your password:feps12345\n",
      "Incorrect password, please try again\n",
      "Enter your password:FEPS12345\n",
      "You are now logged in\n"
     ]
    }
   ],
   "source": [
    "correctPassword = \"FEPS12345\"\n",
    "password = None # To initialize a variable with a null value, or no value at all. \n",
    "\n",
    "while password != correctPassword:\n",
    "    password = str(input(\"Enter your password:\"))\n",
    "    if password == correctPassword:\n",
    "        print(\"You are now logged in\")\n",
    "    else:\n",
    "        print(\"Incorrect password, please try again\")"
   ]
  },
  {
   "cell_type": "markdown",
   "id": "ced80812",
   "metadata": {},
   "source": [
    "#### <a id = 15> C. Infinite Loops </a>\n",
    "\n",
    "Infinite loops are loops that will keep on running forever, unless one \"breaks\" the loop.\n",
    "\n",
    "Infinite loops could by unintentional (a mistake) or intentional (until a break statement is input by the user)\n",
    "\n",
    "Example of an unintentional infinite loop: not setting or incrementing a counter correctly in a while loop."
   ]
  },
  {
   "cell_type": "code",
   "execution_count": null,
   "id": "5a6a7d19",
   "metadata": {},
   "outputs": [],
   "source": [
    "counter = 1 \n",
    "\n",
    "while counter <=10:\n",
    "    print(\"Hello World!)"
   ]
  },
  {
   "cell_type": "markdown",
   "id": "8debb23d",
   "metadata": {},
   "source": [
    "Example: Write a program that keeps asking the student to input their password until it is correct. Assume that every student at FEPS is issued an email with a unified password “FEPS12345”. If the password is correct, the student gets the message “you are now logged in” Otherwise, print \"incorrect password, please try again\""
   ]
  },
  {
   "cell_type": "code",
   "execution_count": 75,
   "id": "a07bca8e",
   "metadata": {},
   "outputs": [
    {
     "name": "stdout",
     "output_type": "stream",
     "text": [
      "Enter your password:1\n",
      "Incorrect password, please try again\n",
      "Enter your password:2\n",
      "Incorrect password, please try again\n",
      "Enter your password:FEPS12345\n",
      "You are now logged in\n"
     ]
    }
   ],
   "source": [
    "correctPassword = \"FEPS12345\"\n",
    "\n",
    "while True: # To set up an infinite loop\n",
    "    password = str(input(\"Enter your password:\"))\n",
    "    if password == correctPassword:\n",
    "        print(\"You are now logged in\")\n",
    "        break # To break infinite loop\n",
    "    else:\n",
    "        print(\"Incorrect password, please try again\")"
   ]
  },
  {
   "cell_type": "markdown",
   "id": "1aab57ca",
   "metadata": {},
   "source": [
    "## <a id=16>5. Functions</a>\n",
    "\n",
    "A function is a named sequence of statements that perform a computation or a specific task. There are Python built-in functions, and there are user-defined functions. When one defines a function, one specifies the name of the function and the sequence of statements. Then, one can call the function by its name.\n",
    "\n",
    "#### <a id = 17> A. Built-in Functions </a>\n",
    "\n",
    "Built-in functions are ones that are already defined in Python libraries and can be called directly.\n",
    "\n",
    "The following are examples of built-in functions:\n",
    "\n",
    "> max()\n",
    "\n",
    "returns the maximum\n",
    "\n",
    "> min() \n",
    "\n",
    "returns the minimum \n",
    "\n",
    "> len()\n",
    "\n",
    "returns the number of items\n",
    "\n",
    "> type()\n",
    "\n",
    "returns the type of a variable\n",
    "\n",
    "There are also type conversion functions, such as:\n",
    "\n",
    "> int()\n",
    "\n",
    "converts a value into an integer\n",
    "\n",
    "> float()\n",
    "\n",
    "converts a value into a float\n",
    "\n",
    "> str()\n",
    "\n",
    "converts a value into a string\n",
    "\n",
    "Also, Python has a math module that provides most of the familiar mathematical functions. In order to use a module, it must be imported first \n",
    "\n",
    "> import math\n",
    "\n",
    "Then, we can call any function from the module by specifying the name of the module and the name of the function, separated by a dot.\n",
    "\n",
    "> math.log2()\n",
    "\n",
    "To check out all functions in the math module, check out https://docs.python.org/3/library/math.html"
   ]
  },
  {
   "cell_type": "code",
   "execution_count": 11,
   "id": "a700e107",
   "metadata": {},
   "outputs": [
    {
     "name": "stdout",
     "output_type": "stream",
     "text": [
      "What is the largest item in the list in variable, b? 4\n",
      "What is the length of characters in variable, a? 11\n",
      "<class 'str'>\n",
      "<class 'list'>\n",
      "The variable c holds a variable of type <class 'int'> and we can use one of the type conversion functions on it, so d is of type <class 'float'>\n",
      "512\n",
      "512.0\n"
     ]
    }
   ],
   "source": [
    "a = \"Hello World\"\n",
    "b = [1,2,3,4]\n",
    "\n",
    "print(\"What is the largest item in b?\", max(b))\n",
    "\n",
    "print(\"What is the length of a?\", len(a)) #Note that the space is considered a character \n",
    "\n",
    "#We have already seen the type() function to check the variables' type/class\n",
    "print(type(a))\n",
    "print(type(b))\n",
    "\n",
    "c = 512\n",
    "d = float(d)\n",
    "\n",
    "print(\"The variable c holds a variable of type\", type(c), \"and we can use one of the type conversion functions on it, so d is of type\", type(d))\n",
    "\n",
    "print(c)\n",
    "print(d)"
   ]
  },
  {
   "cell_type": "code",
   "execution_count": 16,
   "id": "9f837937",
   "metadata": {},
   "outputs": [
    {
     "name": "stdout",
     "output_type": "stream",
     "text": [
      "The following function gets the factorial of x 362880\n",
      "The following function gets the square root of x 3.0\n"
     ]
    }
   ],
   "source": [
    "import math \n",
    "\n",
    "x = 9\n",
    "\n",
    "print(\"The following function gets the factorial of x\", math.factorial(x))\n",
    "\n",
    "print(\"The following function gets the square root of x\", math.sqrt(x))\n"
   ]
  },
  {
   "cell_type": "markdown",
   "id": "f645af52",
   "metadata": {},
   "source": [
    "#### <a id=18>B. User-defined Functions </a>\n",
    "\n",
    "One defines a function for reusability. In order to avoid rewriting the same chunk of code over and over again, one can define a function once and call it whenever it is necessary in the program. \n",
    "\n",
    "A function **definition** specifies the name of a new function and the sequence of statements that execute when the function is **called**. Function definition generates no output, the function executes only when it’s called.\n",
    "\n",
    "def function_name(arguments):\n",
    "\n",
    "       statements to execute when the function is called\n",
    "       return return_value\n",
    "       \n",
    "**def** is a keyword to define a function.\n",
    "\n",
    "**function_name** is the name of the function; function names follow the same rules of variable names.\n",
    "\n",
    "**arguments** are the parameters of the function. They are optional, some functions may require no parameters, and some functions may require one or more parameters. If a function has no arguments, the function_name is followed by empty parantheses. *def function_name():*\n",
    "\n",
    "**return** is a keyword to mark the function's return value. This is optional because a function may or may not return a value when called.\n",
    "\n",
    "Example: Write a Python function that takes one argument, integer days, and print how many weeks and days it is.\n"
   ]
  },
  {
   "cell_type": "code",
   "execution_count": 2,
   "id": "46d54e42",
   "metadata": {},
   "outputs": [],
   "source": [
    "#Defining a function does not generate any output\n",
    "def readable_time(days):\n",
    "    numWeeks = int(days/7)\n",
    "    numRemainingDays = days % 7\n",
    "    print(days, \"is equivalent to\", numWeeks, \"weeks and\", numRemainingDays, \"days\")"
   ]
  },
  {
   "cell_type": "code",
   "execution_count": 7,
   "id": "340fded1",
   "metadata": {},
   "outputs": [
    {
     "name": "stdout",
     "output_type": "stream",
     "text": [
      "Enter the number of days to be converted: 100\n",
      "100 is equivalent to 14 weeks and 2 days\n"
     ]
    }
   ],
   "source": [
    "a = int(input(\"Enter the number of days to be converted: \"))\n",
    "readable_time(a)"
   ]
  },
  {
   "cell_type": "markdown",
   "id": "60c1ac0a",
   "metadata": {},
   "source": [
    "Example: Write a Python function to find the max of three numbers."
   ]
  },
  {
   "cell_type": "code",
   "execution_count": 4,
   "id": "606c9e1e",
   "metadata": {},
   "outputs": [],
   "source": [
    "#Defining a function does not generate any output\n",
    "def greatest_num(x,y,z):\n",
    "    if x > y and x > z:\n",
    "        result = x\n",
    "    elif y > x and y > z:\n",
    "        result = y\n",
    "    elif z > x and z > y:\n",
    "        result = z\n",
    "    else:\n",
    "        result = \"All three numbers are equal\"\n",
    "    return result  # return keyword allows you to save the result variable"
   ]
  },
  {
   "cell_type": "code",
   "execution_count": 6,
   "id": "990be7d1",
   "metadata": {},
   "outputs": [
    {
     "name": "stdout",
     "output_type": "stream",
     "text": [
      "Enter first number: 1\n",
      "Enter second number: 2\n",
      "Enter third number: 3\n",
      "The greatest number is 3\n"
     ]
    }
   ],
   "source": [
    "a = int(input(\"Enter first number: \"))\n",
    "b = int(input(\"Enter second number: \"))\n",
    "c = int(input(\"Enter third number: \"))\n",
    "\n",
    "get_great = greatest_num(a,b,c)\n",
    "print(\"The greatest number is\", get_great)"
   ]
  },
  {
   "cell_type": "markdown",
   "id": "e1198c78",
   "metadata": {},
   "source": [
    "## <a id = 24> Notes on Variable Scope</a>\n",
    "\n",
    "A scope of a variable identifies where it can be accessed (to read or update its value). A variable can be classified into two types according to its scope: **local** or **global**\n",
    "\n",
    "* A local variable is initialized inside a function, and it is only accessible inside its function. If you try to use a local variable outside its function, you get a **NameError** \n",
    "\n",
    "\n",
    "* A global variable is initialized outside functions, and it is accessible (for reading) anywhere in the program, whether it is inside or outside functions\n",
    "\n",
    "    * In order to change the value of a global variable inside a function, you have to redefine it inside the function using the **global** keyword."
   ]
  },
  {
   "cell_type": "markdown",
   "id": "d44e9918",
   "metadata": {},
   "source": [
    "## <a id=19> 6. Data Structures </a>\n",
    "Data Structures are a way of organizing data so that it can be accessed more efficiently depending upon the situation. \n",
    "####  <a id=20> A. Lists </a>\n",
    "A list is a sequence of values. The values in a list are called elements, or items. The elements in a list can be of any type: numbers (whether integers or float), strings, other lists, or it could be a mix of multiple types.\n",
    "\n",
    "The simplest way to create a new list is to enclose the items in a square bracket **[ ]** or **list()** function.\n",
    "\n",
    "List items are accessible by referring to their index number. Indexing starts at 0 to len-1 in Python. The method **index()** can be used to search the list for a specified item and return its index; however, note that if there are more than one instances, only the first instance's index will be returned. \n",
    "\n",
    "Lists are mutable (changeable), you can change the order of items in a list, reassign an item in a list, delete an item, or add an item. "
   ]
  },
  {
   "cell_type": "code",
   "execution_count": 12,
   "id": "5ccb7c24",
   "metadata": {},
   "outputs": [
    {
     "name": "stdout",
     "output_type": "stream",
     "text": [
      "Ali\n",
      "Marina\n",
      "Ali\n",
      "Marina\n",
      "List before change:  ['Ali', 'Adam', 'Mina', 'Mariam', 'Tina', 'Marina']\n",
      "List after change: ['Adam', 'Adam', 'Mina', 'Mariam', 'Tina', 'Marina']\n",
      "Searching for Adam after index 0/starting index 1 results in:  1\n"
     ]
    }
   ],
   "source": [
    "students = [\"Ali\", \"Adam\", \"Mina\", \"Mariam\", \"Tina\", \"Marina\"]\n",
    "\n",
    "print(students[0])\n",
    "print(students[len(students)-1])\n",
    "\n",
    "# Negative indexing: it is equivalent to students[len(students)-x]\n",
    "print(students[-6])\n",
    "print(students[-1])\n",
    "\n",
    "print(\"List before change: \", students)\n",
    "students[0] = \"Adam\"\n",
    "print(\"List after change:\", students)\n",
    "\n",
    "students.index(\"Adam\")\n",
    "\n",
    "# You can ask the index() method to search starting a certain index\n",
    "print(\"Searching for Adam after index 0/starting index 1 results in: \", students.index(\"Adam\",1))"
   ]
  },
  {
   "cell_type": "markdown",
   "id": "55b90e32",
   "metadata": {},
   "source": [
    "### List Operators and Methods\n",
    "\n",
    "**List Operators:**\n",
    "\n",
    "The **+** operator concatenates lists.\n",
    "\n",
    "The * operator repeats a list a given number of times\n",
    "\n",
    "The slice operators work on lists, ex: listName[0:3] prints items at index 0, 1 and 2.\n",
    "\n",
    "**del** operator deletes an element based on its index. \n",
    "\n",
    "**List Methods:**\n",
    "\n",
    "**listName.append()** adds a new element to the end of a list.\n",
    "\n",
    "**listName.extend()** takes a list as an _argument_ and appends all of the elements.\n",
    "\n",
    "**listName.sort()** arranges the elements of the list from low to high. \n",
    "\n",
    "**listName.count()** counts the number of times a specified value occurs in a list.\n",
    "\n",
    "**listName.remove()** removes a specified element (not its index) from the list; however, be cautious as this method removes the first instance of the element. "
   ]
  },
  {
   "cell_type": "code",
   "execution_count": 25,
   "id": "5b30be8f",
   "metadata": {},
   "outputs": [
    {
     "name": "stdout",
     "output_type": "stream",
     "text": [
      "Using the + operator:  ['Adam', 'Adam', 'Mina', 'Mariam', 'Tina', 'Marina', 4, 4, 5, 6, 6, 7]\n",
      "Using the * operator:  ['Adam', 'Adam', 'Mina', 'Mariam', 'Tina', 'Marina', 'Adam', 'Adam', 'Mina', 'Mariam', 'Tina', 'Marina']\n",
      "Using the slice operator:  ['Adam', 'Adam', 'Mina']\n",
      "Before using del operator:  ['Adam', 'Adam', 'Mina', 'Mariam', 'Tina', 'Marina']\n",
      "After using the del operator:  ['Adam', 'Adam', 'Mina', 'Tina', 'Marina']\n",
      "After using the .append() method:  ['Adam', 'Adam', 'Mina', 'Tina', 'Marina', 'Mariam']\n",
      "After using the .sort() method:  ['Adam', 'Adam', 'Mariam', 'Marina', 'Mina', 'Tina']\n",
      "The number of times Adam is found in the list of students:  2\n",
      "After using the .remove() method:  ['Adam', 'Mariam', 'Marina', 'Mina', 'Tina']\n",
      "After using the .extend() method:  ['Adam', 'Mariam', 'Marina', 'Mina', 'Tina', 4, 4, 5, 6, 6, 7]\n"
     ]
    }
   ],
   "source": [
    "students = [\"Adam\", \"Adam\", \"Mina\", \"Mariam\", \"Tina\", \"Marina\"]\n",
    "grades = [4,4,5,6,6,7]\n",
    "\n",
    "# List operators \n",
    "students_grades = students + grades\n",
    "\n",
    "print(\"Using the + operator: \", students_grades)\n",
    "\n",
    "print(\"Using the * operator: \", students*2)\n",
    "\n",
    "print(\"Using the slice operator: \", students[0:3])\n",
    "\n",
    "print(\"Before using del operator: \", students)\n",
    "del students[3]\n",
    "print(\"After using the del operator: \", students )\n",
    "\n",
    "# List methods\n",
    "\n",
    "students.append(\"Mariam\")\n",
    "\n",
    "print(\"After using the .append() method: \", students)\n",
    "\n",
    "students.sort()\n",
    "\n",
    "print(\"After using the .sort() method: \", students)\n",
    "\n",
    "print(\"The number of times Adam is found in the list of students: \", students.count(\"Adam\"))\n",
    "\n",
    "students.remove(\"Adam\")\n",
    "\n",
    "print(\"After using the .remove() method: \", students)\n",
    "\n",
    "students.extend(grades)\n",
    "\n",
    "print(\"After using the .extend() method: \", students)"
   ]
  },
  {
   "cell_type": "markdown",
   "id": "77f842a6",
   "metadata": {},
   "source": [
    "#### Traversing a List \n",
    "\n",
    "One can traverse the items of a list, as in process each item on its own. Traversing can be done through a for loop. \n",
    "\n",
    "Example: Update the list of grades to add 2 bonus points for each student.\n",
    "\n",
    "*Note range() is an exclusive range that begins at 0*"
   ]
  },
  {
   "cell_type": "code",
   "execution_count": 27,
   "id": "b714bddd",
   "metadata": {},
   "outputs": [
    {
     "name": "stdout",
     "output_type": "stream",
     "text": [
      "[6, 6, 7, 8, 8, 9]\n"
     ]
    }
   ],
   "source": [
    "grades = [4, 4, 5, 6, 6, 7]\n",
    "\n",
    "for i in range(len(grades)):\n",
    "    grades[i] = grades[i] + 2\n",
    "\n",
    "print(grades)"
   ]
  },
  {
   "cell_type": "markdown",
   "id": "0cd3cd3e",
   "metadata": {},
   "source": [
    "####  <a id=21> B. Dictionaries </a>\n",
    "\n",
    "A dictionary is similar to a list but more general. In a list, the index positions must be integers, but in a dictionary, the index (or rather the key) is almost of any type.\n",
    "\n",
    "A dictionary is composed of key-value pairs; thus, a dictionary maps between a set of keys and a set of values. The dictionary values can be duplicated, of any data type, and are mutable. However, dictionary **keys** are immutable and must be unique. Note that keys are _case sensitive_, so \"Detra\" is not \"detra\". \n",
    "\n",
    "A dictionary is mutable as items can be added or removed.\n",
    "\n",
    "A dictionary can be created using the function **dict()** or braces/curly brackets **{ }**.\n",
    "\n",
    "The slice operator **does not** work for a dictionary."
   ]
  },
  {
   "cell_type": "code",
   "execution_count": 29,
   "id": "b06e58b7",
   "metadata": {},
   "outputs": [
    {
     "name": "stdout",
     "output_type": "stream",
     "text": [
      "{'Detra': 17, 'Nova': 84, 'Charlie': 22, 'Henry': 75, 'Roxanne': 92, 'Elsa': 29}\n",
      "{'Detra': 17, 'Nova': 84, 'Charlie': 22, 'Henry': 75, 'Roxanne': 92, 'Elsa': 29}\n"
     ]
    }
   ],
   "source": [
    "results = {\"Detra\" : 17,\n",
    "          \"Nova\": 84,\n",
    "          \"Charlie\" : 22,\n",
    "          \"Henry\" : 75,\n",
    "          \"Roxanne\" : 92,\n",
    "          \"Elsa\" : 29}\n",
    "\n",
    "results1 = dict()\n",
    "results1[\"Detra\"] = 17\n",
    "results1[\"Nova\"] = 84\n",
    "results1[\"Charlie\"] = 22\n",
    "results1[\"Henry\"] = 75\n",
    "results1[\"Roxanne\"] = 92\n",
    "results1[\"Elsa\"] = 29\n",
    "\n",
    "print(results)\n",
    "\n",
    "print(results1)"
   ]
  },
  {
   "cell_type": "markdown",
   "id": "2297fc96",
   "metadata": {},
   "source": [
    "#### Accesing items in a Dictionary\n",
    "\n",
    "Items in a dictionary can be accessed similar to items in a list, by using the index, but in a dictionary, the index is instead a key. The keys can be used to look up the corresponding values.\n",
    "\n",
    "The **in** operator works on dictionares; it returns True if the key appears in the dictionary and False otherwise. \n",
    "\n",
    "The **method values()** returns the values of a dictionary as a list. This list can then be used along with the in operator to check whether a certain value appears as a value in a dictionary or not. \n",
    "\n",
    "To learn more about Python Dictionaries and their methods, https://www.geeksforgeeks.org/python-dictionary/ "
   ]
  },
  {
   "cell_type": "code",
   "execution_count": 46,
   "id": "9b4a985e",
   "metadata": {},
   "outputs": [
    {
     "name": "stdout",
     "output_type": "stream",
     "text": [
      "29\n",
      "Checking keys: True\n",
      "Checking keys: False\n",
      "Checking keys: False\n",
      "Checking values: False\n",
      "Checking values: True\n"
     ]
    }
   ],
   "source": [
    "results = {\"Detra\" : 17,\n",
    "          \"Nova\": 84,\n",
    "          \"Charlie\" : 22,\n",
    "          \"Henry\" : 75,\n",
    "          \"Roxanne\" : 92,\n",
    "          \"Elsa\" : 29}\n",
    "\n",
    "print(results[\"Elsa\"])\n",
    "\n",
    "print(\"Checking keys:\",(\"Roxanne\" in results))\n",
    "print(\"Checking keys:\",(\"Ahmed\" in results))\n",
    "print(\"Checking keys:\",(\"roxanne\" in results))\n",
    "\n",
    "valueList = list(results.values())\n",
    "\n",
    "print(\"Checking values:\", 100 in valueList)\n",
    "print(\"Checking values:\", 92 in valueList)"
   ]
  },
  {
   "cell_type": "markdown",
   "id": "02cfa476",
   "metadata": {},
   "source": [
    "####  <a id=22> C. Tuples </a>\n",
    "\n",
    "A tuple is a sequence of values, like a list. A tuple has values of any data type and is indexed by integer, but\n",
    "\n",
    "A tuple is **immutable**; thus, once a tuple is created, its items cannot be changed, no new items can be added, and no items an be removed.\n",
    "\n",
    "A tuple can be created using the function **tuple()** or using parantheses **( )**\n",
    "\n",
    "The slice operator works on tuples. Therefore, accessing items in a tuple is the same as accessing items in a list.\n",
    "\n",
    "To learn more about Python Tuples and their methods, https://www.geeksforgeeks.org/python-tuples/ "
   ]
  },
  {
   "cell_type": "code",
   "execution_count": 61,
   "id": "b2d1c7fd",
   "metadata": {},
   "outputs": [
    {
     "name": "stdout",
     "output_type": "stream",
     "text": [
      "('Detra', 'Nova', 'Charlie', 'Henry', 'Roxanne', 'Elsa')\n",
      "(17, 84, 22, 75, 92, 29)\n"
     ]
    }
   ],
   "source": [
    "names = (\"Detra\", \"Nova\", \"Charlie\", \"Henry\", \"Roxanne\", \"Elsa\")\n",
    "grades = tuple((17, 84, 22, 75, 92, 29))\n",
    "\n",
    "print(names)\n",
    "print(grades)"
   ]
  },
  {
   "cell_type": "code",
   "execution_count": 54,
   "id": "1c654cba",
   "metadata": {},
   "outputs": [
    {
     "ename": "TypeError",
     "evalue": "'tuple' object does not support item assignment",
     "output_type": "error",
     "traceback": [
      "\u001b[1;31m---------------------------------------------------------------------------\u001b[0m",
      "\u001b[1;31mTypeError\u001b[0m                                 Traceback (most recent call last)",
      "\u001b[1;32m~\\AppData\\Local\\Temp\\ipykernel_7620\\2310400572.py\u001b[0m in \u001b[0;36m<module>\u001b[1;34m\u001b[0m\n\u001b[1;32m----> 1\u001b[1;33m \u001b[0mnames\u001b[0m\u001b[1;33m[\u001b[0m\u001b[1;36m0\u001b[0m\u001b[1;33m]\u001b[0m \u001b[1;33m=\u001b[0m \u001b[1;34m\"Ali\"\u001b[0m\u001b[1;33m\u001b[0m\u001b[1;33m\u001b[0m\u001b[0m\n\u001b[0m",
      "\u001b[1;31mTypeError\u001b[0m: 'tuple' object does not support item assignment"
     ]
    }
   ],
   "source": [
    "names[0] = \"Ali\""
   ]
  },
  {
   "cell_type": "code",
   "execution_count": 62,
   "id": "4964b941",
   "metadata": {},
   "outputs": [
    {
     "name": "stdout",
     "output_type": "stream",
     "text": [
      "('Ali', 'Detra', 'Nova', 'Charlie', 'Henry', 'Roxanne', 'Elsa')\n"
     ]
    }
   ],
   "source": [
    "# A work around is to replace one tuple with another or redefining it.\n",
    "# This work around does NOT make tuples mutable.\n",
    "\n",
    "names = (\"Ali\",) + names[0:]\n",
    "print(names)\n"
   ]
  },
  {
   "cell_type": "code",
   "execution_count": 63,
   "id": "92cae2a0",
   "metadata": {},
   "outputs": [
    {
     "name": "stdout",
     "output_type": "stream",
     "text": [
      "('Ali', 'Detra', 'Nova', 'Henry', 'Roxanne', 'Elsa')\n"
     ]
    }
   ],
   "source": [
    "# Example to remove \"Charlie\"\n",
    "\n",
    "names = names[0:3] + names[4:]\n",
    "print(names)"
   ]
  },
  {
   "cell_type": "code",
   "execution_count": 64,
   "id": "cc032d1b",
   "metadata": {},
   "outputs": [
    {
     "name": "stdout",
     "output_type": "stream",
     "text": [
      "Henry\n",
      "(75, 92, 29)\n",
      "('Ali', 'Detra', 'Nova', 'Henry')\n"
     ]
    }
   ],
   "source": [
    "print(names[3])\n",
    "print(grades[3:])\n",
    "print(names[:4])"
   ]
  },
  {
   "cell_type": "code",
   "execution_count": 6,
   "id": "aa6f4241",
   "metadata": {},
   "outputs": [
    {
     "name": "stdout",
     "output_type": "stream",
     "text": [
      "Hi everyone! This is the value of x =  9\n"
     ]
    }
   ],
   "source": [
    "x = 9\n",
    "print(\"Hi everyone!\", \"This is the value of x = \", x)"
   ]
  },
  {
   "cell_type": "code",
   "execution_count": 3,
   "id": "1f8c60d5",
   "metadata": {},
   "outputs": [
    {
     "data": {
      "text/plain": [
       "9"
      ]
     },
     "execution_count": 3,
     "metadata": {},
     "output_type": "execute_result"
    }
   ],
   "source": [
    "x = 9\n",
    "x"
   ]
  }
 ],
 "metadata": {
  "kernelspec": {
   "display_name": "Python 3 (ipykernel)",
   "language": "python",
   "name": "python3"
  },
  "language_info": {
   "codemirror_mode": {
    "name": "ipython",
    "version": 3
   },
   "file_extension": ".py",
   "mimetype": "text/x-python",
   "name": "python",
   "nbconvert_exporter": "python",
   "pygments_lexer": "ipython3",
   "version": "3.9.13"
  }
 },
 "nbformat": 4,
 "nbformat_minor": 5
}
