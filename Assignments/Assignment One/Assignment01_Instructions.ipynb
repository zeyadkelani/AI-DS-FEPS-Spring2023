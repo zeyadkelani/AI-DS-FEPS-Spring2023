{
 "cells": [
  {
   "cell_type": "markdown",
   "id": "5f736e31",
   "metadata": {},
   "source": [
    "# Assignment One\n",
    "\n",
    "In this assignment, you will be practicing some of the skills you have gained in this course thus far. \n",
    "\n",
    "Only question one will make up your assignment grade. Question two is a bonus question; however, I highly recommend you answer it to practice pandas.\n",
    "\n",
    "**General Instructions:**\n",
    "* Although there is no problem in collaborating with your classmates, you'll derieve the highest value from this assignment if you work individually.\n",
    "* **IF** you do consult someone from your class, remember everyone has to submit their own version, \n",
    "* <font color = 'red'> and please indicate who you have discussed the assignment with in a separate markdown cell at the end of the notebook. </font>\n",
    "* If you are struggling with the assignment, please do not hesitate to email your TA (nour.abdelbaki@feps.edu.eg).\n",
    "    * However, you are advised to try and find resources to figure out the answers independently. We believe you can do it!\n",
    "    * <font color = 'red'> Be sure to link the resources you end up using in a comment in the relevant code cell. </font>\n",
    "* Before you get started, take your time to review loops, functions, data structures, and pandas. But remember, practice by doing is the best!\n",
    "### Due Date: March 25th, 11:59 PM. \n",
    "\n",
    "\n"
   ]
  },
  {
   "cell_type": "markdown",
   "id": "59cbdce3",
   "metadata": {},
   "source": [
    "### Question One\n",
    "\n",
    "**A. Generate a list of 60 random integers that range between 1 and 100.**\n"
   ]
  },
  {
   "cell_type": "code",
   "execution_count": null,
   "id": "c7873d50",
   "metadata": {},
   "outputs": [],
   "source": [
    "## Your answer here!"
   ]
  },
  {
   "cell_type": "markdown",
   "id": "8240e968",
   "metadata": {},
   "source": [
    "**B. Create a function that creates a list with only the unique items from the list generated in A and the list below.** "
   ]
  },
  {
   "cell_type": "code",
   "execution_count": null,
   "id": "de78b559",
   "metadata": {},
   "outputs": [],
   "source": [
    "myList = [85, 56, 86, 20, 16, 58, 47, 19, 5, 15, 53, 17, 34, 89, 19, 37, 80, 42, 51, 32, 98, 29, 77, 63, 12, 58, 34, 99, 26, 41, 60, 75, 10, 79, 22, 66, 65, 53, 16, 59, 42, 81, 89, 79, 5, 51, 38, 48, 53, 50, 29]"
   ]
  },
  {
   "cell_type": "code",
   "execution_count": null,
   "id": "fee2481a",
   "metadata": {},
   "outputs": [],
   "source": [
    "## Your answer here!"
   ]
  },
  {
   "cell_type": "markdown",
   "id": "954f895e",
   "metadata": {},
   "source": [
    "**C.1 How many items are in the list generated in A? How many of these were unique?**"
   ]
  },
  {
   "cell_type": "code",
   "execution_count": null,
   "id": "55c80f38",
   "metadata": {},
   "outputs": [],
   "source": [
    "## Your answer here!"
   ]
  },
  {
   "cell_type": "markdown",
   "id": "93baa245",
   "metadata": {},
   "source": [
    "**C.2 How many items are in the provided list in B? How many of these were unique?**"
   ]
  },
  {
   "cell_type": "code",
   "execution_count": null,
   "id": "38c8f39f",
   "metadata": {},
   "outputs": [],
   "source": [
    "## Your answer here!"
   ]
  },
  {
   "cell_type": "markdown",
   "id": "bd1f23d2",
   "metadata": {},
   "source": [
    "**C.3 How many items are in the new list?**"
   ]
  },
  {
   "cell_type": "code",
   "execution_count": null,
   "id": "b88aa0aa",
   "metadata": {},
   "outputs": [],
   "source": [
    "## Your answer here!"
   ]
  },
  {
   "cell_type": "markdown",
   "id": "8519ae4f",
   "metadata": {},
   "source": [
    "**D. Remove any integers that are between 50 and 60 from the new list generated in B.**"
   ]
  },
  {
   "cell_type": "code",
   "execution_count": null,
   "id": "f76d4b87",
   "metadata": {},
   "outputs": [],
   "source": [
    "## Your answer here!"
   ]
  },
  {
   "cell_type": "markdown",
   "id": "e8a030f8",
   "metadata": {},
   "source": [
    "### Question Two\n",
    "\n",
    "The provided CSV files are of the sales of an online store. \n",
    "\n",
    "**A. Load all provided CSV files and merge them into one dataframe.**  "
   ]
  },
  {
   "cell_type": "code",
   "execution_count": null,
   "id": "1daedf35",
   "metadata": {},
   "outputs": [],
   "source": [
    "## Your answer here!"
   ]
  },
  {
   "cell_type": "markdown",
   "id": "af92cc1d",
   "metadata": {},
   "source": [
    "**B. Aftering taking a general look over the dataframe, determine the required data cleaning steps and execute them.** \n",
    "\n",
    "*Be sure to add both the code that helped you determine the needed cleaning and the actual cleaning of the data.*"
   ]
  },
  {
   "cell_type": "code",
   "execution_count": null,
   "id": "d95fcd5f",
   "metadata": {},
   "outputs": [],
   "source": [
    "## Your answer here!"
   ]
  },
  {
   "cell_type": "markdown",
   "id": "9b37f9a2",
   "metadata": {},
   "source": [
    "**C. Extract the month of purchase from the column Order Date.**\n",
    "\n",
    "    Note: Date format is MM/DD/YY.\n",
    "\n",
    "    Tip: There is a built-in way to do this with pandas' to_datetime. \n",
    "    https://www.w3resource.com/pandas/to_datetime.php"
   ]
  },
  {
   "cell_type": "code",
   "execution_count": null,
   "id": "04a148dc",
   "metadata": {},
   "outputs": [],
   "source": [
    "## Your answer here!"
   ]
  },
  {
   "cell_type": "markdown",
   "id": "0064599f",
   "metadata": {},
   "source": [
    "**D. How much was made (in sales) each month? Indicate the highest earning month and the lowest earning month.**\n",
    "\n",
    "    Note: not all of the year's data is available"
   ]
  },
  {
   "cell_type": "code",
   "execution_count": null,
   "id": "62d6ae9b",
   "metadata": {},
   "outputs": [],
   "source": [
    "## Your answer here!"
   ]
  }
 ],
 "metadata": {
  "kernelspec": {
   "display_name": "Python 3 (ipykernel)",
   "language": "python",
   "name": "python3"
  },
  "language_info": {
   "codemirror_mode": {
    "name": "ipython",
    "version": 3
   },
   "file_extension": ".py",
   "mimetype": "text/x-python",
   "name": "python",
   "nbconvert_exporter": "python",
   "pygments_lexer": "ipython3",
   "version": "3.9.13"
  }
 },
 "nbformat": 4,
 "nbformat_minor": 5
}
