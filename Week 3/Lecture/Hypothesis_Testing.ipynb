{
 "cells": [
  {
   "cell_type": "markdown",
   "metadata": {},
   "source": [
    "Department of Political Science <br/>\n",
    "Faculty of Economics and Political Science <br/>\n",
    "Cairo University"
   ]
  },
  {
   "cell_type": "markdown",
   "metadata": {},
   "source": [
    "### P420 Introduction to Artificial Intelligence and Data Science in Empirical Political Science\n",
    "<br/>\n",
    "Dr. Zeyad Elkelani"
   ]
  },
  {
   "cell_type": "markdown",
   "metadata": {},
   "source": [
    "# Hypothesis Testing"
   ]
  },
  {
   "cell_type": "markdown",
   "metadata": {},
   "source": [
    "### Central limit theorem\n",
    "\n",
    "If you take sufficiently large samples from a population, the samples' means will be normally distributed, even if the population isn't normally distributed."
   ]
  },
  {
   "cell_type": "markdown",
   "metadata": {},
   "source": [
    "https://www.youtube.com/watch?v=7j-F2-0IRYk"
   ]
  },
  {
   "cell_type": "markdown",
   "metadata": {},
   "source": [
    "## T-Tests\n",
    "\n",
    "T tests are a statistical method used to compare the means of two or more samples. There are three types of T tests: <br/>\n",
    "\n",
    "* Paired T test: Used when we have two related samples (e.g., before and after treatment measurements of the same subject).<br/>\n",
    "\n",
    "* Unpaired T test: Used when we have two independent samples (e.g., two different groups of subjects).<br/>\n",
    "\n",
    "* One sample T test: Used when we have one sample and we want to compare its mean to a known value (e.g., the mean of the population).<br/>\n",
    "\n",
    "Before performing T tests, we need to check for normality and variance of the samples. \n",
    "* Normality means that the data follows a normal distribution, which is important for the T test to be valid. \n",
    "* Variance refers to how much the data points vary from the mean. If the variance is too high or too low, it can affect the T test results."
   ]
  },
  {
   "cell_type": "markdown",
   "metadata": {},
   "source": [
    "<img src=\"./t_tests.png\" alt=\"\" style=\"height: 400px; width:500px;\"/>"
   ]
  },
  {
   "cell_type": "markdown",
   "metadata": {},
   "source": [
    "## Paired T-Test\n",
    "<br/>\n",
    "A paired t-test is used when we want to compare two sets of paired observations. Suppose we have a hypothetical  dataset where we measure the approval ratings of a politician before and after a major policy announcement, for a sample of 20 voters."
   ]
  },
  {
   "cell_type": "code",
   "execution_count": 2,
   "metadata": {},
   "outputs": [],
   "source": [
    "import numpy as np\n",
    "import pandas as pd\n",
    "from scipy.stats import ttest_rel"
   ]
  },
  {
   "cell_type": "markdown",
   "metadata": {},
   "source": [
    "#### Data"
   ]
  },
  {
   "cell_type": "code",
   "execution_count": 9,
   "metadata": {},
   "outputs": [],
   "source": [
    "# Approval ratings before policy announcement\n",
    "before = [50, 55, 60, 45, 52, 48, 53, 47, 49, 52, 55, 46, 51, 48, 57, 50, 49, 54, 58, 50]\n",
    "\n",
    "# Approval ratings after policy announcement\n",
    "after = [55, 60, 65, 50, 58, 52, 56, 51, 53, 55, 58, 49, 54, 51, 60, 54, 53, 57, 62, 53]"
   ]
  },
  {
   "cell_type": "code",
   "execution_count": 10,
   "metadata": {},
   "outputs": [
    {
     "data": {
      "text/html": [
       "<div>\n",
       "<style scoped>\n",
       "    .dataframe tbody tr th:only-of-type {\n",
       "        vertical-align: middle;\n",
       "    }\n",
       "\n",
       "    .dataframe tbody tr th {\n",
       "        vertical-align: top;\n",
       "    }\n",
       "\n",
       "    .dataframe thead th {\n",
       "        text-align: right;\n",
       "    }\n",
       "</style>\n",
       "<table border=\"1\" class=\"dataframe\">\n",
       "  <thead>\n",
       "    <tr style=\"text-align: right;\">\n",
       "      <th></th>\n",
       "      <th>Before</th>\n",
       "      <th>After</th>\n",
       "    </tr>\n",
       "  </thead>\n",
       "  <tbody>\n",
       "    <tr>\n",
       "      <th>0</th>\n",
       "      <td>50</td>\n",
       "      <td>55</td>\n",
       "    </tr>\n",
       "    <tr>\n",
       "      <th>1</th>\n",
       "      <td>55</td>\n",
       "      <td>60</td>\n",
       "    </tr>\n",
       "    <tr>\n",
       "      <th>2</th>\n",
       "      <td>60</td>\n",
       "      <td>65</td>\n",
       "    </tr>\n",
       "    <tr>\n",
       "      <th>3</th>\n",
       "      <td>45</td>\n",
       "      <td>50</td>\n",
       "    </tr>\n",
       "    <tr>\n",
       "      <th>4</th>\n",
       "      <td>52</td>\n",
       "      <td>58</td>\n",
       "    </tr>\n",
       "    <tr>\n",
       "      <th>5</th>\n",
       "      <td>48</td>\n",
       "      <td>52</td>\n",
       "    </tr>\n",
       "    <tr>\n",
       "      <th>6</th>\n",
       "      <td>53</td>\n",
       "      <td>56</td>\n",
       "    </tr>\n",
       "    <tr>\n",
       "      <th>7</th>\n",
       "      <td>47</td>\n",
       "      <td>51</td>\n",
       "    </tr>\n",
       "    <tr>\n",
       "      <th>8</th>\n",
       "      <td>49</td>\n",
       "      <td>53</td>\n",
       "    </tr>\n",
       "    <tr>\n",
       "      <th>9</th>\n",
       "      <td>52</td>\n",
       "      <td>55</td>\n",
       "    </tr>\n",
       "    <tr>\n",
       "      <th>10</th>\n",
       "      <td>55</td>\n",
       "      <td>58</td>\n",
       "    </tr>\n",
       "    <tr>\n",
       "      <th>11</th>\n",
       "      <td>46</td>\n",
       "      <td>49</td>\n",
       "    </tr>\n",
       "    <tr>\n",
       "      <th>12</th>\n",
       "      <td>51</td>\n",
       "      <td>54</td>\n",
       "    </tr>\n",
       "    <tr>\n",
       "      <th>13</th>\n",
       "      <td>48</td>\n",
       "      <td>51</td>\n",
       "    </tr>\n",
       "    <tr>\n",
       "      <th>14</th>\n",
       "      <td>57</td>\n",
       "      <td>60</td>\n",
       "    </tr>\n",
       "    <tr>\n",
       "      <th>15</th>\n",
       "      <td>50</td>\n",
       "      <td>54</td>\n",
       "    </tr>\n",
       "    <tr>\n",
       "      <th>16</th>\n",
       "      <td>49</td>\n",
       "      <td>53</td>\n",
       "    </tr>\n",
       "    <tr>\n",
       "      <th>17</th>\n",
       "      <td>54</td>\n",
       "      <td>57</td>\n",
       "    </tr>\n",
       "    <tr>\n",
       "      <th>18</th>\n",
       "      <td>58</td>\n",
       "      <td>62</td>\n",
       "    </tr>\n",
       "    <tr>\n",
       "      <th>19</th>\n",
       "      <td>50</td>\n",
       "      <td>53</td>\n",
       "    </tr>\n",
       "  </tbody>\n",
       "</table>\n",
       "</div>"
      ],
      "text/plain": [
       "    Before  After\n",
       "0       50     55\n",
       "1       55     60\n",
       "2       60     65\n",
       "3       45     50\n",
       "4       52     58\n",
       "5       48     52\n",
       "6       53     56\n",
       "7       47     51\n",
       "8       49     53\n",
       "9       52     55\n",
       "10      55     58\n",
       "11      46     49\n",
       "12      51     54\n",
       "13      48     51\n",
       "14      57     60\n",
       "15      50     54\n",
       "16      49     53\n",
       "17      54     57\n",
       "18      58     62\n",
       "19      50     53"
      ]
     },
     "execution_count": 10,
     "metadata": {},
     "output_type": "execute_result"
    }
   ],
   "source": [
    "rating_df = pd.DataFrame(\n",
    "    {'Before': before,\n",
    "     'After': after })\n",
    "rating_df"
   ]
  },
  {
   "cell_type": "markdown",
   "metadata": {},
   "source": [
    "#### Hypotheses\n",
    "Null hypothesis (H0): There is no difference in the mean approval rating before and after the major policy announcement.\n",
    "\n",
    "Alternative hypothesis (HA): There is a difference in the mean approval rating before and after the major policy announcement.\n",
    "\n",
    "We can express these hypotheses mathematically as follows:\n",
    "\n",
    "H0: μd = 0\n",
    "\n",
    "HA: μd ≠ 0\n",
    "\n",
    "Where μd is the mean difference in mean approval rating before and after the election."
   ]
  },
  {
   "cell_type": "markdown",
   "metadata": {},
   "source": [
    "#### Shapiro-Wilk test\n",
    "Shapiro-Wilk test to check for normality. The Shapiro-Wilk test is a popular test for normality because it is fairly powerful and can handle small sample sizes. **The null hypothesis for the Shapiro-Wilk test is that the data is normally distributed**, so if the p-value is less than the significance level (usually 0.05), we reject the null hypothesis and conclude that the data is not normally distributed.\n",
    "#### Levene's test\n",
    "Levene's test is a common test for equal variances that is robust to deviations from normality.**The null hypothesis for Levene's test is that the variances of the two samples are equal**, so if the p-value is less than the significance level (usually 0.05), we reject the null hypothesis and conclude that the variances are not equal."
   ]
  },
  {
   "cell_type": "code",
   "execution_count": 15,
   "metadata": {},
   "outputs": [
    {
     "name": "stdout",
     "output_type": "stream",
     "text": [
      "Shapiro-Wilk test for normality for Before: statistic=0.969, p=0.739\n",
      "Sample for Before looks Gaussian (fail to reject H0)\n",
      "Shapiro-Wilk test for normality for After: statistic=0.960, p=0.546\n",
      "Sample for After looks Gaussian (fail to reject H0)\n"
     ]
    }
   ],
   "source": [
    "from scipy.stats import shapiro, levene\n",
    "stat, p = shapiro(before)\n",
    "print('Shapiro-Wilk test for normality for Before: statistic=%.3f, p=%.3f' % (stat, p))\n",
    "alpha = 0.05\n",
    "if p > alpha:\n",
    "    print('Sample for Before looks Gaussian (fail to reject H0)')\n",
    "else:\n",
    "    print('Sample for Before does not look Gaussian (reject H0)')\n",
    "    \n",
    "# Check normality assumption for group2\n",
    "stat, p = shapiro(after)\n",
    "print('Shapiro-Wilk test for normality for After: statistic=%.3f, p=%.3f' % (stat, p))\n",
    "alpha = 0.05\n",
    "if p > alpha:\n",
    "    print('Sample for After looks Gaussian (fail to reject H0)')\n",
    "else:\n",
    "    print('Sample for After does not look Gaussian (reject H0)')"
   ]
  },
  {
   "cell_type": "code",
   "execution_count": 16,
   "metadata": {},
   "outputs": [
    {
     "name": "stdout",
     "output_type": "stream",
     "text": [
      "Levene test for variance: statistic=0.004, p=0.951\n",
      "Variances are equal (fail to reject H0)\n"
     ]
    }
   ],
   "source": [
    "# Test for equal variances using Levene's test\n",
    "stat, p = levene(before, after)\n",
    "print('Levene test for variance: statistic=%.3f, p=%.3f' % (stat, p))\n",
    "alpha = 0.05\n",
    "if p > alpha:\n",
    "    print('Variances are equal (fail to reject H0)')\n",
    "else:\n",
    "    print('Variances are not equal (reject H0)')"
   ]
  },
  {
   "cell_type": "markdown",
   "metadata": {},
   "source": [
    "The output shows that the p-values for the normality tests are both above 0.05, which indicates that we can assume normality for both samples. The p-value for the equal variance test is also above 0.05, which indicates that we can assume equal variances.\n",
    "\n"
   ]
  },
  {
   "cell_type": "code",
   "execution_count": 17,
   "metadata": {},
   "outputs": [
    {
     "name": "stdout",
     "output_type": "stream",
     "text": [
      "T-statistic: -18.448\n",
      "p-value: 0.000\n"
     ]
    }
   ],
   "source": [
    "# Perform paired t-test\n",
    "t_statistic, p_value = ttest_rel(before, after)\n",
    "\n",
    "print(f'T-statistic: {t_statistic:.3f}')\n",
    "print(f'p-value: {p_value:.3f}')\n"
   ]
  },
  {
   "cell_type": "markdown",
   "metadata": {},
   "source": [
    "The output shows that the paired t-test yields a p-value of 0.002, which is less than the significance level of 0.05. This indicates that there is a significant difference between the approval ratings before and after the policy announcement.\n",
    "\n"
   ]
  },
  {
   "cell_type": "markdown",
   "metadata": {},
   "source": [
    "## Unpaired T-Test\n",
    "\n",
    "<br/>\n",
    "Unpaired t-tests are a type of statistical hypothesis test used to compare the means of two independent samples. They are often used in political science to test hypotheses about the differences between groups on certain variables, such as income, education level, or voting behavior.\n",
    "\n",
    "<br/>\n",
    "\n",
    "The null hypothesis for the unpaired t-test is that there is no difference between the means of the two groups. The alternative hypothesis is that there is a significant difference between the means of the two groups.\n",
    "<br/>\n",
    "\n",
    "Before we dive into the code, it's important to understand the assumptions of the unpaired t-test. There are three main assumptions:\n",
    "<br/>\n",
    "\n",
    "* Normality: The data in each sample should be normally distributed.\n",
    "* Equal variances: The variance of the data in each sample should be equal.\n",
    "* Independence: The two samples should be independent of each other.\n"
   ]
  },
  {
   "cell_type": "code",
   "execution_count": 20,
   "metadata": {},
   "outputs": [],
   "source": [
    "import numpy as np\n",
    "from scipy.stats import ttest_ind\n",
    "import matplotlib.pyplot as plt"
   ]
  },
  {
   "cell_type": "markdown",
   "metadata": {},
   "source": [
    "#### Data\n",
    "Let's create some hypothetical political data for two groups, Republicans and Democrats. We will assume that these groups represent the political preferences of voters in a particular state. We will randomly generate 100 values for each group using numpy's random.normal() function, which generates random numbers from a normal distribution."
   ]
  },
  {
   "cell_type": "code",
   "execution_count": 21,
   "metadata": {},
   "outputs": [],
   "source": [
    "np.random.seed(123)  # for reproducibility\n",
    "republicans = np.random.normal(loc=25, scale=5, size=100)\n",
    "democrats = np.random.normal(loc=30, scale=5, size=100)"
   ]
  },
  {
   "cell_type": "markdown",
   "metadata": {},
   "source": [
    "Here, we set the mean (loc) and standard deviation (scale) of the normal distribution for Republicans to 25 and 5, respectively. We set the same parameters for Democrats to 30 and 5."
   ]
  },
  {
   "cell_type": "markdown",
   "metadata": {},
   "source": [
    "### Stating Hypotheses: \n",
    "H0: The mean political preference of Republicans in the state is equal to the mean political preference of Democrats in the state.\n",
    "\n",
    "<br/>\n",
    "HA: The mean political preference of Republicans in the state is not equal to the mean political preference of Democrats in the state."
   ]
  },
  {
   "cell_type": "code",
   "execution_count": 22,
   "metadata": {},
   "outputs": [
    {
     "data": {
      "image/png": "[encoded data removed]",
      "text/plain": [
       "<Figure size 640x480 with 1 Axes>"
      ]
     },
     "metadata": {},
     "output_type": "display_data"
    }
   ],
   "source": [
    "plt.hist(republicans, alpha=0.5, label='Republicans')\n",
    "plt.hist(democrats, alpha=0.5, label='Democrats')\n",
    "plt.legend(loc='upper right')\n",
    "plt.show()"
   ]
  },
  {
   "cell_type": "code",
   "execution_count": 44,
   "metadata": {},
   "outputs": [
    {
     "name": "stdout",
     "output_type": "stream",
     "text": [
      "NormaltestResult(statistic=2.7252176285631102, pvalue=0.25599206929942736)\n",
      "NormaltestResult(statistic=5.130856446751394, pvalue=0.07688624990183247)\n"
     ]
    }
   ],
   "source": [
    "# Check Normality\n",
    "from scipy.stats import normaltest\n",
    "print(normaltest(republicans))\n",
    "print(normaltest(democrats))"
   ]
  },
  {
   "cell_type": "code",
   "execution_count": 45,
   "metadata": {},
   "outputs": [
    {
     "name": "stdout",
     "output_type": "stream",
     "text": [
      "LeveneResult(statistic=6.4269777068893825, pvalue=0.012012901633703213)\n"
     ]
    }
   ],
   "source": [
    "# Check Variance\n",
    "from scipy.stats import levene\n",
    "print(levene(republicans, democrats))"
   ]
  },
  {
   "cell_type": "code",
   "execution_count": 46,
   "metadata": {},
   "outputs": [
    {
     "name": "stdout",
     "output_type": "stream",
     "text": [
      "T-statistic: -6.38, p-value: 0.0000\n"
     ]
    }
   ],
   "source": [
    "# Perfrom Paired T-test\n",
    "t_stat, p_val = ttest_ind(republicans, democrats)\n",
    "print(f\"T-statistic: {t_stat:.2f}, p-value: {p_val:.4f}\")"
   ]
  },
  {
   "cell_type": "markdown",
   "metadata": {},
   "source": [
    "Based on our t-test results, we can conclude that the mean political preference of Democrats (mean = 30) is significantly higher than that of Republicans (mean = 25) in the state."
   ]
  },
  {
   "cell_type": "markdown",
   "metadata": {},
   "source": [
    "## One Sample T-Test"
   ]
  },
  {
   "cell_type": "markdown",
   "metadata": {},
   "source": [
    "A one-sample t-test is a statistical test used to determine whether a sample mean is significantly different from a known or hypothesized population mean. It is typically used when you have one sample of data and you want to test whether the sample mean is different from a known or hypothesized population mean.\n",
    "\n"
   ]
  },
  {
   "cell_type": "markdown",
   "metadata": {},
   "source": [
    "Before performing a one-sample t-test, there are several assumptions that must be checked:\n",
    "\n",
    "* Normality: The data must be normally distributed.\n",
    "* Independence: The observations must be independent of each other.\n",
    "* Random sampling: The data must be obtained through a random sampling process.\n",
    "* Homogeneity of variance: The variances of the populations from which the sample and the comparison population are drawn must be equal."
   ]
  },
  {
   "cell_type": "markdown",
   "metadata": {},
   "source": [
    "#### Data\n",
    "Let's say we want to test whether the average political ideology score of a sample of 100 people is significantly different from a known population mean of 5. We'll assume that the political ideology score is normally distributed."
   ]
  },
  {
   "cell_type": "code",
   "execution_count": 26,
   "metadata": {},
   "outputs": [
    {
     "name": "stdout",
     "output_type": "stream",
     "text": [
      "[4.4143694  6.49734545 5.7829785  3.99370529 4.92139975 7.15143654\n",
      " 3.07332076 5.07108737 6.76593626 4.6332596  4.82111385 5.40529103\n",
      " 6.99138963 4.861098   5.05601804 5.06564872 7.70593008 7.68678609\n",
      " 6.5040539  5.8861864  6.23736858 6.99073203 4.56416613 6.67582904\n",
      " 4.24611933 4.8622485  6.4071052  4.0713193  5.35993128 4.6382451\n",
      " 5.24438063 2.70141089 3.7284669  4.80012277 6.42746243 5.32636432\n",
      " 5.50284592 6.18822271 4.62046366 5.78362732 4.69463348 3.77233051\n",
      " 5.10910021 6.07380586 5.83858905 5.48816951 7.89236527 5.91291216\n",
      " 6.47873601 7.73814334 4.20591468 4.46121179 7.24371223 4.70193726\n",
      " 5.52968323 6.56931597 6.39070639 7.25488618 6.99564414 6.56939267\n",
      " 4.72729129 6.29486267 5.81427199 4.17373454 6.91729905 6.30723653\n",
      " 5.54549008 5.26690794 4.30169886 5.69952407 5.96843912 4.66884502\n",
      " 6.66220405 4.40279695 3.37689965 6.53972709 5.09663396 5.37397041\n",
      " 4.66248328 3.89403724 6.75523737 4.81113102 7.16095249 6.30730819\n",
      " 5.18524185 4.4140976  4.76753801 4.28747687 7.58711336 5.66444123\n",
      " 6.65020554 4.23264795 5.68103513 6.67786194 5.16498924 6.53111446\n",
      " 4.41543209 4.13652846 5.87940061 5.12082357]\n"
     ]
    }
   ],
   "source": [
    "import numpy as np\n",
    "\n",
    "np.random.seed(123)  # for reproducibility\n",
    "political_data = np.random.normal(5.5, 1, 100)\n",
    "print(political_data[:]) #Check data in np array"
   ]
  },
  {
   "cell_type": "markdown",
   "metadata": {},
   "source": [
    "This code generates 100 random numbers from a normal distribution with a mean of 5.5 and a standard deviation of 1. We'll assume that the mean political ideology score of the population is 5.\n",
    "\n"
   ]
  },
  {
   "cell_type": "markdown",
   "metadata": {},
   "source": [
    "#### Stating Hypotheses\n",
    "H0: μ = 5\n",
    "<br/>\n",
    "Ha: μ ≠ 5"
   ]
  },
  {
   "cell_type": "code",
   "execution_count": 27,
   "metadata": {},
   "outputs": [
    {
     "data": {
      "image/png": "[encoded data removed]",
      "text/plain": [
       "<Figure size 640x480 with 1 Axes>"
      ]
     },
     "metadata": {},
     "output_type": "display_data"
    },
    {
     "data": {
      "image/png": "[encoded data removed]",
      "text/plain": [
       "<Figure size 640x480 with 1 Axes>"
      ]
     },
     "metadata": {},
     "output_type": "display_data"
    }
   ],
   "source": [
    "import matplotlib.pyplot as plt\n",
    "import scipy.stats as stats\n",
    "\n",
    "# Histogram\n",
    "plt.hist(political_data)\n",
    "plt.title('Histogram of Political Data')\n",
    "plt.show()\n",
    "\n",
    "# Q-Q plot\n",
    "stats.probplot(political_data, plot=plt)\n",
    "plt.title('Q-Q Plot of Political Data')\n",
    "plt.show()\n"
   ]
  },
  {
   "cell_type": "markdown",
   "metadata": {},
   "source": [
    "Our code generates a histogram and a Q-Q plot of the political data. The histogram shows that the data appears to be normally distributed, and the Q-Q plot shows that the data follows a straight line fairly closely, indicating that it is normally distributed.\n",
    "\n",
    "Next, we'll check the independence assumption. Since the data was obtained through a random sampling process, we can assume that the observations are independent of each other.\n",
    "\n",
    "We'll also assume that the data was obtained through random sampling and that the variances of the population from which the sample and the comparison population are drawn are equal. These assumptions cannot be directly tested but can be checked using common sense and knowledge of the data collection process."
   ]
  },
  {
   "cell_type": "code",
   "execution_count": 28,
   "metadata": {},
   "outputs": [
    {
     "name": "stdout",
     "output_type": "stream",
     "text": [
      "t-statistic: 4.648538319899439\n",
      "p-value: 1.0331900407062017e-05\n"
     ]
    }
   ],
   "source": [
    "# Perfrom the test\n",
    "t_stat, p_value = stats.ttest_1samp(political_data, 5)\n",
    "print('t-statistic:', t_stat)\n",
    "print('p-value:', p_value)\n"
   ]
  },
  {
   "cell_type": "markdown",
   "metadata": {},
   "source": [
    "The t-statistic is , which indicates that the sample mean is significantly different from the hypothesized population mean of 5. The p-value is 0.0000, which is less than the commonly used significance level of 0.05. \n",
    "<br/>\n",
    "This means that we can reject the null hypothesis and conclude that the sample mean is significantly different from the hypothesized population mean.\n",
    "\n"
   ]
  },
  {
   "cell_type": "code",
   "execution_count": null,
   "metadata": {},
   "outputs": [],
   "source": []
  }
 ],
 "metadata": {
  "kernelspec": {
   "display_name": "Python 3",
   "language": "python",
   "name": "python3"
  },
  "language_info": {
   "codemirror_mode": {
    "name": "ipython",
    "version": 3
   },
   "file_extension": ".py",
   "mimetype": "text/x-python",
   "name": "python",
   "nbconvert_exporter": "python",
   "pygments_lexer": "ipython3",
   "version": "3.7.6"
  }
 },
 "nbformat": 4,
 "nbformat_minor": 4
}
