{
 "cells": [
  {
   "cell_type": "markdown",
   "id": "a40a31a4",
   "metadata": {},
   "source": [
    "### List Exercises\n",
    "\n",
    "Let's try some exercises with lists as a data structure!\n",
    "\n",
    "Ex 1: Get the reverse of the following list\n",
    "\n",
    "list = [100, 200, 300, 400, 500]"
   ]
  },
  {
   "cell_type": "code",
   "execution_count": 4,
   "id": "19319f80",
   "metadata": {},
   "outputs": [
    {
     "name": "stdout",
     "output_type": "stream",
     "text": [
      "[500, 400, 300, 200, 100]\n",
      "[500, 400, 300, 200, 100]\n"
     ]
    }
   ],
   "source": [
    "myList = [100, 200, 300, 400, 500]\n",
    "\n",
    "myList1 = myList[::-1]\n",
    "\n",
    "print(myList1)\n",
    "\n",
    "# Or\n",
    "\n",
    "myList2 = myList # bhbdcbdhbc\n",
    "myList2.reverse()\n",
    "\n",
    "print(myList2)"
   ]
  },
  {
   "cell_type": "markdown",
   "id": "da063121",
   "metadata": {},
   "source": [
    "hena kona bnekalem 3n "
   ]
  },
  {
   "cell_type": "markdown",
   "id": "ea3e9a3a",
   "metadata": {},
   "source": [
    "In the above example, we learned .reverse() method, and looked deeper into the index/square brackets parameters. \n",
    "\n",
    "LIST[START:STOP:STEP]\n",
    "\n",
    "The first two parameters are provided as empty which are start and stop parameters. If we do not provide start and stop parameters all list items are returned. The last parameter is step which is provided as -1. This means step back from the last item to the first item"
   ]
  },
  {
   "cell_type": "markdown",
   "id": "253cfd3a",
   "metadata": {},
   "source": [
    "Ex 2: Add two lists together using the index. \n",
    "To clarify, \n",
    "\n",
    "myList = [\"Hel\", \"Wo\"]\n",
    "\n",
    "myList2 = [\"lo\", \"rld\"]\n",
    "\n",
    "finalList = [\"Hello\", \"world\"]\n",
    "\n",
    "Hint: use the zip() function we learned in C201."
   ]
  },
  {
   "cell_type": "code",
   "execution_count": null,
   "id": "34593a18",
   "metadata": {},
   "outputs": [],
   "source": [
    "myList = [\"Hel\", \"Wo\"]\n",
    "\n",
    "myList2 = [\"lo\", \"rld\"]\n",
    "\n",
    "finalList = []\n",
    "\n",
    "for i,j in zip(myList, myList2):\n",
    "    finalList.append(i+j)"
   ]
  },
  {
   "cell_type": "code",
   "execution_count": 21,
   "id": "f69f975f",
   "metadata": {},
   "outputs": [
    {
     "name": "stdout",
     "output_type": "stream",
     "text": [
      "['Hello', 'World']\n"
     ]
    }
   ],
   "source": [
    "myList = [\"Hel\", \"Wo\"]\n",
    "myList2 = [\"lo\", \"rld\"]\n",
    "\n",
    "finalList = []\n",
    "\n",
    "for i, j in zip(myList,myList2):\n",
    "    finalList.append(i+j)\n",
    "    \n",
    "print(finalList)"
   ]
  },
  {
   "cell_type": "markdown",
   "id": "1bdfcf67",
   "metadata": {},
   "source": [
    "Ex 3: Count the occurrence of each element in a list and create a dictionary, where the key is the element, and value is the number of times the element showed up in the list.\n",
    "\n",
    "To clarify, \n",
    "\n",
    "myList = [10,50,8,10,20,50,20,50,99]\n",
    "\n",
    "myDict = {10: 2, 50: 3, 8: 1, 20: 2, 99: 1} "
   ]
  },
  {
   "cell_type": "code",
   "execution_count": 6,
   "id": "10f76f37",
   "metadata": {},
   "outputs": [
    {
     "name": "stdout",
     "output_type": "stream",
     "text": [
      "{10: 2, 50: 3, 8: 1, 20: 2, 99: 1}\n"
     ]
    }
   ],
   "source": [
    "myList = [10,50,8,10,20,50,20,50,99] \n",
    "\n",
    "myDict = dict()\n",
    "\n",
    "for i in myList:\n",
    "    myDict.update({i:myList.count(i)})\n",
    "print(myDict)"
   ]
  },
  {
   "cell_type": "code",
   "execution_count": 26,
   "id": "cdb5d8ca",
   "metadata": {},
   "outputs": [
    {
     "name": "stdout",
     "output_type": "stream",
     "text": [
      "[10, 50, 8, 10, 20, 50, 20, 50, 99]\n",
      "{10: 2, 50: 3, 8: 1, 20: 2, 99: 1}\n"
     ]
    }
   ],
   "source": [
    "myList = [10,50,8,10,20,50,20,50,99]\n",
    "print(myList)\n",
    "\n",
    "myDict = dict()\n",
    "\n",
    "for i in myList:\n",
    "    if i in myDict:\n",
    "        myDict[i] += 1\n",
    "    else:\n",
    "        myDict[i] = 1\n",
    "\n",
    "print(myDict)"
   ]
  },
  {
   "cell_type": "markdown",
   "id": "48411e3b",
   "metadata": {},
   "source": [
    "### Dictionary Exercises\n",
    "\n",
    "Ex 4: Turn the following lists into a dictionary, where myList1 items represent keys, and myList2 items represent values.\n"
   ]
  },
  {
   "cell_type": "code",
   "execution_count": 1,
   "id": "0000696d",
   "metadata": {},
   "outputs": [
    {
     "name": "stdout",
     "output_type": "stream",
     "text": [
      "{'Five': 5, 'Six': 6, 'Seven': 7, 'Eight': 8}\n"
     ]
    }
   ],
   "source": [
    "myList1 = [\"Five\", \"Six\", \"Seven\", \"Eight\"]\n",
    "\n",
    "myList2 = [5,6,7,8]\n",
    "\n",
    "myDict = dict()\n",
    "\n",
    "for i,j in zip(myList1,myList2):\n",
    "    myDict[i] = j\n",
    "\n",
    "print(myDict)"
   ]
  },
  {
   "cell_type": "markdown",
   "id": "8a78fb97",
   "metadata": {},
   "source": [
    "Ex 5: Print the value of key 'P420' from the below dictionary\n"
   ]
  },
  {
   "cell_type": "code",
   "execution_count": 3,
   "id": "39537556",
   "metadata": {},
   "outputs": [
    {
     "name": "stdout",
     "output_type": "stream",
     "text": [
      "98\n"
     ]
    }
   ],
   "source": [
    "GradesDict = {\n",
    "    \"class\": {\n",
    "        \"student\": {\n",
    "            \"name\":\"Nour\",\n",
    "            \"marks\": {\n",
    "                \"P420\": 98,\n",
    "                \"C201\": 100, \n",
    "                \"C101\":86\n",
    "            }\n",
    "        }\n",
    "    }\n",
    "}\n",
    "\n",
    "## Locating a nested key\n",
    "\n",
    "print(GradesDict['class']['student']['marks']['P420'])"
   ]
  },
  {
   "cell_type": "markdown",
   "id": "0f050fd9",
   "metadata": {},
   "source": [
    "Ex 6: Create a new dictionary by extracting the indicated keys (and their values) from the dictionary below.\n",
    "\n",
    "keysToExtract = [\"name\", \"salary\"]\n",
    "\n",
    "sampleDict = {\n",
    "    \"name\": \"Kelly\",\n",
    "    \"age\": 25,\n",
    "    \"salary\": 8000,\n",
    "    \"city\": \"New york\"}\n",
    "    \n",
    "Hint:\n",
    "Python Dictionary update() method updates the dictionary with the elements from another dictionary object or from an iterable of key/value pairs. "
   ]
  },
  {
   "cell_type": "code",
   "execution_count": 11,
   "id": "41ec6f23",
   "metadata": {},
   "outputs": [
    {
     "name": "stdout",
     "output_type": "stream",
     "text": [
      "{'name': 'Kelly', 'salary': 8000}\n"
     ]
    }
   ],
   "source": [
    "sampleDict = {\n",
    "    \"name\": \"Kelly\",\n",
    "    \"age\": 25,\n",
    "    \"salary\": 8000,\n",
    "    \"city\": \"New york\"}\n",
    "\n",
    "newDict = dict()\n",
    "\n",
    "keysToExtract = [\"name\", \"salary\"]\n",
    "\n",
    "for i in keysToExtract:\n",
    "    newDict.update({i:sampleDict[i]})\n",
    "\n",
    "print(newDict)"
   ]
  }
 ],
 "metadata": {
  "kernelspec": {
   "display_name": "Python 3 (ipykernel)",
   "language": "python",
   "name": "python3"
  },
  "language_info": {
   "codemirror_mode": {
    "name": "ipython",
    "version": 3
   },
   "file_extension": ".py",
   "mimetype": "text/x-python",
   "name": "python",
   "nbconvert_exporter": "python",
   "pygments_lexer": "ipython3",
   "version": "3.9.13"
  }
 },
 "nbformat": 4,
 "nbformat_minor": 5
}
