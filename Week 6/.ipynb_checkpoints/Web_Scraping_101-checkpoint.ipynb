{
 "cells": [
  {
   "cell_type": "markdown",
   "metadata": {
    "colab_type": "text",
    "id": "dyFbtyD-WWFW"
   },
   "source": [
    "----\n",
    "# Web Scraping with Python \n",
    "----\n",
    "## Session 1 - Hands On Part\n",
    "\n",
    "\n",
    "#### Dr. Zeyad Elkelani "
   ]
  },
  {
   "cell_type": "markdown",
   "metadata": {
    "colab_type": "text",
    "id": "G2Qr2-g4WWFZ"
   },
   "source": [
    "----\n",
    "## Introduction:\n",
    "----\n",
    "How to get data from the Internet?\n",
    "</br> \n",
    "\n",
    "Mainly there are two ways to extract data from a given website:\n",
    "1. **API (Application Programming Interface)**\n",
    "    - this method allows for data retrieval using a standardized protocols designed by website developers. \n",
    "2. **Web Scraping/Harvesting**\n",
    "    - this method  allows to access the HTML backend of a webpage and extract relevant information/data.\n",
    "\n",
    "\n",
    "**In this particular workshop, we are going to focus on the second method of web data extraction or \"Web Scraping\". In future sessions, we will talk about \"Web Spiders/Crawlers\" which is related to Web Scraping.**\n"
   ]
  },
  {
   "cell_type": "markdown",
   "metadata": {
    "colab_type": "text",
    "id": "GsCqH4_2WWFc"
   },
   "source": [
    "----\n",
    "## Learning Objectives for this sequence: \n",
    "----\n",
    "- **Session One:** \n",
    "  - Understanding Robots.txt and HTTP requests. \n",
    "  - Understanding basic components of a webpage and HTML. \n",
    "  - Get familiar with Pandas Module. \n",
    "  - Parsing html string into Pandas.\n",
    "  - Parse URL class into Pandas.\n",
    "  - Parse Tables from Wikipedia into Pandas. \n",
    "  - Parse non-Wikipedia Tables into Pandas. \n",
    "  - Parse Wiki InfoBoxes.\n",
    "  - Write html parsed tables into flat csv.\n",
    "  \n",
    "</br>\n",
    "\n",
    "- **Future Sessions:**\n",
    "  - Advanced understanding of HTML parsing using tagging and CSS selection.\n",
    "  - Parsing multiple URLs at the same time. \n",
    "  - Loop through multiple webpages and extract data (web crawling).\n",
    "  - Building Web Spiders (Automated Scraping ).\n",
    "  - Use Advanced Open Source Web Spiders modules (SCrapy). \n",
    "  - Use SCrapy Shell.\n",
    "  \n",
    "</br> \n",
    "\n",
    "**By the end of these workshops, you should be able to build your own scraper/ crawler and schedule your job queries.** \n",
    "    \n"
   ]
  },
  {
   "cell_type": "markdown",
   "metadata": {
    "colab_type": "text",
    "id": "uSU1w0VsWWFe"
   },
   "source": [
    "----\n",
    "## Agenda for Session One\n",
    "----\n",
    "    - Setting up working environment\n",
    "    - What is Robots Exclusion Standard?\n",
    "    - How does Web Scraping work? (High-Level) \n",
    "    - What is inside a Web Page?\n",
    "    - Parsing HTML tables \n",
    "    - Parsing Wiki Tables with Pandas\n",
    "    - Parsing Wiki Infoboxes\n",
    "    - Parsing non-Wikipedia Tables\n",
    "    - Write html tables to csv document "
   ]
  },
  {
   "cell_type": "markdown",
   "metadata": {
    "colab_type": "text",
    "id": "XEMwkSZgWWFg"
   },
   "source": [
    "----\n",
    "## Let's Setup our working environment: \n",
    "----\n",
    "### In this workshop, we will use Python 3.7 to execute commands. \n",
    "  - We strongly recommend uisng **Google Colab** for this session.\n",
    "  - Use the Ipython file sent by QCL prior to the start of the workshop.\n",
    "  - **At the end of this session, please send us your work on Ipython file qcl@cmc.edu as part of the QCL Digital Badges Program**\n",
    "\n",
    "</br>\n",
    "\n",
    "### Installing Packages in COLAB\n",
    "One of the good things about Google Colab, that it is pre-packaged with several scientific computing Python modules like Numpy, Pandas, and Tensorflow. If you still want to install a package that is not available, you can do so by running a shell command as `!pip install [Package_Name]`\n",
    "\n",
    "\n",
    "### Jupyter Applications \n",
    "\n",
    "- **Install the following packages:**\n",
    "```\n",
    "io\n",
    "pandas\n",
    "requests\n",
    "IPython\n",
    "```\n",
    "- **Installing Packages from Shell for Project Jupyter:** \n",
    "    - `conda install [Package_name]`\n",
    "    - `pip install [package_name]`\n",
    "\n",
    "- In case, you want to upgrade/update **pip** itself:\n",
    "    - Check pip version in your command prompt `pip --version`\n",
    "    - Then update your pip `pip install --upgrade pip`\n",
    "\n",
    "- In case, you want to upgrade/update a package:\n",
    "    - `sudo pip install [package_name] --upgrade`\n",
    "    - `sudo` will ask to enter your root password to confirm the action.\n",
    "\n",
    "- In case you do not know the root password (not adminstrator), you should just use virtual environment and this case, use:\n",
    "    - `pip install [package_name] --upgrade`\n",
    "    \n",
    "- To install packages while in Jupyter Kernel, we recommend the following inside .ipynb file: **Shell-like Install**\n",
    "    - `import sys` \n",
    "    - `!conda install --yes --prefix {sys.prefix} <package_name>`\n",
    "    \n",
    "    OR\n",
    "    \n",
    "    - `import sys`\n",
    "    - `!{sys.executable} -m pip install <package_name>`\n"
   ]
  },
  {
   "cell_type": "markdown",
   "metadata": {
    "colab_type": "text",
    "id": "oKn4RpL3WWFi"
   },
   "source": [
    "----\n",
    "## Let's Get Started:\n",
    "----\n",
    "- Import packages into the current Jupyter Kernel:\n",
    "\n"
   ]
  },
  {
   "cell_type": "code",
   "execution_count": 0,
   "metadata": {
    "colab": {},
    "colab_type": "code",
    "id": "FYTDbwRnWWFk"
   },
   "outputs": [],
   "source": [
    "import io\n",
    "import pandas\n",
    "import IPython"
   ]
  },
  {
   "cell_type": "markdown",
   "metadata": {
    "colab_type": "text",
    "id": "m1brRKzrWWFt"
   },
   "source": [
    "## What is Robots Exclusion Standard? "
   ]
  },
  {
   "cell_type": "code",
   "execution_count": 0,
   "metadata": {
    "colab": {},
    "colab_type": "code",
    "id": "jht1qcgkbHN3"
   },
   "outputs": [],
   "source": [
    "# Check cmc.edu "
   ]
  },
  {
   "cell_type": "markdown",
   "metadata": {
    "colab_type": "text",
    "id": "yh4BrATnWWFx"
   },
   "source": [
    "----\n",
    "## How does Web Scraping work? (High-Level Overview)\n",
    "----\n",
    "1. The process of starts by senidng a reuqets to the URL of the domain of interest, **IF HTTP REQUEST IS ALLOWED**, server responds by returning HTML content of the webpage. Such task is done in this workshop using a third-party Python Library.  \n",
    "\n",
    "2. After rendering the HTML content, next step is to parse the nested content of HTML source code. Thus, we use third-party Python libraries that provide a way to create a netsed/tree structure of the HTML data.\n",
    "\n",
    "3. There are many HTML parser libraries availabe, `html5lib` is the most used and adavanced one.\n",
    "\n",
    "4. In order to go through the parse tree created, we will use other third-party Python library to render the contect in a given data type. "
   ]
  },
  {
   "cell_type": "markdown",
   "metadata": {
    "colab_type": "text",
    "id": "MyDE_1UWWWFx"
   },
   "source": [
    "----\n",
    "## What is inside a Web Page? \n",
    "----\n",
    "When you visit a web page, your web browser sends a request to a web server. This request is known as `GET` request. Then the server will send back files that tell our browser how to render a given webpage for us. Generally the rendered files are composed of the following types:\n",
    "- `HTML`: contain the main content of the page.\n",
    "- `CSS`: add styling to make the page look nicer.\n",
    "- `JS`: Javascript files add interactivity to web pages.\n",
    "- `Images`: image formats, such as JPG and PNG allow web pages to show pictures.\n",
    "\n",
    "After the browser receives all files, it renders the page in the format maintained by server and displays it to us. "
   ]
  },
  {
   "cell_type": "markdown",
   "metadata": {
    "colab_type": "text",
    "id": "nwrB_pPiWWFy"
   },
   "source": [
    "----\n",
    "## What is HTML?\n",
    "----\n",
    "**HyperText Markup Language (HTML)** is a language that web pages are created in. It is not a programming language, it is rather a markup kanguage that instructs a browser on how to layout a content. It does the same task a word processor like Microsoft Word does in terms of making a bold text, create paragraphs, inserting images...etc."
   ]
  },
  {
   "cell_type": "markdown",
   "metadata": {
    "colab_type": "text",
    "id": "d743QCIRWWF0"
   },
   "source": [
    "Let's look at the HTML element below:"
   ]
  },
  {
   "cell_type": "code",
   "execution_count": 0,
   "metadata": {
    "colab": {},
    "colab_type": "code",
    "id": "lhoAZMfdWWF1"
   },
   "outputs": [],
   "source": [
    "basic_html = \"\"\"\n",
    "<html>\n",
    "<head>\n",
    "basic html\n",
    "</head>\n",
    "</html>\n",
    "\"\"\""
   ]
  },
  {
   "cell_type": "code",
   "execution_count": 0,
   "metadata": {
    "colab": {
     "base_uri": "https://localhost:8080/",
     "height": 34
    },
    "colab_type": "code",
    "id": "h8Wl0H2xWWF3",
    "outputId": "a417c576-0238-4b04-9431-d6417133801c"
   },
   "outputs": [
    {
     "data": {
      "text/html": [
       "\n",
       "<html>\n",
       "<head>\n",
       "basic html\n",
       "</head>\n",
       "</html>\n"
      ]
     },
     "metadata": {
      "tags": []
     },
     "output_type": "display_data"
    }
   ],
   "source": [
    "# use a function to display html elements stored above as a string: \n",
    "# We use IPython module here: \n",
    "from IPython.display import display_html \n",
    "\n",
    "display_html(basic_html, raw = True)\n",
    "\n",
    "# Raw = TRUE, raw html is used inside this function "
   ]
  },
  {
   "cell_type": "code",
   "execution_count": 0,
   "metadata": {
    "colab": {},
    "colab_type": "code",
    "id": "L_SFf7Y6WWF5"
   },
   "outputs": [],
   "source": [
    "simple_html = \"\"\"\n",
    "<html>\n",
    "<head>\n",
    "</head>\n",
    "<body>\n",
    "<p>\n",
    "Here's a paragraph of text!\n",
    "</p>\n",
    "<p>\n",
    "Here's a second paragraph of text!\n",
    "</p>\n",
    "</body>\n",
    "</html>\n",
    "\"\"\""
   ]
  },
  {
   "cell_type": "code",
   "execution_count": 0,
   "metadata": {
    "colab": {
     "base_uri": "https://localhost:8080/",
     "height": 69
    },
    "colab_type": "code",
    "id": "JauLALgPWWF7",
    "outputId": "34203a70-00b8-4ffb-8738-3b7ecc8acbf7"
   },
   "outputs": [
    {
     "data": {
      "text/html": [
       "\n",
       "<html>\n",
       "<head>\n",
       "</head>\n",
       "<body>\n",
       "<p>\n",
       "Here's a paragraph of text!\n",
       "</p>\n",
       "<p>\n",
       "Here's a second paragraph of text!\n",
       "</p>\n",
       "</body>\n",
       "</html>\n"
      ]
     },
     "metadata": {
      "tags": []
     },
     "output_type": "display_data"
    }
   ],
   "source": [
    "# What is different here? \n",
    "display_html(simple_html, raw = True)"
   ]
  },
  {
   "cell_type": "code",
   "execution_count": 0,
   "metadata": {
    "colab": {},
    "colab_type": "code",
    "id": "6nC1JQ3rWWF8"
   },
   "outputs": [],
   "source": [
    "html_with_link = \"\"\"\n",
    "<html>\n",
    "<head>\n",
    "</head>\n",
    "<body>\n",
    "<p>\n",
    "Here's a paragraph of text!\n",
    "<a href=\"https://www.cmc.edu/\">Claremont McKenna College</a>\n",
    "</p>\n",
    "<p>\n",
    "Here's a second paragraph of text!\n",
    "<a href=\"https://www.cmc.edu/qcl\">Murty Sunak Quantitative and Computing Lab</a> </p>\n",
    "</body></html>\n",
    "\"\"\""
   ]
  },
  {
   "cell_type": "code",
   "execution_count": 0,
   "metadata": {
    "colab": {
     "base_uri": "https://localhost:8080/",
     "height": 69
    },
    "colab_type": "code",
    "id": "VmykYXSqWWF9",
    "outputId": "4d677fc0-f059-4c20-d51a-fbf2ad47d2c6"
   },
   "outputs": [
    {
     "data": {
      "text/html": [
       "\n",
       "<html>\n",
       "<head>\n",
       "</head>\n",
       "<body>\n",
       "<p>\n",
       "Here's a paragraph of text!\n",
       "<a href=\"https://www.cmc.edu/\">Claremont McKenna College</a>\n",
       "</p>\n",
       "<p>\n",
       "Here's a second paragraph of text!\n",
       "<a href=\"https://www.cmc.edu/qcl\">Murty Sunak Quantitative and Computing Lab</a> </p>\n",
       "</body></html>\n"
      ]
     },
     "metadata": {
      "tags": []
     },
     "output_type": "display_data"
    }
   ],
   "source": [
    "# What did we add here? \n",
    "display_html(html_with_link, raw = True)"
   ]
  },
  {
   "cell_type": "markdown",
   "metadata": {
    "colab_type": "text",
    "id": "eFfGFBY4WWF-"
   },
   "source": [
    "## Parsing HTML Tables: \n",
    "\n",
    "- In this section we will use Pandas Module\n",
    "    - Let's look at the `read_html` and `pandas.read_html` functions we will use\n",
    "\n",
    "- `pandas.read_html` it is a function accepts: A URL, a file-like object, or a raw string containing HTML.\n",
    "\n",
    "- **Let's start by passing a raw html string:**"
   ]
  },
  {
   "cell_type": "code",
   "execution_count": 0,
   "metadata": {
    "colab": {},
    "colab_type": "code",
    "id": "DrXO5qlsWWF-"
   },
   "outputs": [],
   "source": [
    "html_sample_string = \"\"\"\n",
    "<table>\n",
    "  <thead>\n",
    "    <tr>\n",
    "      <th>Programming Language</th>\n",
    "      <th>Creator</th> \n",
    "      <th>Year</th>\n",
    "    </tr>\n",
    "  </thead>\n",
    "  <tbody>\n",
    "    <tr>\n",
    "      <td>C</td>\n",
    "      <td>Dennis Ritchie</td> \n",
    "      <td>1972</td>\n",
    "    </tr>\n",
    "    <tr>\n",
    "      <td>Python</td>\n",
    "      <td>Guido Van Rossum</td> \n",
    "      <td>1989</td>\n",
    "    </tr>\n",
    "    <tr>\n",
    "      <td>Ruby</td>\n",
    "      <td>Yukihiro Matsumoto</td> \n",
    "      <td>1995</td>\n",
    "    </tr>\n",
    "  </tbody>\n",
    "</table>\n",
    "\"\"\""
   ]
  },
  {
   "cell_type": "code",
   "execution_count": 0,
   "metadata": {
    "colab": {
     "base_uri": "https://localhost:8080/",
     "height": 103
    },
    "colab_type": "code",
    "id": "jOL8rfVoWWF_",
    "outputId": "9449af31-34b2-43e1-9288-5f5a197c2bd8"
   },
   "outputs": [
    {
     "data": {
      "text/html": [
       "\n",
       "<table>\n",
       "  <thead>\n",
       "    <tr>\n",
       "      <th>Programming Language</th>\n",
       "      <th>Creator</th> \n",
       "      <th>Year</th>\n",
       "    </tr>\n",
       "  </thead>\n",
       "  <tbody>\n",
       "    <tr>\n",
       "      <td>C</td>\n",
       "      <td>Dennis Ritchie</td> \n",
       "      <td>1972</td>\n",
       "    </tr>\n",
       "    <tr>\n",
       "      <td>Python</td>\n",
       "      <td>Guido Van Rossum</td> \n",
       "      <td>1989</td>\n",
       "    </tr>\n",
       "    <tr>\n",
       "      <td>Ruby</td>\n",
       "      <td>Yukihiro Matsumoto</td> \n",
       "      <td>1995</td>\n",
       "    </tr>\n",
       "  </tbody>\n",
       "</table>\n"
      ]
     },
     "metadata": {
      "tags": []
     },
     "output_type": "display_data"
    }
   ],
   "source": [
    "# What is </thead>?\n",
    "# What is <tr> and <td>\n",
    "display_html(html_sample_string, raw = True)\n"
   ]
  },
  {
   "cell_type": "markdown",
   "metadata": {
    "colab_type": "text",
    "id": "z32x2WMAWWGA"
   },
   "source": [
    "Let's use `read_html` and use alias for a package"
   ]
  },
  {
   "cell_type": "code",
   "execution_count": 0,
   "metadata": {
    "colab": {
     "base_uri": "https://localhost:8080/",
     "height": 34
    },
    "colab_type": "code",
    "id": "kn9fsgHrWWGA",
    "outputId": "a0d37e1d-4475-42b4-d844-8247128bdba6"
   },
   "outputs": [
    {
     "data": {
      "text/plain": [
       "1"
      ]
     },
     "execution_count": 15,
     "metadata": {
      "tags": []
     },
     "output_type": "execute_result"
    }
   ],
   "source": [
    "import pandas as pd\n",
    "l = pd.read_html(html_sample_string)\n",
    "#l\n",
    "# What is df?\n",
    "type(l)\n",
    "len(l)"
   ]
  },
  {
   "cell_type": "code",
   "execution_count": 0,
   "metadata": {
    "colab": {
     "base_uri": "https://localhost:8080/",
     "height": 142
    },
    "colab_type": "code",
    "id": "u9ExP8EBWWGB",
    "outputId": "a2c0f189-890e-4a7a-a59f-7fd1f14fac78"
   },
   "outputs": [
    {
     "data": {
      "text/html": [
       "<div>\n",
       "<style scoped>\n",
       "    .dataframe tbody tr th:only-of-type {\n",
       "        vertical-align: middle;\n",
       "    }\n",
       "\n",
       "    .dataframe tbody tr th {\n",
       "        vertical-align: top;\n",
       "    }\n",
       "\n",
       "    .dataframe thead th {\n",
       "        text-align: right;\n",
       "    }\n",
       "</style>\n",
       "<table border=\"1\" class=\"dataframe\">\n",
       "  <thead>\n",
       "    <tr style=\"text-align: right;\">\n",
       "      <th></th>\n",
       "      <th>Programming Language</th>\n",
       "      <th>Creator</th>\n",
       "      <th>Year</th>\n",
       "    </tr>\n",
       "  </thead>\n",
       "  <tbody>\n",
       "    <tr>\n",
       "      <th>0</th>\n",
       "      <td>C</td>\n",
       "      <td>Dennis Ritchie</td>\n",
       "      <td>1972</td>\n",
       "    </tr>\n",
       "    <tr>\n",
       "      <th>1</th>\n",
       "      <td>Python</td>\n",
       "      <td>Guido Van Rossum</td>\n",
       "      <td>1989</td>\n",
       "    </tr>\n",
       "    <tr>\n",
       "      <th>2</th>\n",
       "      <td>Ruby</td>\n",
       "      <td>Yukihiro Matsumoto</td>\n",
       "      <td>1995</td>\n",
       "    </tr>\n",
       "  </tbody>\n",
       "</table>\n",
       "</div>"
      ],
      "text/plain": [
       "  Programming Language             Creator  Year\n",
       "0                    C      Dennis Ritchie  1972\n",
       "1               Python    Guido Van Rossum  1989\n",
       "2                 Ruby  Yukihiro Matsumoto  1995"
      ]
     },
     "execution_count": 19,
     "metadata": {
      "tags": []
     },
     "output_type": "execute_result"
    }
   ],
   "source": [
    "l\n",
    "df1 = l[0] \n",
    "df1"
   ]
  },
  {
   "cell_type": "code",
   "execution_count": 0,
   "metadata": {
    "colab": {},
    "colab_type": "code",
    "id": "wORFCaMCNQvO"
   },
   "outputs": [],
   "source": []
  },
  {
   "cell_type": "code",
   "execution_count": 0,
   "metadata": {
    "colab": {},
    "colab_type": "code",
    "id": "7S0jel2JOa3q"
   },
   "outputs": [],
   "source": [
    "# Check this URL for more information: https://python.swaroopch.com/data_structures.html"
   ]
  },
  {
   "cell_type": "code",
   "execution_count": 0,
   "metadata": {
    "colab": {
     "base_uri": "https://localhost:8080/",
     "height": 80
    },
    "colab_type": "code",
    "id": "3p7tpJhkWWGC",
    "outputId": "745a51ed-a4f9-423b-c17e-ce3781a8180c"
   },
   "outputs": [
    {
     "data": {
      "text/html": [
       "<div>\n",
       "<style scoped>\n",
       "    .dataframe tbody tr th:only-of-type {\n",
       "        vertical-align: middle;\n",
       "    }\n",
       "\n",
       "    .dataframe tbody tr th {\n",
       "        vertical-align: top;\n",
       "    }\n",
       "\n",
       "    .dataframe thead th {\n",
       "        text-align: right;\n",
       "    }\n",
       "</style>\n",
       "<table border=\"1\" class=\"dataframe\">\n",
       "  <thead>\n",
       "    <tr style=\"text-align: right;\">\n",
       "      <th></th>\n",
       "      <th>Programming Language</th>\n",
       "      <th>Creator</th>\n",
       "      <th>Year</th>\n",
       "    </tr>\n",
       "  </thead>\n",
       "  <tbody>\n",
       "    <tr>\n",
       "      <th>2</th>\n",
       "      <td>Ruby</td>\n",
       "      <td>Yukihiro Matsumoto</td>\n",
       "      <td>1995</td>\n",
       "    </tr>\n",
       "  </tbody>\n",
       "</table>\n",
       "</div>"
      ],
      "text/plain": [
       "  Programming Language             Creator  Year\n",
       "2                 Ruby  Yukihiro Matsumoto  1995"
      ]
     },
     "execution_count": 20,
     "metadata": {
      "tags": []
     },
     "output_type": "execute_result"
    }
   ],
   "source": [
    "# Which language came after 1990?\n",
    "df1[df1.Year > 1990]"
   ]
  },
  {
   "cell_type": "markdown",
   "metadata": {
    "colab_type": "text",
    "id": "gArzp_51WWGD"
   },
   "source": [
    "- What if our function `pd.read_html` cannot locate the header of the HTML table or, it is missing? "
   ]
  },
  {
   "cell_type": "code",
   "execution_count": 0,
   "metadata": {
    "colab": {},
    "colab_type": "code",
    "id": "cKLYVFm2WWGD"
   },
   "outputs": [],
   "source": [
    "html_string_other = \"\"\"\n",
    "<table>\n",
    "  <tr>\n",
    "    <td>Programming Language</td>\n",
    "    <td>Creator</td> \n",
    "    <td>Year</td>\n",
    "  </tr>\n",
    "  <tr>\n",
    "    <td>C</td>\n",
    "    <td>Dennis Ritchie</td> \n",
    "    <td>1972</td>\n",
    "  </tr>\n",
    "  <tr>\n",
    "    <td>Python</td>\n",
    "    <td>Guido Van Rossum</td> \n",
    "    <td>1989</td>\n",
    "  </tr>\n",
    "  <tr>\n",
    "    <td>Ruby</td>\n",
    "    <td>Yukihiro Matsumoto</td> \n",
    "    <td>1995</td>\n",
    "  </tr>\n",
    "</table>\n",
    "\"\"\""
   ]
  },
  {
   "cell_type": "code",
   "execution_count": 0,
   "metadata": {
    "colab": {},
    "colab_type": "code",
    "id": "Zh6HXlVmNDJ4"
   },
   "outputs": [],
   "source": [
    "# What is different in this table? What is missing? "
   ]
  },
  {
   "cell_type": "code",
   "execution_count": 0,
   "metadata": {
    "colab": {
     "base_uri": "https://localhost:8080/",
     "height": 102
    },
    "colab_type": "code",
    "id": "TPG4MbIC3IGB",
    "outputId": "a34212b9-107f-4a74-a7de-c032cdd9ed72"
   },
   "outputs": [
    {
     "data": {
      "text/plain": [
       "[                      0                   1     2\n",
       " 0  Programming Language             Creator  Year\n",
       " 1                     C      Dennis Ritchie  1972\n",
       " 2                Python    Guido Van Rossum  1989\n",
       " 3                  Ruby  Yukihiro Matsumoto  1995]"
      ]
     },
     "execution_count": 32,
     "metadata": {
      "tags": []
     },
     "output_type": "execute_result"
    }
   ],
   "source": [
    "pd.read_html(html_string_other)"
   ]
  },
  {
   "cell_type": "code",
   "execution_count": 0,
   "metadata": {
    "colab": {
     "base_uri": "https://localhost:8080/",
     "height": 142
    },
    "colab_type": "code",
    "id": "9HWejxw4WWGE",
    "outputId": "3bc6d0e3-5c89-4c4c-8782-c6d729f840ba"
   },
   "outputs": [
    {
     "data": {
      "text/html": [
       "<div>\n",
       "<style scoped>\n",
       "    .dataframe tbody tr th:only-of-type {\n",
       "        vertical-align: middle;\n",
       "    }\n",
       "\n",
       "    .dataframe tbody tr th {\n",
       "        vertical-align: top;\n",
       "    }\n",
       "\n",
       "    .dataframe thead th {\n",
       "        text-align: right;\n",
       "    }\n",
       "</style>\n",
       "<table border=\"1\" class=\"dataframe\">\n",
       "  <thead>\n",
       "    <tr style=\"text-align: right;\">\n",
       "      <th></th>\n",
       "      <th>Programming Language</th>\n",
       "      <th>Creator</th>\n",
       "      <th>Year</th>\n",
       "    </tr>\n",
       "  </thead>\n",
       "  <tbody>\n",
       "    <tr>\n",
       "      <th>0</th>\n",
       "      <td>C</td>\n",
       "      <td>Dennis Ritchie</td>\n",
       "      <td>1972</td>\n",
       "    </tr>\n",
       "    <tr>\n",
       "      <th>1</th>\n",
       "      <td>Python</td>\n",
       "      <td>Guido Van Rossum</td>\n",
       "      <td>1989</td>\n",
       "    </tr>\n",
       "    <tr>\n",
       "      <th>2</th>\n",
       "      <td>Ruby</td>\n",
       "      <td>Yukihiro Matsumoto</td>\n",
       "      <td>1995</td>\n",
       "    </tr>\n",
       "  </tbody>\n",
       "</table>\n",
       "</div>"
      ],
      "text/plain": [
       "  Programming Language             Creator  Year\n",
       "0                    C      Dennis Ritchie  1972\n",
       "1               Python    Guido Van Rossum  1989\n",
       "2                 Ruby  Yukihiro Matsumoto  1995"
      ]
     },
     "execution_count": 28,
     "metadata": {
      "tags": []
     },
     "output_type": "execute_result"
    }
   ],
   "source": [
    "_pd.read_html(html_string_other)\n",
    "what_is_this = pd.read_html(html_string_other, header = 0)\n",
    "type(what_is_this)\n",
    "\n",
    "df_only = pd.read_html(html_string_other, header = 0)[0]\n",
    "type(df_only)\n",
    "df_only"
   ]
  },
  {
   "cell_type": "code",
   "execution_count": 0,
   "metadata": {
    "colab": {},
    "colab_type": "code",
    "id": "78P3eOV_NPhJ"
   },
   "outputs": [],
   "source": []
  },
  {
   "cell_type": "markdown",
   "metadata": {
    "colab_type": "text",
    "id": "cqAbvWmKWWGH"
   },
   "source": [
    "Let's Read a table from an existing webpage:"
   ]
  },
  {
   "cell_type": "code",
   "execution_count": 0,
   "metadata": {
    "colab": {},
    "colab_type": "code",
    "id": "Y2lWF6CU4VxP"
   },
   "outputs": [],
   "source": []
  },
  {
   "cell_type": "code",
   "execution_count": 0,
   "metadata": {
    "colab": {},
    "colab_type": "code",
    "id": "MD7bwUAEWWGH"
   },
   "outputs": [],
   "source": [
    "# http://www.contextures.com/xlSampleData01.html"
   ]
  },
  {
   "cell_type": "code",
   "execution_count": 0,
   "metadata": {
    "colab": {
     "base_uri": "https://localhost:8080/",
     "height": 1000
    },
    "colab_type": "code",
    "id": "u9qKmb5FWWGI",
    "outputId": "4cdeb8f9-74a8-4a2e-8846-4d2807f45733"
   },
   "outputs": [
    {
     "data": {
      "text/html": [
       "<div>\n",
       "<style scoped>\n",
       "    .dataframe tbody tr th:only-of-type {\n",
       "        vertical-align: middle;\n",
       "    }\n",
       "\n",
       "    .dataframe tbody tr th {\n",
       "        vertical-align: top;\n",
       "    }\n",
       "\n",
       "    .dataframe thead th {\n",
       "        text-align: right;\n",
       "    }\n",
       "</style>\n",
       "<table border=\"1\" class=\"dataframe\">\n",
       "  <thead>\n",
       "    <tr style=\"text-align: right;\">\n",
       "      <th></th>\n",
       "      <th>OrderDate</th>\n",
       "      <th>Region</th>\n",
       "      <th>Rep</th>\n",
       "      <th>Item</th>\n",
       "      <th>Units</th>\n",
       "      <th>UnitCost</th>\n",
       "      <th>Total</th>\n",
       "    </tr>\n",
       "  </thead>\n",
       "  <tbody>\n",
       "    <tr>\n",
       "      <th>0</th>\n",
       "      <td>1/6/2018</td>\n",
       "      <td>East</td>\n",
       "      <td>Jones</td>\n",
       "      <td>Pencil</td>\n",
       "      <td>95</td>\n",
       "      <td>1.99</td>\n",
       "      <td>189.05</td>\n",
       "    </tr>\n",
       "    <tr>\n",
       "      <th>1</th>\n",
       "      <td>1/23/2018</td>\n",
       "      <td>Central</td>\n",
       "      <td>Kivell</td>\n",
       "      <td>Binder</td>\n",
       "      <td>50</td>\n",
       "      <td>19.99</td>\n",
       "      <td>999.50</td>\n",
       "    </tr>\n",
       "    <tr>\n",
       "      <th>2</th>\n",
       "      <td>2/9/2018</td>\n",
       "      <td>Central</td>\n",
       "      <td>Jardine</td>\n",
       "      <td>Pencil</td>\n",
       "      <td>36</td>\n",
       "      <td>4.99</td>\n",
       "      <td>179.64</td>\n",
       "    </tr>\n",
       "    <tr>\n",
       "      <th>3</th>\n",
       "      <td>2/26/2018</td>\n",
       "      <td>Central</td>\n",
       "      <td>Gill</td>\n",
       "      <td>Pen</td>\n",
       "      <td>27</td>\n",
       "      <td>19.99</td>\n",
       "      <td>539.73</td>\n",
       "    </tr>\n",
       "    <tr>\n",
       "      <th>4</th>\n",
       "      <td>3/15/2018</td>\n",
       "      <td>West</td>\n",
       "      <td>Sorvino</td>\n",
       "      <td>Pencil</td>\n",
       "      <td>56</td>\n",
       "      <td>2.99</td>\n",
       "      <td>167.44</td>\n",
       "    </tr>\n",
       "    <tr>\n",
       "      <th>5</th>\n",
       "      <td>4/1/2018</td>\n",
       "      <td>East</td>\n",
       "      <td>Jones</td>\n",
       "      <td>Binder</td>\n",
       "      <td>60</td>\n",
       "      <td>4.99</td>\n",
       "      <td>299.40</td>\n",
       "    </tr>\n",
       "    <tr>\n",
       "      <th>6</th>\n",
       "      <td>4/18/2018</td>\n",
       "      <td>Central</td>\n",
       "      <td>Andrews</td>\n",
       "      <td>Pencil</td>\n",
       "      <td>75</td>\n",
       "      <td>1.99</td>\n",
       "      <td>149.25</td>\n",
       "    </tr>\n",
       "    <tr>\n",
       "      <th>7</th>\n",
       "      <td>5/5/2018</td>\n",
       "      <td>Central</td>\n",
       "      <td>Jardine</td>\n",
       "      <td>Pencil</td>\n",
       "      <td>90</td>\n",
       "      <td>4.99</td>\n",
       "      <td>449.10</td>\n",
       "    </tr>\n",
       "    <tr>\n",
       "      <th>8</th>\n",
       "      <td>5/22/2018</td>\n",
       "      <td>West</td>\n",
       "      <td>Thompson</td>\n",
       "      <td>Pencil</td>\n",
       "      <td>32</td>\n",
       "      <td>1.99</td>\n",
       "      <td>63.68</td>\n",
       "    </tr>\n",
       "    <tr>\n",
       "      <th>9</th>\n",
       "      <td>6/8/2018</td>\n",
       "      <td>East</td>\n",
       "      <td>Jones</td>\n",
       "      <td>Binder</td>\n",
       "      <td>60</td>\n",
       "      <td>8.99</td>\n",
       "      <td>539.40</td>\n",
       "    </tr>\n",
       "    <tr>\n",
       "      <th>10</th>\n",
       "      <td>6/25/2018</td>\n",
       "      <td>Central</td>\n",
       "      <td>Morgan</td>\n",
       "      <td>Pencil</td>\n",
       "      <td>90</td>\n",
       "      <td>4.99</td>\n",
       "      <td>449.10</td>\n",
       "    </tr>\n",
       "    <tr>\n",
       "      <th>11</th>\n",
       "      <td>7/12/2018</td>\n",
       "      <td>East</td>\n",
       "      <td>Howard</td>\n",
       "      <td>Binder</td>\n",
       "      <td>29</td>\n",
       "      <td>1.99</td>\n",
       "      <td>57.71</td>\n",
       "    </tr>\n",
       "    <tr>\n",
       "      <th>12</th>\n",
       "      <td>7/29/2018</td>\n",
       "      <td>East</td>\n",
       "      <td>Parent</td>\n",
       "      <td>Binder</td>\n",
       "      <td>81</td>\n",
       "      <td>19.99</td>\n",
       "      <td>1619.19</td>\n",
       "    </tr>\n",
       "    <tr>\n",
       "      <th>13</th>\n",
       "      <td>8/15/2018</td>\n",
       "      <td>East</td>\n",
       "      <td>Jones</td>\n",
       "      <td>Pencil</td>\n",
       "      <td>35</td>\n",
       "      <td>4.99</td>\n",
       "      <td>174.65</td>\n",
       "    </tr>\n",
       "    <tr>\n",
       "      <th>14</th>\n",
       "      <td>9/1/2018</td>\n",
       "      <td>Central</td>\n",
       "      <td>Smith</td>\n",
       "      <td>Desk</td>\n",
       "      <td>2</td>\n",
       "      <td>125.00</td>\n",
       "      <td>250.00</td>\n",
       "    </tr>\n",
       "    <tr>\n",
       "      <th>15</th>\n",
       "      <td>9/18/2018</td>\n",
       "      <td>East</td>\n",
       "      <td>Jones</td>\n",
       "      <td>Pen Set</td>\n",
       "      <td>16</td>\n",
       "      <td>15.99</td>\n",
       "      <td>255.84</td>\n",
       "    </tr>\n",
       "    <tr>\n",
       "      <th>16</th>\n",
       "      <td>10/5/2018</td>\n",
       "      <td>Central</td>\n",
       "      <td>Morgan</td>\n",
       "      <td>Binder</td>\n",
       "      <td>28</td>\n",
       "      <td>8.99</td>\n",
       "      <td>251.72</td>\n",
       "    </tr>\n",
       "    <tr>\n",
       "      <th>17</th>\n",
       "      <td>10/22/2018</td>\n",
       "      <td>East</td>\n",
       "      <td>Jones</td>\n",
       "      <td>Pen</td>\n",
       "      <td>64</td>\n",
       "      <td>8.99</td>\n",
       "      <td>575.36</td>\n",
       "    </tr>\n",
       "    <tr>\n",
       "      <th>18</th>\n",
       "      <td>11/8/2018</td>\n",
       "      <td>East</td>\n",
       "      <td>Parent</td>\n",
       "      <td>Pen</td>\n",
       "      <td>15</td>\n",
       "      <td>19.99</td>\n",
       "      <td>299.85</td>\n",
       "    </tr>\n",
       "    <tr>\n",
       "      <th>19</th>\n",
       "      <td>11/25/2018</td>\n",
       "      <td>Central</td>\n",
       "      <td>Kivell</td>\n",
       "      <td>Pen Set</td>\n",
       "      <td>96</td>\n",
       "      <td>4.99</td>\n",
       "      <td>479.04</td>\n",
       "    </tr>\n",
       "    <tr>\n",
       "      <th>20</th>\n",
       "      <td>12/12/2018</td>\n",
       "      <td>Central</td>\n",
       "      <td>Smith</td>\n",
       "      <td>Pencil</td>\n",
       "      <td>67</td>\n",
       "      <td>1.29</td>\n",
       "      <td>86.43</td>\n",
       "    </tr>\n",
       "    <tr>\n",
       "      <th>21</th>\n",
       "      <td>12/29/2018</td>\n",
       "      <td>East</td>\n",
       "      <td>Parent</td>\n",
       "      <td>Pen Set</td>\n",
       "      <td>74</td>\n",
       "      <td>15.99</td>\n",
       "      <td>1183.26</td>\n",
       "    </tr>\n",
       "    <tr>\n",
       "      <th>22</th>\n",
       "      <td>1/15/2019</td>\n",
       "      <td>Central</td>\n",
       "      <td>Gill</td>\n",
       "      <td>Binder</td>\n",
       "      <td>46</td>\n",
       "      <td>8.99</td>\n",
       "      <td>413.54</td>\n",
       "    </tr>\n",
       "    <tr>\n",
       "      <th>23</th>\n",
       "      <td>2/1/2019</td>\n",
       "      <td>Central</td>\n",
       "      <td>Smith</td>\n",
       "      <td>Binder</td>\n",
       "      <td>87</td>\n",
       "      <td>15.00</td>\n",
       "      <td>1305.00</td>\n",
       "    </tr>\n",
       "    <tr>\n",
       "      <th>24</th>\n",
       "      <td>2/18/2019</td>\n",
       "      <td>East</td>\n",
       "      <td>Jones</td>\n",
       "      <td>Binder</td>\n",
       "      <td>4</td>\n",
       "      <td>4.99</td>\n",
       "      <td>19.96</td>\n",
       "    </tr>\n",
       "    <tr>\n",
       "      <th>25</th>\n",
       "      <td>3/7/2019</td>\n",
       "      <td>West</td>\n",
       "      <td>Sorvino</td>\n",
       "      <td>Binder</td>\n",
       "      <td>7</td>\n",
       "      <td>19.99</td>\n",
       "      <td>139.93</td>\n",
       "    </tr>\n",
       "    <tr>\n",
       "      <th>26</th>\n",
       "      <td>3/24/2019</td>\n",
       "      <td>Central</td>\n",
       "      <td>Jardine</td>\n",
       "      <td>Pen Set</td>\n",
       "      <td>50</td>\n",
       "      <td>4.99</td>\n",
       "      <td>249.50</td>\n",
       "    </tr>\n",
       "    <tr>\n",
       "      <th>27</th>\n",
       "      <td>4/10/2019</td>\n",
       "      <td>Central</td>\n",
       "      <td>Andrews</td>\n",
       "      <td>Pencil</td>\n",
       "      <td>66</td>\n",
       "      <td>1.99</td>\n",
       "      <td>131.34</td>\n",
       "    </tr>\n",
       "    <tr>\n",
       "      <th>28</th>\n",
       "      <td>4/27/2019</td>\n",
       "      <td>East</td>\n",
       "      <td>Howard</td>\n",
       "      <td>Pen</td>\n",
       "      <td>96</td>\n",
       "      <td>4.99</td>\n",
       "      <td>479.04</td>\n",
       "    </tr>\n",
       "    <tr>\n",
       "      <th>29</th>\n",
       "      <td>5/14/2019</td>\n",
       "      <td>Central</td>\n",
       "      <td>Gill</td>\n",
       "      <td>Pencil</td>\n",
       "      <td>53</td>\n",
       "      <td>1.29</td>\n",
       "      <td>68.37</td>\n",
       "    </tr>\n",
       "    <tr>\n",
       "      <th>30</th>\n",
       "      <td>5/31/2019</td>\n",
       "      <td>Central</td>\n",
       "      <td>Gill</td>\n",
       "      <td>Binder</td>\n",
       "      <td>80</td>\n",
       "      <td>8.99</td>\n",
       "      <td>719.20</td>\n",
       "    </tr>\n",
       "    <tr>\n",
       "      <th>31</th>\n",
       "      <td>6/17/2019</td>\n",
       "      <td>Central</td>\n",
       "      <td>Kivell</td>\n",
       "      <td>Desk</td>\n",
       "      <td>5</td>\n",
       "      <td>125.00</td>\n",
       "      <td>625.00</td>\n",
       "    </tr>\n",
       "    <tr>\n",
       "      <th>32</th>\n",
       "      <td>7/4/2019</td>\n",
       "      <td>East</td>\n",
       "      <td>Jones</td>\n",
       "      <td>Pen Set</td>\n",
       "      <td>62</td>\n",
       "      <td>4.99</td>\n",
       "      <td>309.38</td>\n",
       "    </tr>\n",
       "    <tr>\n",
       "      <th>33</th>\n",
       "      <td>7/21/2019</td>\n",
       "      <td>Central</td>\n",
       "      <td>Morgan</td>\n",
       "      <td>Pen Set</td>\n",
       "      <td>55</td>\n",
       "      <td>12.49</td>\n",
       "      <td>686.95</td>\n",
       "    </tr>\n",
       "    <tr>\n",
       "      <th>34</th>\n",
       "      <td>8/7/2019</td>\n",
       "      <td>Central</td>\n",
       "      <td>Kivell</td>\n",
       "      <td>Pen Set</td>\n",
       "      <td>42</td>\n",
       "      <td>23.95</td>\n",
       "      <td>1005.90</td>\n",
       "    </tr>\n",
       "    <tr>\n",
       "      <th>35</th>\n",
       "      <td>8/24/2019</td>\n",
       "      <td>West</td>\n",
       "      <td>Sorvino</td>\n",
       "      <td>Desk</td>\n",
       "      <td>3</td>\n",
       "      <td>275.00</td>\n",
       "      <td>825.00</td>\n",
       "    </tr>\n",
       "    <tr>\n",
       "      <th>36</th>\n",
       "      <td>9/10/2019</td>\n",
       "      <td>Central</td>\n",
       "      <td>Gill</td>\n",
       "      <td>Pencil</td>\n",
       "      <td>7</td>\n",
       "      <td>1.29</td>\n",
       "      <td>9.03</td>\n",
       "    </tr>\n",
       "    <tr>\n",
       "      <th>37</th>\n",
       "      <td>9/27/2019</td>\n",
       "      <td>West</td>\n",
       "      <td>Sorvino</td>\n",
       "      <td>Pen</td>\n",
       "      <td>76</td>\n",
       "      <td>1.99</td>\n",
       "      <td>151.24</td>\n",
       "    </tr>\n",
       "    <tr>\n",
       "      <th>38</th>\n",
       "      <td>10/14/2019</td>\n",
       "      <td>West</td>\n",
       "      <td>Thompson</td>\n",
       "      <td>Binder</td>\n",
       "      <td>57</td>\n",
       "      <td>19.99</td>\n",
       "      <td>1139.43</td>\n",
       "    </tr>\n",
       "    <tr>\n",
       "      <th>39</th>\n",
       "      <td>10/31/2019</td>\n",
       "      <td>Central</td>\n",
       "      <td>Andrews</td>\n",
       "      <td>Pencil</td>\n",
       "      <td>14</td>\n",
       "      <td>1.29</td>\n",
       "      <td>18.06</td>\n",
       "    </tr>\n",
       "    <tr>\n",
       "      <th>40</th>\n",
       "      <td>11/17/2019</td>\n",
       "      <td>Central</td>\n",
       "      <td>Jardine</td>\n",
       "      <td>Binder</td>\n",
       "      <td>11</td>\n",
       "      <td>4.99</td>\n",
       "      <td>54.89</td>\n",
       "    </tr>\n",
       "    <tr>\n",
       "      <th>41</th>\n",
       "      <td>12/4/2019</td>\n",
       "      <td>Central</td>\n",
       "      <td>Jardine</td>\n",
       "      <td>Binder</td>\n",
       "      <td>94</td>\n",
       "      <td>19.99</td>\n",
       "      <td>1879.06</td>\n",
       "    </tr>\n",
       "    <tr>\n",
       "      <th>42</th>\n",
       "      <td>12/21/2019</td>\n",
       "      <td>Central</td>\n",
       "      <td>Andrews</td>\n",
       "      <td>Binder</td>\n",
       "      <td>28</td>\n",
       "      <td>4.99</td>\n",
       "      <td>139.72</td>\n",
       "    </tr>\n",
       "  </tbody>\n",
       "</table>\n",
       "</div>"
      ],
      "text/plain": [
       "     OrderDate   Region       Rep     Item  Units  UnitCost    Total\n",
       "0     1/6/2018     East     Jones   Pencil     95      1.99   189.05\n",
       "1    1/23/2018  Central    Kivell   Binder     50     19.99   999.50\n",
       "2     2/9/2018  Central   Jardine   Pencil     36      4.99   179.64\n",
       "3    2/26/2018  Central      Gill      Pen     27     19.99   539.73\n",
       "4    3/15/2018     West   Sorvino   Pencil     56      2.99   167.44\n",
       "5     4/1/2018     East     Jones   Binder     60      4.99   299.40\n",
       "6    4/18/2018  Central   Andrews   Pencil     75      1.99   149.25\n",
       "7     5/5/2018  Central   Jardine   Pencil     90      4.99   449.10\n",
       "8    5/22/2018     West  Thompson   Pencil     32      1.99    63.68\n",
       "9     6/8/2018     East     Jones   Binder     60      8.99   539.40\n",
       "10   6/25/2018  Central    Morgan   Pencil     90      4.99   449.10\n",
       "11   7/12/2018     East    Howard   Binder     29      1.99    57.71\n",
       "12   7/29/2018     East    Parent   Binder     81     19.99  1619.19\n",
       "13   8/15/2018     East     Jones   Pencil     35      4.99   174.65\n",
       "14    9/1/2018  Central     Smith     Desk      2    125.00   250.00\n",
       "15   9/18/2018     East     Jones  Pen Set     16     15.99   255.84\n",
       "16   10/5/2018  Central    Morgan   Binder     28      8.99   251.72\n",
       "17  10/22/2018     East     Jones      Pen     64      8.99   575.36\n",
       "18   11/8/2018     East    Parent      Pen     15     19.99   299.85\n",
       "19  11/25/2018  Central    Kivell  Pen Set     96      4.99   479.04\n",
       "20  12/12/2018  Central     Smith   Pencil     67      1.29    86.43\n",
       "21  12/29/2018     East    Parent  Pen Set     74     15.99  1183.26\n",
       "22   1/15/2019  Central      Gill   Binder     46      8.99   413.54\n",
       "23    2/1/2019  Central     Smith   Binder     87     15.00  1305.00\n",
       "24   2/18/2019     East     Jones   Binder      4      4.99    19.96\n",
       "25    3/7/2019     West   Sorvino   Binder      7     19.99   139.93\n",
       "26   3/24/2019  Central   Jardine  Pen Set     50      4.99   249.50\n",
       "27   4/10/2019  Central   Andrews   Pencil     66      1.99   131.34\n",
       "28   4/27/2019     East    Howard      Pen     96      4.99   479.04\n",
       "29   5/14/2019  Central      Gill   Pencil     53      1.29    68.37\n",
       "30   5/31/2019  Central      Gill   Binder     80      8.99   719.20\n",
       "31   6/17/2019  Central    Kivell     Desk      5    125.00   625.00\n",
       "32    7/4/2019     East     Jones  Pen Set     62      4.99   309.38\n",
       "33   7/21/2019  Central    Morgan  Pen Set     55     12.49   686.95\n",
       "34    8/7/2019  Central    Kivell  Pen Set     42     23.95  1005.90\n",
       "35   8/24/2019     West   Sorvino     Desk      3    275.00   825.00\n",
       "36   9/10/2019  Central      Gill   Pencil      7      1.29     9.03\n",
       "37   9/27/2019     West   Sorvino      Pen     76      1.99   151.24\n",
       "38  10/14/2019     West  Thompson   Binder     57     19.99  1139.43\n",
       "39  10/31/2019  Central   Andrews   Pencil     14      1.29    18.06\n",
       "40  11/17/2019  Central   Jardine   Binder     11      4.99    54.89\n",
       "41   12/4/2019  Central   Jardine   Binder     94     19.99  1879.06\n",
       "42  12/21/2019  Central   Andrews   Binder     28      4.99   139.72"
      ]
     },
     "execution_count": 35,
     "metadata": {
      "tags": []
     },
     "output_type": "execute_result"
    }
   ],
   "source": [
    "# Let's return a list and df from this website? \n",
    "df = pd.read_html('http://www.contextures.com/xlSampleData01.html', header = 0)[0]\n",
    "df"
   ]
  },
  {
   "cell_type": "code",
   "execution_count": 0,
   "metadata": {
    "colab": {
     "base_uri": "https://localhost:8080/",
     "height": 153
    },
    "colab_type": "code",
    "id": "jO_UWZjGOn-Q",
    "outputId": "594a5f38-34bd-4610-c98b-62f1a9637c7c"
   },
   "outputs": [
    {
     "data": {
      "text/plain": [
       "OrderDate     object\n",
       "Region        object\n",
       "Rep           object\n",
       "Item          object\n",
       "Units          int64\n",
       "UnitCost     float64\n",
       "Total        float64\n",
       "dtype: object"
      ]
     },
     "execution_count": 39,
     "metadata": {
      "tags": []
     },
     "output_type": "execute_result"
    }
   ],
   "source": [
    "df.head(11)\n",
    "df.describe()\n",
    "df.dtypes"
   ]
  },
  {
   "cell_type": "code",
   "execution_count": 0,
   "metadata": {
    "colab": {},
    "colab_type": "code",
    "id": "Klzl5uLAWWGJ"
   },
   "outputs": [],
   "source": [
    "# Let's take a look at the first 10 rows? "
   ]
  },
  {
   "cell_type": "code",
   "execution_count": 0,
   "metadata": {
    "colab": {},
    "colab_type": "code",
    "id": "f15NzIwEWWGL"
   },
   "outputs": [],
   "source": [
    "# Let's do some stats? "
   ]
  },
  {
   "cell_type": "code",
   "execution_count": 0,
   "metadata": {
    "colab": {},
    "colab_type": "code",
    "id": "36kSTpuFWWGN"
   },
   "outputs": [],
   "source": []
  },
  {
   "cell_type": "code",
   "execution_count": 0,
   "metadata": {
    "colab": {},
    "colab_type": "code",
    "id": "2X-eIAsTWWGP"
   },
   "outputs": [],
   "source": [
    "#df.describe()"
   ]
  },
  {
   "cell_type": "code",
   "execution_count": 0,
   "metadata": {
    "colab": {},
    "colab_type": "code",
    "id": "e8dkIbFrWWGQ"
   },
   "outputs": [],
   "source": [
    "# Pandas Data Types\n",
    "#df.dtypes"
   ]
  },
  {
   "cell_type": "code",
   "execution_count": 0,
   "metadata": {
    "colab": {},
    "colab_type": "code",
    "id": "C7AvBWelWWGR"
   },
   "outputs": [],
   "source": [
    "# What is the average cost per region?"
   ]
  },
  {
   "cell_type": "code",
   "execution_count": 0,
   "metadata": {
    "colab": {
     "base_uri": "https://localhost:8080/",
     "height": 173
    },
    "colab_type": "code",
    "id": "OB1QgghXJaTv",
    "outputId": "433675f6-8883-463a-8f83-e544cc4341b0"
   },
   "outputs": [
    {
     "data": {
      "text/html": [
       "<div>\n",
       "<style scoped>\n",
       "    .dataframe tbody tr th:only-of-type {\n",
       "        vertical-align: middle;\n",
       "    }\n",
       "\n",
       "    .dataframe tbody tr th {\n",
       "        vertical-align: top;\n",
       "    }\n",
       "\n",
       "    .dataframe thead th {\n",
       "        text-align: right;\n",
       "    }\n",
       "</style>\n",
       "<table border=\"1\" class=\"dataframe\">\n",
       "  <thead>\n",
       "    <tr style=\"text-align: right;\">\n",
       "      <th></th>\n",
       "      <th>Units</th>\n",
       "      <th>UnitCost</th>\n",
       "      <th>Total</th>\n",
       "    </tr>\n",
       "    <tr>\n",
       "      <th>Region</th>\n",
       "      <th></th>\n",
       "      <th></th>\n",
       "      <th></th>\n",
       "    </tr>\n",
       "  </thead>\n",
       "  <tbody>\n",
       "    <tr>\n",
       "      <th>Central</th>\n",
       "      <td>49.958333</td>\n",
       "      <td>18.018750</td>\n",
       "      <td>464.127917</td>\n",
       "    </tr>\n",
       "    <tr>\n",
       "      <th>East</th>\n",
       "      <td>53.153846</td>\n",
       "      <td>9.143846</td>\n",
       "      <td>461.699231</td>\n",
       "    </tr>\n",
       "    <tr>\n",
       "      <th>West</th>\n",
       "      <td>38.500000</td>\n",
       "      <td>53.658333</td>\n",
       "      <td>414.453333</td>\n",
       "    </tr>\n",
       "  </tbody>\n",
       "</table>\n",
       "</div>"
      ],
      "text/plain": [
       "             Units   UnitCost       Total\n",
       "Region                                   \n",
       "Central  49.958333  18.018750  464.127917\n",
       "East     53.153846   9.143846  461.699231\n",
       "West     38.500000  53.658333  414.453333"
      ]
     },
     "execution_count": 42,
     "metadata": {
      "tags": []
     },
     "output_type": "execute_result"
    }
   ],
   "source": [
    "df.groupby('Region').mean()\n"
   ]
  },
  {
   "cell_type": "code",
   "execution_count": 0,
   "metadata": {
    "colab": {},
    "colab_type": "code",
    "id": "T6fS_vb6JvoP"
   },
   "outputs": [],
   "source": [
    "# you are going to learn more about dfs in particular Pandas Numpy Scipy from other workshops such as ML, coding, and Python "
   ]
  },
  {
   "cell_type": "code",
   "execution_count": 0,
   "metadata": {
    "colab": {},
    "colab_type": "code",
    "id": "7ateDNUZKSTc"
   },
   "outputs": [],
   "source": [
    "# Break 5 mins"
   ]
  },
  {
   "cell_type": "markdown",
   "metadata": {
    "colab_type": "text",
    "id": "vf5H-V66WWGR"
   },
   "source": [
    "##  Parsing Wiki Tables with Pandas\n",
    "- `read_html documentation`\n",
    "- We will introduce another function that will help us in reading Wiki Tables: "
   ]
  },
  {
   "cell_type": "markdown",
   "metadata": {
    "colab_type": "text",
    "id": "dDJmASdrWWGS"
   },
   "source": [
    "- In this case, we need to call specific wikipedia webpage to parser function bulit on top of a thrid-party python module, such as `read_html` or `pandas.read_html` functions from Pandas. \n",
    "- When passing the URL through parser, we identify exact class to be parsed.\n",
    "- We know in case of Wikipedia web pages, table class is  called \"**wikitable**\""
   ]
  },
  {
   "cell_type": "code",
   "execution_count": 0,
   "metadata": {
    "colab": {},
    "colab_type": "code",
    "id": "p6GygG8T88eJ"
   },
   "outputs": [],
   "source": []
  },
  {
   "cell_type": "code",
   "execution_count": 0,
   "metadata": {
    "colab": {},
    "colab_type": "code",
    "id": "KBgPBZ5UWWGS"
   },
   "outputs": [],
   "source": [
    "# How to locate Wikitable Class in a Wikipedia Webpage?"
   ]
  },
  {
   "cell_type": "code",
   "execution_count": 0,
   "metadata": {
    "colab": {},
    "colab_type": "code",
    "id": "6tei5am9WWGS"
   },
   "outputs": [],
   "source": [
    "#https://en.wikipedia.org/wiki/List_of_African_countries_by_population"
   ]
  },
  {
   "cell_type": "code",
   "execution_count": 0,
   "metadata": {
    "colab": {},
    "colab_type": "code",
    "id": "KVB3qZs9K0xj"
   },
   "outputs": [],
   "source": [
    "# Let's import our function\n",
    "from pandas.io.html import read_html \n",
    "# Define Webpage:\n",
    "page = 'https://en.wikipedia.org/wiki/List_of_African_countries_by_population'\n",
    "# Pass arguments: \n",
    "wikitable = read_html(page, attrs={\"class\" : \"wikitable\"})"
   ]
  },
  {
   "cell_type": "code",
   "execution_count": 0,
   "metadata": {
    "colab": {
     "base_uri": "https://localhost:8080/",
     "height": 34
    },
    "colab_type": "code",
    "id": "b0xNbtYf-M75",
    "outputId": "31544047-1159-4acd-ce96-46899e85545c"
   },
   "outputs": [
    {
     "name": "stdout",
     "output_type": "stream",
     "text": [
      "I got this number 1 of tables from Wikipedia Page\n"
     ]
    }
   ],
   "source": [
    "len(wikitable)\n",
    "print (\"I got this number {num} of tables from Wikipedia Page\".format(num=len(wikitable)))"
   ]
  },
  {
   "cell_type": "code",
   "execution_count": 0,
   "metadata": {
    "colab": {
     "base_uri": "https://localhost:8080/",
     "height": 1000
    },
    "colab_type": "code",
    "id": "twuWFQrsP37X",
    "outputId": "407b8b92-4387-41ec-c83c-697a0c385044"
   },
   "outputs": [
    {
     "data": {
      "text/html": [
       "<div>\n",
       "<style scoped>\n",
       "    .dataframe tbody tr th:only-of-type {\n",
       "        vertical-align: middle;\n",
       "    }\n",
       "\n",
       "    .dataframe tbody tr th {\n",
       "        vertical-align: top;\n",
       "    }\n",
       "\n",
       "    .dataframe thead th {\n",
       "        text-align: right;\n",
       "    }\n",
       "</style>\n",
       "<table border=\"1\" class=\"dataframe\">\n",
       "  <thead>\n",
       "    <tr style=\"text-align: right;\">\n",
       "      <th></th>\n",
       "      <th>Country(or dependent territory)</th>\n",
       "      <th>Officialfigure(whereavailable)</th>\n",
       "      <th>Date oflast figure</th>\n",
       "      <th>Source</th>\n",
       "    </tr>\n",
       "  </thead>\n",
       "  <tbody>\n",
       "    <tr>\n",
       "      <th>0</th>\n",
       "      <td>Nigeria</td>\n",
       "      <td>193392517</td>\n",
       "      <td>2016</td>\n",
       "      <td>Official estimate</td>\n",
       "    </tr>\n",
       "    <tr>\n",
       "      <th>1</th>\n",
       "      <td>Ethiopia</td>\n",
       "      <td>99391000</td>\n",
       "      <td>2015</td>\n",
       "      <td>Official estimate</td>\n",
       "    </tr>\n",
       "    <tr>\n",
       "      <th>2</th>\n",
       "      <td>Egypt</td>\n",
       "      <td>96983083</td>\n",
       "      <td>March 31, 2019</td>\n",
       "      <td>Official population clock</td>\n",
       "    </tr>\n",
       "    <tr>\n",
       "      <th>3</th>\n",
       "      <td>Democratic Republic of the Congo</td>\n",
       "      <td>86026000</td>\n",
       "      <td>July 1, 2015</td>\n",
       "      <td>Official estimate</td>\n",
       "    </tr>\n",
       "    <tr>\n",
       "      <th>4</th>\n",
       "      <td>South Africa</td>\n",
       "      <td>54956900</td>\n",
       "      <td>July 1, 2015</td>\n",
       "      <td>Official estimate</td>\n",
       "    </tr>\n",
       "    <tr>\n",
       "      <th>5</th>\n",
       "      <td>Tanzania</td>\n",
       "      <td>51046000</td>\n",
       "      <td>2015</td>\n",
       "      <td>Official estimate</td>\n",
       "    </tr>\n",
       "    <tr>\n",
       "      <th>6</th>\n",
       "      <td>Kenya</td>\n",
       "      <td>45533000</td>\n",
       "      <td>2015</td>\n",
       "      <td>Official estimate</td>\n",
       "    </tr>\n",
       "    <tr>\n",
       "      <th>7</th>\n",
       "      <td>Sudan</td>\n",
       "      <td>40235000</td>\n",
       "      <td>2015</td>\n",
       "      <td>Official estimate</td>\n",
       "    </tr>\n",
       "    <tr>\n",
       "      <th>8</th>\n",
       "      <td>Algeria</td>\n",
       "      <td>40100000</td>\n",
       "      <td>January 1, 2016</td>\n",
       "      <td>Official estimate</td>\n",
       "    </tr>\n",
       "    <tr>\n",
       "      <th>9</th>\n",
       "      <td>Uganda</td>\n",
       "      <td>34856813</td>\n",
       "      <td>August 28, 2014</td>\n",
       "      <td>Preliminary 2014 census result</td>\n",
       "    </tr>\n",
       "    <tr>\n",
       "      <th>10</th>\n",
       "      <td>Morocco[1]</td>\n",
       "      <td>33337529</td>\n",
       "      <td>September 1, 2014</td>\n",
       "      <td>Preliminary 2014 census result</td>\n",
       "    </tr>\n",
       "    <tr>\n",
       "      <th>11</th>\n",
       "      <td>Mozambique</td>\n",
       "      <td>28013000</td>\n",
       "      <td>2015</td>\n",
       "      <td>Official estimate</td>\n",
       "    </tr>\n",
       "    <tr>\n",
       "      <th>12</th>\n",
       "      <td>Ghana</td>\n",
       "      <td>27043093</td>\n",
       "      <td>2014</td>\n",
       "      <td>Official estimate</td>\n",
       "    </tr>\n",
       "    <tr>\n",
       "      <th>13</th>\n",
       "      <td>Angola</td>\n",
       "      <td>24383301</td>\n",
       "      <td>May 16, 2014</td>\n",
       "      <td>Preliminary 2014 census result</td>\n",
       "    </tr>\n",
       "    <tr>\n",
       "      <th>14</th>\n",
       "      <td>Ivory Coast</td>\n",
       "      <td>22671331</td>\n",
       "      <td>May 15, 2014</td>\n",
       "      <td>Preliminary 2014 census result</td>\n",
       "    </tr>\n",
       "    <tr>\n",
       "      <th>15</th>\n",
       "      <td>Madagascar</td>\n",
       "      <td>22434363</td>\n",
       "      <td>2014</td>\n",
       "      <td>Official estimate</td>\n",
       "    </tr>\n",
       "    <tr>\n",
       "      <th>16</th>\n",
       "      <td>Cameroon</td>\n",
       "      <td>21917602</td>\n",
       "      <td>2015</td>\n",
       "      <td>Official estimate</td>\n",
       "    </tr>\n",
       "    <tr>\n",
       "      <th>17</th>\n",
       "      <td>Niger</td>\n",
       "      <td>17138707</td>\n",
       "      <td>December 10, 2012</td>\n",
       "      <td>Final 2012 census result</td>\n",
       "    </tr>\n",
       "    <tr>\n",
       "      <th>18</th>\n",
       "      <td>Burkina Faso</td>\n",
       "      <td>18450494</td>\n",
       "      <td>2015</td>\n",
       "      <td>Official estimate</td>\n",
       "    </tr>\n",
       "    <tr>\n",
       "      <th>19</th>\n",
       "      <td>Mali</td>\n",
       "      <td>14528662</td>\n",
       "      <td>April 1, 2009</td>\n",
       "      <td>Final 2009 census result</td>\n",
       "    </tr>\n",
       "    <tr>\n",
       "      <th>20</th>\n",
       "      <td>Malawi</td>\n",
       "      <td>16832900</td>\n",
       "      <td>July 1, 2016</td>\n",
       "      <td>Official estimate</td>\n",
       "    </tr>\n",
       "    <tr>\n",
       "      <th>21</th>\n",
       "      <td>Zambia</td>\n",
       "      <td>15473905</td>\n",
       "      <td>2015</td>\n",
       "      <td>Official estimate</td>\n",
       "    </tr>\n",
       "    <tr>\n",
       "      <th>22</th>\n",
       "      <td>Somalia</td>\n",
       "      <td>12316895</td>\n",
       "      <td>January 1, 2016</td>\n",
       "      <td>Official estimate</td>\n",
       "    </tr>\n",
       "    <tr>\n",
       "      <th>23</th>\n",
       "      <td>Senegal</td>\n",
       "      <td>14354690</td>\n",
       "      <td>2015</td>\n",
       "      <td>Official estimate</td>\n",
       "    </tr>\n",
       "    <tr>\n",
       "      <th>24</th>\n",
       "      <td>Chad</td>\n",
       "      <td>11039873</td>\n",
       "      <td>May 20, 2009</td>\n",
       "      <td>Final 2009 census result</td>\n",
       "    </tr>\n",
       "    <tr>\n",
       "      <th>25</th>\n",
       "      <td>Zimbabwe</td>\n",
       "      <td>13061239</td>\n",
       "      <td>August 17, 2012</td>\n",
       "      <td>Final 2012 census result</td>\n",
       "    </tr>\n",
       "    <tr>\n",
       "      <th>26</th>\n",
       "      <td>Rwanda</td>\n",
       "      <td>10515973</td>\n",
       "      <td>August 15, 2012</td>\n",
       "      <td>Final 2012 census result</td>\n",
       "    </tr>\n",
       "    <tr>\n",
       "      <th>27</th>\n",
       "      <td>Tunisia</td>\n",
       "      <td>10982754</td>\n",
       "      <td>April 23, 2014</td>\n",
       "      <td>Preliminary 2014 census result</td>\n",
       "    </tr>\n",
       "    <tr>\n",
       "      <th>28</th>\n",
       "      <td>Guinea</td>\n",
       "      <td>10628972</td>\n",
       "      <td>April 2, 2014</td>\n",
       "      <td>Preliminary 2014 census result</td>\n",
       "    </tr>\n",
       "    <tr>\n",
       "      <th>29</th>\n",
       "      <td>Benin</td>\n",
       "      <td>10008749</td>\n",
       "      <td>May 11, 2013</td>\n",
       "      <td>Final 2013 census result</td>\n",
       "    </tr>\n",
       "    <tr>\n",
       "      <th>30</th>\n",
       "      <td>Burundi</td>\n",
       "      <td>9823828</td>\n",
       "      <td>2015</td>\n",
       "      <td>Official estimate</td>\n",
       "    </tr>\n",
       "    <tr>\n",
       "      <th>31</th>\n",
       "      <td>South Sudan</td>\n",
       "      <td>8260490</td>\n",
       "      <td>April 22, 2008</td>\n",
       "      <td>2008 census result</td>\n",
       "    </tr>\n",
       "    <tr>\n",
       "      <th>32</th>\n",
       "      <td>Togo</td>\n",
       "      <td>6191155</td>\n",
       "      <td>November 6, 2010</td>\n",
       "      <td>Final 2010 census result</td>\n",
       "    </tr>\n",
       "    <tr>\n",
       "      <th>33</th>\n",
       "      <td>Eritrea</td>\n",
       "      <td>6536000</td>\n",
       "      <td>July 1, 2014</td>\n",
       "      <td>Official estimate</td>\n",
       "    </tr>\n",
       "    <tr>\n",
       "      <th>34</th>\n",
       "      <td>Sierra Leone</td>\n",
       "      <td>6348350</td>\n",
       "      <td>2014</td>\n",
       "      <td>Official estimate</td>\n",
       "    </tr>\n",
       "    <tr>\n",
       "      <th>35</th>\n",
       "      <td>Libya</td>\n",
       "      <td>5298152</td>\n",
       "      <td>April 15, 2006</td>\n",
       "      <td>2006 census result</td>\n",
       "    </tr>\n",
       "    <tr>\n",
       "      <th>36</th>\n",
       "      <td>Republic of the Congo</td>\n",
       "      <td>3697490</td>\n",
       "      <td>April 28, 2007</td>\n",
       "      <td>2007 census result</td>\n",
       "    </tr>\n",
       "    <tr>\n",
       "      <th>37</th>\n",
       "      <td>Central African Republic</td>\n",
       "      <td>3859139</td>\n",
       "      <td>2017</td>\n",
       "      <td>[1]</td>\n",
       "    </tr>\n",
       "    <tr>\n",
       "      <th>38</th>\n",
       "      <td>Liberia</td>\n",
       "      <td>3476608</td>\n",
       "      <td>March 21, 2008</td>\n",
       "      <td>Final 2008 census result</td>\n",
       "    </tr>\n",
       "    <tr>\n",
       "      <th>39</th>\n",
       "      <td>Mauritania</td>\n",
       "      <td>3718678</td>\n",
       "      <td>2016</td>\n",
       "      <td>Official estimate</td>\n",
       "    </tr>\n",
       "    <tr>\n",
       "      <th>40</th>\n",
       "      <td>Namibia</td>\n",
       "      <td>2280700</td>\n",
       "      <td>July 1, 2015</td>\n",
       "      <td>Official estimate</td>\n",
       "    </tr>\n",
       "    <tr>\n",
       "      <th>41</th>\n",
       "      <td>Botswana</td>\n",
       "      <td>2024904</td>\n",
       "      <td>August 22, 2011</td>\n",
       "      <td>Final 2011 census result</td>\n",
       "    </tr>\n",
       "    <tr>\n",
       "      <th>42</th>\n",
       "      <td>Lesotho</td>\n",
       "      <td>1894194</td>\n",
       "      <td>2011</td>\n",
       "      <td>Official estimate</td>\n",
       "    </tr>\n",
       "    <tr>\n",
       "      <th>43</th>\n",
       "      <td>Gambia</td>\n",
       "      <td>1882450</td>\n",
       "      <td>April 15, 2013</td>\n",
       "      <td>Preliminary 2013 census result[permanent dead ...</td>\n",
       "    </tr>\n",
       "    <tr>\n",
       "      <th>44</th>\n",
       "      <td>Gabon</td>\n",
       "      <td>1802278</td>\n",
       "      <td>October 5, 2013</td>\n",
       "      <td>Preliminary 2013 census result</td>\n",
       "    </tr>\n",
       "    <tr>\n",
       "      <th>45</th>\n",
       "      <td>Guinea-Bissau</td>\n",
       "      <td>1530673</td>\n",
       "      <td>2015</td>\n",
       "      <td>Official estimate</td>\n",
       "    </tr>\n",
       "    <tr>\n",
       "      <th>46</th>\n",
       "      <td>Mauritius</td>\n",
       "      <td>1261208</td>\n",
       "      <td>July 1, 2014</td>\n",
       "      <td>Official estimate</td>\n",
       "    </tr>\n",
       "    <tr>\n",
       "      <th>47</th>\n",
       "      <td>Equatorial Guinea</td>\n",
       "      <td>1222442</td>\n",
       "      <td>July 4, 2015</td>\n",
       "      <td>Preliminary 2015 census result</td>\n",
       "    </tr>\n",
       "    <tr>\n",
       "      <th>48</th>\n",
       "      <td>Eswatini</td>\n",
       "      <td>1119375</td>\n",
       "      <td>2015</td>\n",
       "      <td>Official estimate</td>\n",
       "    </tr>\n",
       "    <tr>\n",
       "      <th>49</th>\n",
       "      <td>Djibouti</td>\n",
       "      <td>864618</td>\n",
       "      <td>July 1, 2011</td>\n",
       "      <td>Official estimate</td>\n",
       "    </tr>\n",
       "    <tr>\n",
       "      <th>50</th>\n",
       "      <td>Réunion (France)</td>\n",
       "      <td>840974</td>\n",
       "      <td>January 1, 2013</td>\n",
       "      <td>Official estimate</td>\n",
       "    </tr>\n",
       "    <tr>\n",
       "      <th>51</th>\n",
       "      <td>Comoros</td>\n",
       "      <td>806200</td>\n",
       "      <td>July 1, 2016</td>\n",
       "      <td>Official estimate</td>\n",
       "    </tr>\n",
       "    <tr>\n",
       "      <th>52</th>\n",
       "      <td>Cape Verde</td>\n",
       "      <td>491875</td>\n",
       "      <td>June 16, 2010</td>\n",
       "      <td>Final 2010 census result[permanent dead link]</td>\n",
       "    </tr>\n",
       "    <tr>\n",
       "      <th>53</th>\n",
       "      <td>Western Sahara[2]</td>\n",
       "      <td>510713</td>\n",
       "      <td>September 2, 2014</td>\n",
       "      <td>Preliminary 2014 census result</td>\n",
       "    </tr>\n",
       "    <tr>\n",
       "      <th>54</th>\n",
       "      <td>Mayotte (France)</td>\n",
       "      <td>212600</td>\n",
       "      <td>August 21, 2012</td>\n",
       "      <td>2012 census result</td>\n",
       "    </tr>\n",
       "    <tr>\n",
       "      <th>55</th>\n",
       "      <td>São Tomé and Príncipe</td>\n",
       "      <td>179200</td>\n",
       "      <td>May 13, 2012</td>\n",
       "      <td>Final 2012 census result</td>\n",
       "    </tr>\n",
       "    <tr>\n",
       "      <th>56</th>\n",
       "      <td>Seychelles</td>\n",
       "      <td>90945</td>\n",
       "      <td>August 26, 2010</td>\n",
       "      <td>Final 2010 census result</td>\n",
       "    </tr>\n",
       "    <tr>\n",
       "      <th>57</th>\n",
       "      <td>Saint Helena, Ascension and Tristan da Cunha (UK)</td>\n",
       "      <td>5633</td>\n",
       "      <td>June 2016</td>\n",
       "      <td>2016 census result</td>\n",
       "    </tr>\n",
       "  </tbody>\n",
       "</table>\n",
       "</div>"
      ],
      "text/plain": [
       "                      Country(or dependent territory)  ...                                             Source\n",
       "0                                             Nigeria  ...                                  Official estimate\n",
       "1                                            Ethiopia  ...                                  Official estimate\n",
       "2                                               Egypt  ...                          Official population clock\n",
       "3                    Democratic Republic of the Congo  ...                                  Official estimate\n",
       "4                                        South Africa  ...                                  Official estimate\n",
       "5                                            Tanzania  ...                                  Official estimate\n",
       "6                                               Kenya  ...                                  Official estimate\n",
       "7                                               Sudan  ...                                  Official estimate\n",
       "8                                             Algeria  ...                                  Official estimate\n",
       "9                                              Uganda  ...                     Preliminary 2014 census result\n",
       "10                                         Morocco[1]  ...                     Preliminary 2014 census result\n",
       "11                                         Mozambique  ...                                  Official estimate\n",
       "12                                              Ghana  ...                                  Official estimate\n",
       "13                                             Angola  ...                     Preliminary 2014 census result\n",
       "14                                        Ivory Coast  ...                     Preliminary 2014 census result\n",
       "15                                         Madagascar  ...                                  Official estimate\n",
       "16                                           Cameroon  ...                                  Official estimate\n",
       "17                                              Niger  ...                           Final 2012 census result\n",
       "18                                       Burkina Faso  ...                                  Official estimate\n",
       "19                                               Mali  ...                           Final 2009 census result\n",
       "20                                             Malawi  ...                                  Official estimate\n",
       "21                                             Zambia  ...                                  Official estimate\n",
       "22                                            Somalia  ...                                  Official estimate\n",
       "23                                            Senegal  ...                                  Official estimate\n",
       "24                                               Chad  ...                           Final 2009 census result\n",
       "25                                           Zimbabwe  ...                           Final 2012 census result\n",
       "26                                             Rwanda  ...                           Final 2012 census result\n",
       "27                                            Tunisia  ...                     Preliminary 2014 census result\n",
       "28                                             Guinea  ...                     Preliminary 2014 census result\n",
       "29                                              Benin  ...                           Final 2013 census result\n",
       "30                                            Burundi  ...                                  Official estimate\n",
       "31                                        South Sudan  ...                                 2008 census result\n",
       "32                                               Togo  ...                           Final 2010 census result\n",
       "33                                            Eritrea  ...                                  Official estimate\n",
       "34                                       Sierra Leone  ...                                  Official estimate\n",
       "35                                              Libya  ...                                 2006 census result\n",
       "36                              Republic of the Congo  ...                                 2007 census result\n",
       "37                           Central African Republic  ...                                                [1]\n",
       "38                                            Liberia  ...                           Final 2008 census result\n",
       "39                                         Mauritania  ...                                  Official estimate\n",
       "40                                            Namibia  ...                                  Official estimate\n",
       "41                                           Botswana  ...                           Final 2011 census result\n",
       "42                                            Lesotho  ...                                  Official estimate\n",
       "43                                             Gambia  ...  Preliminary 2013 census result[permanent dead ...\n",
       "44                                              Gabon  ...                     Preliminary 2013 census result\n",
       "45                                      Guinea-Bissau  ...                                  Official estimate\n",
       "46                                          Mauritius  ...                                  Official estimate\n",
       "47                                  Equatorial Guinea  ...                     Preliminary 2015 census result\n",
       "48                                           Eswatini  ...                                  Official estimate\n",
       "49                                           Djibouti  ...                                  Official estimate\n",
       "50                                   Réunion (France)  ...                                  Official estimate\n",
       "51                                            Comoros  ...                                  Official estimate\n",
       "52                                         Cape Verde  ...      Final 2010 census result[permanent dead link]\n",
       "53                                  Western Sahara[2]  ...                     Preliminary 2014 census result\n",
       "54                                   Mayotte (France)  ...                                 2012 census result\n",
       "55                              São Tomé and Príncipe  ...                           Final 2012 census result\n",
       "56                                         Seychelles  ...                           Final 2010 census result\n",
       "57  Saint Helena, Ascension and Tristan da Cunha (UK)  ...                                 2016 census result\n",
       "\n",
       "[58 rows x 4 columns]"
      ]
     },
     "execution_count": 47,
     "metadata": {
      "tags": []
     },
     "output_type": "execute_result"
    }
   ],
   "source": [
    "type(wikitable)\n",
    "wikitable \n",
    "df_wikitable = wikitable[0]\n",
    "#df_wikitable"
   ]
  },
  {
   "cell_type": "code",
   "execution_count": 0,
   "metadata": {
    "colab": {},
    "colab_type": "code",
    "id": "l2j9J3DWMBpI"
   },
   "outputs": [],
   "source": [
    "# How many tables did we get? \n"
   ]
  },
  {
   "cell_type": "code",
   "execution_count": 0,
   "metadata": {
    "colab": {},
    "colab_type": "code",
    "id": "c5KL68hDP460"
   },
   "outputs": [],
   "source": []
  },
  {
   "cell_type": "code",
   "execution_count": 0,
   "metadata": {
    "colab": {},
    "colab_type": "code",
    "id": "i2XtDsVmMbWg"
   },
   "outputs": [],
   "source": [
    "#wikitable_df = wikitable[0]\n",
    "#wikitable_df"
   ]
  },
  {
   "cell_type": "code",
   "execution_count": 0,
   "metadata": {
    "colab": {},
    "colab_type": "code",
    "id": "D3LTSs3hWWGU"
   },
   "outputs": [],
   "source": []
  },
  {
   "cell_type": "code",
   "execution_count": 0,
   "metadata": {
    "colab": {},
    "colab_type": "code",
    "id": "LcVj02aYWWGV"
   },
   "outputs": [],
   "source": [
    "# Let's use pd.read_html: "
   ]
  },
  {
   "cell_type": "code",
   "execution_count": 0,
   "metadata": {
    "colab": {},
    "colab_type": "code",
    "id": "ut6Wh_Y1WWGW"
   },
   "outputs": [],
   "source": [
    "#https://en.wikipedia.org/wiki/Timeline_of_programming_languages"
   ]
  },
  {
   "cell_type": "code",
   "execution_count": 0,
   "metadata": {
    "colab": {
     "base_uri": "https://localhost:8080/",
     "height": 34
    },
    "colab_type": "code",
    "id": "4TTFII5XQEmx",
    "outputId": "8073333c-e3e7-4e2d-bf28-2593a75328ab"
   },
   "outputs": [
    {
     "data": {
      "text/plain": [
       "13"
      ]
     },
     "execution_count": 52,
     "metadata": {
      "tags": []
     },
     "output_type": "execute_result"
    }
   ],
   "source": [
    "list_wiki = pd.read_html('https://en.wikipedia.org/wiki/Timeline_of_programming_languages')\n",
    "len(list_wiki)"
   ]
  },
  {
   "cell_type": "code",
   "execution_count": 0,
   "metadata": {
    "colab": {},
    "colab_type": "code",
    "id": "CUNgmXTCWWGW"
   },
   "outputs": [],
   "source": [
    "# Let's look at the length of our dfs list? "
   ]
  },
  {
   "cell_type": "code",
   "execution_count": 0,
   "metadata": {
    "colab": {},
    "colab_type": "code",
    "id": "TQ0AdkVASoPf"
   },
   "outputs": [],
   "source": [
    "#type()"
   ]
  },
  {
   "cell_type": "code",
   "execution_count": 0,
   "metadata": {
    "colab": {
     "base_uri": "https://localhost:8080/",
     "height": 141
    },
    "colab_type": "code",
    "id": "ZUBO6R67_s_D",
    "outputId": "d89bd803-0e93-4aa5-904e-17de898b8348"
   },
   "outputs": [
    {
     "data": {
      "text/html": [
       "<div>\n",
       "<style scoped>\n",
       "    .dataframe tbody tr th:only-of-type {\n",
       "        vertical-align: middle;\n",
       "    }\n",
       "\n",
       "    .dataframe tbody tr th {\n",
       "        vertical-align: top;\n",
       "    }\n",
       "\n",
       "    .dataframe thead th {\n",
       "        text-align: right;\n",
       "    }\n",
       "</style>\n",
       "<table border=\"1\" class=\"dataframe\">\n",
       "  <thead>\n",
       "    <tr style=\"text-align: right;\">\n",
       "      <th></th>\n",
       "      <th>vteProgramming languages</th>\n",
       "      <th>vteProgramming languages.1</th>\n",
       "    </tr>\n",
       "  </thead>\n",
       "  <tbody>\n",
       "    <tr>\n",
       "      <th>0</th>\n",
       "      <td>Comparison Timeline History</td>\n",
       "      <td>Comparison Timeline History</td>\n",
       "    </tr>\n",
       "    <tr>\n",
       "      <th>1</th>\n",
       "      <td>APL Assembly BASIC C C++ C# COBOL Elixir Fortr...</td>\n",
       "      <td>APL Assembly BASIC C C++ C# COBOL Elixir Fortr...</td>\n",
       "    </tr>\n",
       "    <tr>\n",
       "      <th>2</th>\n",
       "      <td>Category  Lists Alphabetical Categorical Gener...</td>\n",
       "      <td>Category  Lists Alphabetical Categorical Gener...</td>\n",
       "    </tr>\n",
       "  </tbody>\n",
       "</table>\n",
       "</div>"
      ],
      "text/plain": [
       "                            vteProgramming languages                         vteProgramming languages.1\n",
       "0                        Comparison Timeline History                        Comparison Timeline History\n",
       "1  APL Assembly BASIC C C++ C# COBOL Elixir Fortr...  APL Assembly BASIC C C++ C# COBOL Elixir Fortr...\n",
       "2  Category  Lists Alphabetical Categorical Gener...  Category  Lists Alphabetical Categorical Gener..."
      ]
     },
     "execution_count": 57,
     "metadata": {
      "tags": []
     },
     "output_type": "execute_result"
    }
   ],
   "source": [
    "list_wiki[12]"
   ]
  },
  {
   "cell_type": "code",
   "execution_count": 0,
   "metadata": {
    "colab": {},
    "colab_type": "code",
    "id": "br1dabdlWWGX"
   },
   "outputs": [],
   "source": [
    "#type(list[11])"
   ]
  },
  {
   "cell_type": "code",
   "execution_count": 0,
   "metadata": {
    "colab": {
     "base_uri": "https://localhost:8080/",
     "height": 1000
    },
    "colab_type": "code",
    "id": "4nj1mqU5WWGY",
    "outputId": "29234475-0cae-4944-b32a-5dac4bf39948"
   },
   "outputs": [
    {
     "data": {
      "text/html": [
       "<div>\n",
       "<style scoped>\n",
       "    .dataframe tbody tr th:only-of-type {\n",
       "        vertical-align: middle;\n",
       "    }\n",
       "\n",
       "    .dataframe tbody tr th {\n",
       "        vertical-align: top;\n",
       "    }\n",
       "\n",
       "    .dataframe thead th {\n",
       "        text-align: right;\n",
       "    }\n",
       "</style>\n",
       "<table border=\"1\" class=\"dataframe\">\n",
       "  <thead>\n",
       "    <tr style=\"text-align: right;\">\n",
       "      <th></th>\n",
       "      <th>Year</th>\n",
       "      <th>Name</th>\n",
       "      <th>Chief developer, company</th>\n",
       "      <th>Predecessor(s)</th>\n",
       "    </tr>\n",
       "  </thead>\n",
       "  <tbody>\n",
       "    <tr>\n",
       "      <th>0</th>\n",
       "      <td>1804</td>\n",
       "      <td>Jacquard Loom</td>\n",
       "      <td>Joseph Marie Jacquard</td>\n",
       "      <td>none (unique language)</td>\n",
       "    </tr>\n",
       "    <tr>\n",
       "      <th>1</th>\n",
       "      <td>1943–45</td>\n",
       "      <td>Plankalkül (concept)</td>\n",
       "      <td>Konrad Zuse</td>\n",
       "      <td>none (unique language)</td>\n",
       "    </tr>\n",
       "    <tr>\n",
       "      <th>2</th>\n",
       "      <td>1943–46</td>\n",
       "      <td>ENIAC coding system</td>\n",
       "      <td>John von Neumann, John Mauchly, J. Presper Eck...</td>\n",
       "      <td>none (unique language)</td>\n",
       "    </tr>\n",
       "    <tr>\n",
       "      <th>3</th>\n",
       "      <td>1946</td>\n",
       "      <td>ENIAC Short Code</td>\n",
       "      <td>Richard Clippinger, John von Neumann after Ala...</td>\n",
       "      <td>ENIAC coding system</td>\n",
       "    </tr>\n",
       "    <tr>\n",
       "      <th>4</th>\n",
       "      <td>1946</td>\n",
       "      <td>Von Neumann and Goldstine graphing system (Not...</td>\n",
       "      <td>John von Neumann and Herman Goldstine</td>\n",
       "      <td>ENIAC coding system</td>\n",
       "    </tr>\n",
       "    <tr>\n",
       "      <th>5</th>\n",
       "      <td>1947</td>\n",
       "      <td>ARC Assembly</td>\n",
       "      <td>Kathleen Booth[1][2]</td>\n",
       "      <td>ENIAC coding system</td>\n",
       "    </tr>\n",
       "    <tr>\n",
       "      <th>6</th>\n",
       "      <td>1948</td>\n",
       "      <td>CPC Coding scheme</td>\n",
       "      <td>Howard H. Aiken</td>\n",
       "      <td>Analytical Engine order code</td>\n",
       "    </tr>\n",
       "    <tr>\n",
       "      <th>7</th>\n",
       "      <td>1948</td>\n",
       "      <td>Curry notation system</td>\n",
       "      <td>Haskell Curry</td>\n",
       "      <td>ENIAC coding system</td>\n",
       "    </tr>\n",
       "    <tr>\n",
       "      <th>8</th>\n",
       "      <td>1948</td>\n",
       "      <td>Plankalkül (concept published)</td>\n",
       "      <td>Konrad Zuse</td>\n",
       "      <td>none (unique language)</td>\n",
       "    </tr>\n",
       "    <tr>\n",
       "      <th>9</th>\n",
       "      <td>1949</td>\n",
       "      <td>Short Code</td>\n",
       "      <td>John Mauchly and William F. Schmitt</td>\n",
       "      <td>ENIAC Short Code</td>\n",
       "    </tr>\n",
       "    <tr>\n",
       "      <th>10</th>\n",
       "      <td>Year</td>\n",
       "      <td>Name</td>\n",
       "      <td>Chief developer, company</td>\n",
       "      <td>Predecessor(s)</td>\n",
       "    </tr>\n",
       "    <tr>\n",
       "      <th>0</th>\n",
       "      <td>1950</td>\n",
       "      <td>Short Code</td>\n",
       "      <td>William F. Schmidt, Albert B. Tonik,[3] J. R. ...</td>\n",
       "      <td>Brief Code</td>\n",
       "    </tr>\n",
       "    <tr>\n",
       "      <th>1</th>\n",
       "      <td>1950</td>\n",
       "      <td>Birkbeck Assembler</td>\n",
       "      <td>Kathleen Booth</td>\n",
       "      <td>ARC</td>\n",
       "    </tr>\n",
       "    <tr>\n",
       "      <th>2</th>\n",
       "      <td>1951</td>\n",
       "      <td>Superplan</td>\n",
       "      <td>Heinz Rutishauser</td>\n",
       "      <td>Plankalkül</td>\n",
       "    </tr>\n",
       "    <tr>\n",
       "      <th>3</th>\n",
       "      <td>1951</td>\n",
       "      <td>ALGAE</td>\n",
       "      <td>Edward A. Voorhees and Karl Balke</td>\n",
       "      <td>none (unique language)</td>\n",
       "    </tr>\n",
       "    <tr>\n",
       "      <th>4</th>\n",
       "      <td>1951</td>\n",
       "      <td>Intermediate Programming Language</td>\n",
       "      <td>Arthur Burks</td>\n",
       "      <td>Short Code</td>\n",
       "    </tr>\n",
       "    <tr>\n",
       "      <th>5</th>\n",
       "      <td>1951</td>\n",
       "      <td>Regional Assembly Language</td>\n",
       "      <td>Maurice Wilkes</td>\n",
       "      <td>EDSAC</td>\n",
       "    </tr>\n",
       "    <tr>\n",
       "      <th>6</th>\n",
       "      <td>1951</td>\n",
       "      <td>Boehm unnamed coding system</td>\n",
       "      <td>Corrado Böhm</td>\n",
       "      <td>CPC Coding scheme</td>\n",
       "    </tr>\n",
       "    <tr>\n",
       "      <th>7</th>\n",
       "      <td>1951</td>\n",
       "      <td>Klammerausdrücke</td>\n",
       "      <td>Konrad Zuse</td>\n",
       "      <td>Plankalkül</td>\n",
       "    </tr>\n",
       "    <tr>\n",
       "      <th>8</th>\n",
       "      <td>1951</td>\n",
       "      <td>OMNIBAC Symbolic Assembler</td>\n",
       "      <td>Charles Katz</td>\n",
       "      <td>Short Code</td>\n",
       "    </tr>\n",
       "    <tr>\n",
       "      <th>9</th>\n",
       "      <td>1951</td>\n",
       "      <td>Stanislaus (Notation)</td>\n",
       "      <td>Fritz Bauer</td>\n",
       "      <td>none (unique language)</td>\n",
       "    </tr>\n",
       "    <tr>\n",
       "      <th>10</th>\n",
       "      <td>1951</td>\n",
       "      <td>Whirlwind assembler</td>\n",
       "      <td>Charles Adams and Jack Gilmore at MIT Project ...</td>\n",
       "      <td>EDSAC</td>\n",
       "    </tr>\n",
       "    <tr>\n",
       "      <th>11</th>\n",
       "      <td>1951</td>\n",
       "      <td>Rochester assembler</td>\n",
       "      <td>Nat Rochester</td>\n",
       "      <td>EDSAC</td>\n",
       "    </tr>\n",
       "    <tr>\n",
       "      <th>12</th>\n",
       "      <td>1951</td>\n",
       "      <td>Sort Merge Generator</td>\n",
       "      <td>Betty Holberton</td>\n",
       "      <td>none (unique language)</td>\n",
       "    </tr>\n",
       "    <tr>\n",
       "      <th>13</th>\n",
       "      <td>1952</td>\n",
       "      <td>A-0</td>\n",
       "      <td>Grace Hopper</td>\n",
       "      <td>Short Code</td>\n",
       "    </tr>\n",
       "    <tr>\n",
       "      <th>14</th>\n",
       "      <td>1952</td>\n",
       "      <td>Glennie Autocode</td>\n",
       "      <td>Alick Glennie after Alan Turing</td>\n",
       "      <td>CPC Coding scheme</td>\n",
       "    </tr>\n",
       "    <tr>\n",
       "      <th>15</th>\n",
       "      <td>1952</td>\n",
       "      <td>Editing Generator</td>\n",
       "      <td>Milly Koss</td>\n",
       "      <td>SORT/MERGE</td>\n",
       "    </tr>\n",
       "    <tr>\n",
       "      <th>16</th>\n",
       "      <td>1952</td>\n",
       "      <td>COMPOOL</td>\n",
       "      <td>RAND/SDC</td>\n",
       "      <td>none (unique language)</td>\n",
       "    </tr>\n",
       "    <tr>\n",
       "      <th>17</th>\n",
       "      <td>1953</td>\n",
       "      <td>Speedcoding</td>\n",
       "      <td>John W. Backus</td>\n",
       "      <td>none (unique language)</td>\n",
       "    </tr>\n",
       "    <tr>\n",
       "      <th>18</th>\n",
       "      <td>1953</td>\n",
       "      <td>READ/PRINT</td>\n",
       "      <td>Don Harroff, James Fishman, George Ryckman</td>\n",
       "      <td>none (unique language)</td>\n",
       "    </tr>\n",
       "    <tr>\n",
       "      <th>...</th>\n",
       "      <td>...</td>\n",
       "      <td>...</td>\n",
       "      <td>...</td>\n",
       "      <td>...</td>\n",
       "    </tr>\n",
       "    <tr>\n",
       "      <th>1</th>\n",
       "      <td>2011</td>\n",
       "      <td>C11</td>\n",
       "      <td>C11 ISO/IEC 9899:2011</td>\n",
       "      <td>NaN</td>\n",
       "    </tr>\n",
       "    <tr>\n",
       "      <th>2</th>\n",
       "      <td>2011</td>\n",
       "      <td>Ceylon</td>\n",
       "      <td>Gavin King, Red Hat</td>\n",
       "      <td>Java</td>\n",
       "    </tr>\n",
       "    <tr>\n",
       "      <th>3</th>\n",
       "      <td>2011</td>\n",
       "      <td>Dart</td>\n",
       "      <td>Google</td>\n",
       "      <td>Java, JavaScript, CoffeeScript, Go</td>\n",
       "    </tr>\n",
       "    <tr>\n",
       "      <th>4</th>\n",
       "      <td>2011</td>\n",
       "      <td>C++11</td>\n",
       "      <td>C++ ISO/IEC 14882:2011</td>\n",
       "      <td>C++, Standard C, C</td>\n",
       "    </tr>\n",
       "    <tr>\n",
       "      <th>5</th>\n",
       "      <td>2011</td>\n",
       "      <td>Kotlin</td>\n",
       "      <td>JetBrains</td>\n",
       "      <td>Java, Scala, Groovy, C#, Gosu</td>\n",
       "    </tr>\n",
       "    <tr>\n",
       "      <th>6</th>\n",
       "      <td>2011</td>\n",
       "      <td>Red</td>\n",
       "      <td>Nenad Rakocevic</td>\n",
       "      <td>Rebol, Scala, Lua</td>\n",
       "    </tr>\n",
       "    <tr>\n",
       "      <th>7</th>\n",
       "      <td>2011</td>\n",
       "      <td>MonkeyX</td>\n",
       "      <td>Mark Sibly</td>\n",
       "      <td>NaN</td>\n",
       "    </tr>\n",
       "    <tr>\n",
       "      <th>8</th>\n",
       "      <td>2011</td>\n",
       "      <td>Opa</td>\n",
       "      <td>MLstate</td>\n",
       "      <td>OCaml, Erlang, JavaScript</td>\n",
       "    </tr>\n",
       "    <tr>\n",
       "      <th>9</th>\n",
       "      <td>2012</td>\n",
       "      <td>Elixir</td>\n",
       "      <td>José Valim</td>\n",
       "      <td>Erlang, Ruby, Clojure</td>\n",
       "    </tr>\n",
       "    <tr>\n",
       "      <th>10</th>\n",
       "      <td>2012</td>\n",
       "      <td>Elm</td>\n",
       "      <td>Evan Czaplicki</td>\n",
       "      <td>Haskell, Standard ML, OCaml, F#</td>\n",
       "    </tr>\n",
       "    <tr>\n",
       "      <th>11</th>\n",
       "      <td>2012</td>\n",
       "      <td>TypeScript</td>\n",
       "      <td>Anders Hejlsberg, Microsoft</td>\n",
       "      <td>JavaScript, CoffeeScript</td>\n",
       "    </tr>\n",
       "    <tr>\n",
       "      <th>12</th>\n",
       "      <td>2012</td>\n",
       "      <td>Julia</td>\n",
       "      <td>Jeff Bezanson, Stefan Karpinski, Viral Shah, A...</td>\n",
       "      <td>MATLAB, Lisp, C, Fortran, Mathematica[9] (stri...</td>\n",
       "    </tr>\n",
       "    <tr>\n",
       "      <th>13</th>\n",
       "      <td>2012</td>\n",
       "      <td>P</td>\n",
       "      <td>Vivek Gupta, Ethan Jackson, Shaz Qadeer, Srira...</td>\n",
       "      <td>NaN</td>\n",
       "    </tr>\n",
       "    <tr>\n",
       "      <th>14</th>\n",
       "      <td>2012</td>\n",
       "      <td>Ada 2012</td>\n",
       "      <td>ARA and Ada Europe (ISO/IEC 8652:2012)</td>\n",
       "      <td>Ada 2005, ISO/IEC 8652:1995/Amd 1:2007</td>\n",
       "    </tr>\n",
       "    <tr>\n",
       "      <th>15</th>\n",
       "      <td>2013</td>\n",
       "      <td>P4</td>\n",
       "      <td>P4 Language Consortium (P4.org)</td>\n",
       "      <td>NaN</td>\n",
       "    </tr>\n",
       "    <tr>\n",
       "      <th>16</th>\n",
       "      <td>2013</td>\n",
       "      <td>Cuneiform</td>\n",
       "      <td>Jörgen Brandt</td>\n",
       "      <td>Swift (parallel scripting language)</td>\n",
       "    </tr>\n",
       "    <tr>\n",
       "      <th>17</th>\n",
       "      <td>2014</td>\n",
       "      <td>Crystal</td>\n",
       "      <td>Ary Borenszweig, Manas Technology Solutions</td>\n",
       "      <td>Ruby, C, Rust, Go, C#, Python</td>\n",
       "    </tr>\n",
       "    <tr>\n",
       "      <th>18</th>\n",
       "      <td>2014</td>\n",
       "      <td>Hack</td>\n",
       "      <td>Facebook</td>\n",
       "      <td>PHP</td>\n",
       "    </tr>\n",
       "    <tr>\n",
       "      <th>19</th>\n",
       "      <td>2014</td>\n",
       "      <td>Swift</td>\n",
       "      <td>Apple Inc.</td>\n",
       "      <td>Objective-C, Rust, Haskell, Ruby, Python, C#, CLU</td>\n",
       "    </tr>\n",
       "    <tr>\n",
       "      <th>20</th>\n",
       "      <td>2014</td>\n",
       "      <td>C++14</td>\n",
       "      <td>C++ ISO/IEC 14882:2014</td>\n",
       "      <td>C++, Standard C, C</td>\n",
       "    </tr>\n",
       "    <tr>\n",
       "      <th>21</th>\n",
       "      <td>2015</td>\n",
       "      <td>Perl 6</td>\n",
       "      <td>The Rakudo Team</td>\n",
       "      <td>Perl, Haskell, Python, Ruby</td>\n",
       "    </tr>\n",
       "    <tr>\n",
       "      <th>22</th>\n",
       "      <td>2015</td>\n",
       "      <td>Pony</td>\n",
       "      <td>NaN</td>\n",
       "      <td>NaN</td>\n",
       "    </tr>\n",
       "    <tr>\n",
       "      <th>23</th>\n",
       "      <td>2016</td>\n",
       "      <td>Reason</td>\n",
       "      <td>Jordan Walke</td>\n",
       "      <td>JavaScript, OCaml[11]</td>\n",
       "    </tr>\n",
       "    <tr>\n",
       "      <th>24</th>\n",
       "      <td>2016</td>\n",
       "      <td>Ring</td>\n",
       "      <td>Mahmoud Fayed</td>\n",
       "      <td>Lua, Python, Ruby, C, C#, BASIC, QML, xBase, S...</td>\n",
       "    </tr>\n",
       "    <tr>\n",
       "      <th>25</th>\n",
       "      <td>2017</td>\n",
       "      <td>C++17</td>\n",
       "      <td>C++ ISO/IEC 14882:2017</td>\n",
       "      <td>C++, Standard C, C</td>\n",
       "    </tr>\n",
       "    <tr>\n",
       "      <th>26</th>\n",
       "      <td>2017</td>\n",
       "      <td>Ballerina</td>\n",
       "      <td>WSO2, Open Source[12]</td>\n",
       "      <td>Java, Javascript, Go, Rust, C#</td>\n",
       "    </tr>\n",
       "    <tr>\n",
       "      <th>27</th>\n",
       "      <td>2018</td>\n",
       "      <td>C18</td>\n",
       "      <td>C18 ISO/IEC 9899:2018</td>\n",
       "      <td>NaN</td>\n",
       "    </tr>\n",
       "    <tr>\n",
       "      <th>28</th>\n",
       "      <td>2018</td>\n",
       "      <td>Fortran 2018</td>\n",
       "      <td>ISO/IEC JTC1/SC22/WG5 N2150:2018</td>\n",
       "      <td>Fortran 2008</td>\n",
       "    </tr>\n",
       "    <tr>\n",
       "      <th>29</th>\n",
       "      <td>2019</td>\n",
       "      <td>V</td>\n",
       "      <td>Alexander Medvednikov</td>\n",
       "      <td>Go, Rust</td>\n",
       "    </tr>\n",
       "    <tr>\n",
       "      <th>30</th>\n",
       "      <td>Year</td>\n",
       "      <td>Name</td>\n",
       "      <td>Chief developer, company</td>\n",
       "      <td>Predecessor(s)</td>\n",
       "    </tr>\n",
       "  </tbody>\n",
       "</table>\n",
       "<p>399 rows × 4 columns</p>\n",
       "</div>"
      ],
      "text/plain": [
       "       Year  ...                                     Predecessor(s)\n",
       "0      1804  ...                             none (unique language)\n",
       "1   1943–45  ...                             none (unique language)\n",
       "2   1943–46  ...                             none (unique language)\n",
       "3      1946  ...                                ENIAC coding system\n",
       "4      1946  ...                                ENIAC coding system\n",
       "5      1947  ...                                ENIAC coding system\n",
       "6      1948  ...                       Analytical Engine order code\n",
       "7      1948  ...                                ENIAC coding system\n",
       "8      1948  ...                             none (unique language)\n",
       "9      1949  ...                                   ENIAC Short Code\n",
       "10     Year  ...                                     Predecessor(s)\n",
       "0      1950  ...                                         Brief Code\n",
       "1      1950  ...                                                ARC\n",
       "2      1951  ...                                         Plankalkül\n",
       "3      1951  ...                             none (unique language)\n",
       "4      1951  ...                                         Short Code\n",
       "5      1951  ...                                              EDSAC\n",
       "6      1951  ...                                  CPC Coding scheme\n",
       "7      1951  ...                                         Plankalkül\n",
       "8      1951  ...                                         Short Code\n",
       "9      1951  ...                             none (unique language)\n",
       "10     1951  ...                                              EDSAC\n",
       "11     1951  ...                                              EDSAC\n",
       "12     1951  ...                             none (unique language)\n",
       "13     1952  ...                                         Short Code\n",
       "14     1952  ...                                  CPC Coding scheme\n",
       "15     1952  ...                                         SORT/MERGE\n",
       "16     1952  ...                             none (unique language)\n",
       "17     1953  ...                             none (unique language)\n",
       "18     1953  ...                             none (unique language)\n",
       "..      ...  ...                                                ...\n",
       "1      2011  ...                                                NaN\n",
       "2      2011  ...                                               Java\n",
       "3      2011  ...                 Java, JavaScript, CoffeeScript, Go\n",
       "4      2011  ...                                 C++, Standard C, C\n",
       "5      2011  ...                      Java, Scala, Groovy, C#, Gosu\n",
       "6      2011  ...                                  Rebol, Scala, Lua\n",
       "7      2011  ...                                                NaN\n",
       "8      2011  ...                          OCaml, Erlang, JavaScript\n",
       "9      2012  ...                              Erlang, Ruby, Clojure\n",
       "10     2012  ...                    Haskell, Standard ML, OCaml, F#\n",
       "11     2012  ...                           JavaScript, CoffeeScript\n",
       "12     2012  ...  MATLAB, Lisp, C, Fortran, Mathematica[9] (stri...\n",
       "13     2012  ...                                                NaN\n",
       "14     2012  ...             Ada 2005, ISO/IEC 8652:1995/Amd 1:2007\n",
       "15     2013  ...                                                NaN\n",
       "16     2013  ...                Swift (parallel scripting language)\n",
       "17     2014  ...                      Ruby, C, Rust, Go, C#, Python\n",
       "18     2014  ...                                                PHP\n",
       "19     2014  ...  Objective-C, Rust, Haskell, Ruby, Python, C#, CLU\n",
       "20     2014  ...                                 C++, Standard C, C\n",
       "21     2015  ...                        Perl, Haskell, Python, Ruby\n",
       "22     2015  ...                                                NaN\n",
       "23     2016  ...                              JavaScript, OCaml[11]\n",
       "24     2016  ...  Lua, Python, Ruby, C, C#, BASIC, QML, xBase, S...\n",
       "25     2017  ...                                 C++, Standard C, C\n",
       "26     2017  ...                     Java, Javascript, Go, Rust, C#\n",
       "27     2018  ...                                                NaN\n",
       "28     2018  ...                                       Fortran 2008\n",
       "29     2019  ...                                           Go, Rust\n",
       "30     Year  ...                                     Predecessor(s)\n",
       "\n",
       "[399 rows x 4 columns]"
      ]
     },
     "execution_count": 59,
     "metadata": {
      "tags": []
     },
     "output_type": "execute_result"
    }
   ],
   "source": [
    "# Let's merge them all together by row:\n",
    "merged_long_df = pd.concat(list_wiki[4:12])\n",
    "#merged_long_df"
   ]
  },
  {
   "cell_type": "code",
   "execution_count": 0,
   "metadata": {
    "colab": {
     "base_uri": "https://localhost:8080/",
     "height": 1000
    },
    "colab_type": "code",
    "id": "I4p1LnclWWGZ",
    "outputId": "b7c1cbf6-dbb9-4c4b-ee5c-f7c48ed52240"
   },
   "outputs": [
    {
     "data": {
      "text/html": [
       "<div>\n",
       "<style scoped>\n",
       "    .dataframe tbody tr th:only-of-type {\n",
       "        vertical-align: middle;\n",
       "    }\n",
       "\n",
       "    .dataframe tbody tr th {\n",
       "        vertical-align: top;\n",
       "    }\n",
       "\n",
       "    .dataframe thead th {\n",
       "        text-align: right;\n",
       "    }\n",
       "</style>\n",
       "<table border=\"1\" class=\"dataframe\">\n",
       "  <thead>\n",
       "    <tr style=\"text-align: right;\">\n",
       "      <th></th>\n",
       "      <th>Year</th>\n",
       "      <th>Name</th>\n",
       "      <th>Chief developer, company</th>\n",
       "      <th>Predecessor(s)</th>\n",
       "    </tr>\n",
       "  </thead>\n",
       "  <tbody>\n",
       "    <tr>\n",
       "      <th>0</th>\n",
       "      <td>1804</td>\n",
       "      <td>Jacquard Loom</td>\n",
       "      <td>Joseph Marie Jacquard</td>\n",
       "      <td>none (unique language)</td>\n",
       "    </tr>\n",
       "    <tr>\n",
       "      <th>1</th>\n",
       "      <td>1943–45</td>\n",
       "      <td>Plankalkül (concept)</td>\n",
       "      <td>Konrad Zuse</td>\n",
       "      <td>none (unique language)</td>\n",
       "    </tr>\n",
       "    <tr>\n",
       "      <th>2</th>\n",
       "      <td>1943–46</td>\n",
       "      <td>ENIAC coding system</td>\n",
       "      <td>John von Neumann, John Mauchly, J. Presper Eck...</td>\n",
       "      <td>none (unique language)</td>\n",
       "    </tr>\n",
       "    <tr>\n",
       "      <th>3</th>\n",
       "      <td>1946</td>\n",
       "      <td>ENIAC Short Code</td>\n",
       "      <td>Richard Clippinger, John von Neumann after Ala...</td>\n",
       "      <td>ENIAC coding system</td>\n",
       "    </tr>\n",
       "    <tr>\n",
       "      <th>4</th>\n",
       "      <td>1946</td>\n",
       "      <td>Von Neumann and Goldstine graphing system (Not...</td>\n",
       "      <td>John von Neumann and Herman Goldstine</td>\n",
       "      <td>ENIAC coding system</td>\n",
       "    </tr>\n",
       "    <tr>\n",
       "      <th>5</th>\n",
       "      <td>1947</td>\n",
       "      <td>ARC Assembly</td>\n",
       "      <td>Kathleen Booth[1][2]</td>\n",
       "      <td>ENIAC coding system</td>\n",
       "    </tr>\n",
       "    <tr>\n",
       "      <th>6</th>\n",
       "      <td>1948</td>\n",
       "      <td>CPC Coding scheme</td>\n",
       "      <td>Howard H. Aiken</td>\n",
       "      <td>Analytical Engine order code</td>\n",
       "    </tr>\n",
       "    <tr>\n",
       "      <th>7</th>\n",
       "      <td>1948</td>\n",
       "      <td>Curry notation system</td>\n",
       "      <td>Haskell Curry</td>\n",
       "      <td>ENIAC coding system</td>\n",
       "    </tr>\n",
       "    <tr>\n",
       "      <th>8</th>\n",
       "      <td>1948</td>\n",
       "      <td>Plankalkül (concept published)</td>\n",
       "      <td>Konrad Zuse</td>\n",
       "      <td>none (unique language)</td>\n",
       "    </tr>\n",
       "    <tr>\n",
       "      <th>9</th>\n",
       "      <td>1949</td>\n",
       "      <td>Short Code</td>\n",
       "      <td>John Mauchly and William F. Schmitt</td>\n",
       "      <td>ENIAC Short Code</td>\n",
       "    </tr>\n",
       "    <tr>\n",
       "      <th>0</th>\n",
       "      <td>1950</td>\n",
       "      <td>Short Code</td>\n",
       "      <td>William F. Schmidt, Albert B. Tonik,[3] J. R. ...</td>\n",
       "      <td>Brief Code</td>\n",
       "    </tr>\n",
       "    <tr>\n",
       "      <th>1</th>\n",
       "      <td>1950</td>\n",
       "      <td>Birkbeck Assembler</td>\n",
       "      <td>Kathleen Booth</td>\n",
       "      <td>ARC</td>\n",
       "    </tr>\n",
       "    <tr>\n",
       "      <th>2</th>\n",
       "      <td>1951</td>\n",
       "      <td>Superplan</td>\n",
       "      <td>Heinz Rutishauser</td>\n",
       "      <td>Plankalkül</td>\n",
       "    </tr>\n",
       "    <tr>\n",
       "      <th>3</th>\n",
       "      <td>1951</td>\n",
       "      <td>ALGAE</td>\n",
       "      <td>Edward A. Voorhees and Karl Balke</td>\n",
       "      <td>none (unique language)</td>\n",
       "    </tr>\n",
       "    <tr>\n",
       "      <th>4</th>\n",
       "      <td>1951</td>\n",
       "      <td>Intermediate Programming Language</td>\n",
       "      <td>Arthur Burks</td>\n",
       "      <td>Short Code</td>\n",
       "    </tr>\n",
       "    <tr>\n",
       "      <th>5</th>\n",
       "      <td>1951</td>\n",
       "      <td>Regional Assembly Language</td>\n",
       "      <td>Maurice Wilkes</td>\n",
       "      <td>EDSAC</td>\n",
       "    </tr>\n",
       "    <tr>\n",
       "      <th>6</th>\n",
       "      <td>1951</td>\n",
       "      <td>Boehm unnamed coding system</td>\n",
       "      <td>Corrado Böhm</td>\n",
       "      <td>CPC Coding scheme</td>\n",
       "    </tr>\n",
       "    <tr>\n",
       "      <th>7</th>\n",
       "      <td>1951</td>\n",
       "      <td>Klammerausdrücke</td>\n",
       "      <td>Konrad Zuse</td>\n",
       "      <td>Plankalkül</td>\n",
       "    </tr>\n",
       "    <tr>\n",
       "      <th>8</th>\n",
       "      <td>1951</td>\n",
       "      <td>OMNIBAC Symbolic Assembler</td>\n",
       "      <td>Charles Katz</td>\n",
       "      <td>Short Code</td>\n",
       "    </tr>\n",
       "    <tr>\n",
       "      <th>9</th>\n",
       "      <td>1951</td>\n",
       "      <td>Stanislaus (Notation)</td>\n",
       "      <td>Fritz Bauer</td>\n",
       "      <td>none (unique language)</td>\n",
       "    </tr>\n",
       "    <tr>\n",
       "      <th>10</th>\n",
       "      <td>1951</td>\n",
       "      <td>Whirlwind assembler</td>\n",
       "      <td>Charles Adams and Jack Gilmore at MIT Project ...</td>\n",
       "      <td>EDSAC</td>\n",
       "    </tr>\n",
       "    <tr>\n",
       "      <th>11</th>\n",
       "      <td>1951</td>\n",
       "      <td>Rochester assembler</td>\n",
       "      <td>Nat Rochester</td>\n",
       "      <td>EDSAC</td>\n",
       "    </tr>\n",
       "    <tr>\n",
       "      <th>12</th>\n",
       "      <td>1951</td>\n",
       "      <td>Sort Merge Generator</td>\n",
       "      <td>Betty Holberton</td>\n",
       "      <td>none (unique language)</td>\n",
       "    </tr>\n",
       "    <tr>\n",
       "      <th>13</th>\n",
       "      <td>1952</td>\n",
       "      <td>A-0</td>\n",
       "      <td>Grace Hopper</td>\n",
       "      <td>Short Code</td>\n",
       "    </tr>\n",
       "    <tr>\n",
       "      <th>14</th>\n",
       "      <td>1952</td>\n",
       "      <td>Glennie Autocode</td>\n",
       "      <td>Alick Glennie after Alan Turing</td>\n",
       "      <td>CPC Coding scheme</td>\n",
       "    </tr>\n",
       "    <tr>\n",
       "      <th>15</th>\n",
       "      <td>1952</td>\n",
       "      <td>Editing Generator</td>\n",
       "      <td>Milly Koss</td>\n",
       "      <td>SORT/MERGE</td>\n",
       "    </tr>\n",
       "    <tr>\n",
       "      <th>16</th>\n",
       "      <td>1952</td>\n",
       "      <td>COMPOOL</td>\n",
       "      <td>RAND/SDC</td>\n",
       "      <td>none (unique language)</td>\n",
       "    </tr>\n",
       "    <tr>\n",
       "      <th>17</th>\n",
       "      <td>1953</td>\n",
       "      <td>Speedcoding</td>\n",
       "      <td>John W. Backus</td>\n",
       "      <td>none (unique language)</td>\n",
       "    </tr>\n",
       "    <tr>\n",
       "      <th>18</th>\n",
       "      <td>1953</td>\n",
       "      <td>READ/PRINT</td>\n",
       "      <td>Don Harroff, James Fishman, George Ryckman</td>\n",
       "      <td>none (unique language)</td>\n",
       "    </tr>\n",
       "    <tr>\n",
       "      <th>19</th>\n",
       "      <td>1954</td>\n",
       "      <td>Laning and Zierler system</td>\n",
       "      <td>Laning, Zierler, Adams at MIT Project Whirlwind</td>\n",
       "      <td>none (unique language)</td>\n",
       "    </tr>\n",
       "    <tr>\n",
       "      <th>...</th>\n",
       "      <td>...</td>\n",
       "      <td>...</td>\n",
       "      <td>...</td>\n",
       "      <td>...</td>\n",
       "    </tr>\n",
       "    <tr>\n",
       "      <th>0</th>\n",
       "      <td>2010</td>\n",
       "      <td>Rust</td>\n",
       "      <td>Graydon Hoare, Mozilla</td>\n",
       "      <td>Alef, C++, Camlp4, Erlang, Hermes, Limbo, Napi...</td>\n",
       "    </tr>\n",
       "    <tr>\n",
       "      <th>1</th>\n",
       "      <td>2011</td>\n",
       "      <td>C11</td>\n",
       "      <td>C11 ISO/IEC 9899:2011</td>\n",
       "      <td>NaN</td>\n",
       "    </tr>\n",
       "    <tr>\n",
       "      <th>2</th>\n",
       "      <td>2011</td>\n",
       "      <td>Ceylon</td>\n",
       "      <td>Gavin King, Red Hat</td>\n",
       "      <td>Java</td>\n",
       "    </tr>\n",
       "    <tr>\n",
       "      <th>3</th>\n",
       "      <td>2011</td>\n",
       "      <td>Dart</td>\n",
       "      <td>Google</td>\n",
       "      <td>Java, JavaScript, CoffeeScript, Go</td>\n",
       "    </tr>\n",
       "    <tr>\n",
       "      <th>4</th>\n",
       "      <td>2011</td>\n",
       "      <td>C++11</td>\n",
       "      <td>C++ ISO/IEC 14882:2011</td>\n",
       "      <td>C++, Standard C, C</td>\n",
       "    </tr>\n",
       "    <tr>\n",
       "      <th>5</th>\n",
       "      <td>2011</td>\n",
       "      <td>Kotlin</td>\n",
       "      <td>JetBrains</td>\n",
       "      <td>Java, Scala, Groovy, C#, Gosu</td>\n",
       "    </tr>\n",
       "    <tr>\n",
       "      <th>6</th>\n",
       "      <td>2011</td>\n",
       "      <td>Red</td>\n",
       "      <td>Nenad Rakocevic</td>\n",
       "      <td>Rebol, Scala, Lua</td>\n",
       "    </tr>\n",
       "    <tr>\n",
       "      <th>7</th>\n",
       "      <td>2011</td>\n",
       "      <td>MonkeyX</td>\n",
       "      <td>Mark Sibly</td>\n",
       "      <td>NaN</td>\n",
       "    </tr>\n",
       "    <tr>\n",
       "      <th>8</th>\n",
       "      <td>2011</td>\n",
       "      <td>Opa</td>\n",
       "      <td>MLstate</td>\n",
       "      <td>OCaml, Erlang, JavaScript</td>\n",
       "    </tr>\n",
       "    <tr>\n",
       "      <th>9</th>\n",
       "      <td>2012</td>\n",
       "      <td>Elixir</td>\n",
       "      <td>José Valim</td>\n",
       "      <td>Erlang, Ruby, Clojure</td>\n",
       "    </tr>\n",
       "    <tr>\n",
       "      <th>10</th>\n",
       "      <td>2012</td>\n",
       "      <td>Elm</td>\n",
       "      <td>Evan Czaplicki</td>\n",
       "      <td>Haskell, Standard ML, OCaml, F#</td>\n",
       "    </tr>\n",
       "    <tr>\n",
       "      <th>11</th>\n",
       "      <td>2012</td>\n",
       "      <td>TypeScript</td>\n",
       "      <td>Anders Hejlsberg, Microsoft</td>\n",
       "      <td>JavaScript, CoffeeScript</td>\n",
       "    </tr>\n",
       "    <tr>\n",
       "      <th>12</th>\n",
       "      <td>2012</td>\n",
       "      <td>Julia</td>\n",
       "      <td>Jeff Bezanson, Stefan Karpinski, Viral Shah, A...</td>\n",
       "      <td>MATLAB, Lisp, C, Fortran, Mathematica[9] (stri...</td>\n",
       "    </tr>\n",
       "    <tr>\n",
       "      <th>13</th>\n",
       "      <td>2012</td>\n",
       "      <td>P</td>\n",
       "      <td>Vivek Gupta, Ethan Jackson, Shaz Qadeer, Srira...</td>\n",
       "      <td>NaN</td>\n",
       "    </tr>\n",
       "    <tr>\n",
       "      <th>14</th>\n",
       "      <td>2012</td>\n",
       "      <td>Ada 2012</td>\n",
       "      <td>ARA and Ada Europe (ISO/IEC 8652:2012)</td>\n",
       "      <td>Ada 2005, ISO/IEC 8652:1995/Amd 1:2007</td>\n",
       "    </tr>\n",
       "    <tr>\n",
       "      <th>15</th>\n",
       "      <td>2013</td>\n",
       "      <td>P4</td>\n",
       "      <td>P4 Language Consortium (P4.org)</td>\n",
       "      <td>NaN</td>\n",
       "    </tr>\n",
       "    <tr>\n",
       "      <th>16</th>\n",
       "      <td>2013</td>\n",
       "      <td>Cuneiform</td>\n",
       "      <td>Jörgen Brandt</td>\n",
       "      <td>Swift (parallel scripting language)</td>\n",
       "    </tr>\n",
       "    <tr>\n",
       "      <th>17</th>\n",
       "      <td>2014</td>\n",
       "      <td>Crystal</td>\n",
       "      <td>Ary Borenszweig, Manas Technology Solutions</td>\n",
       "      <td>Ruby, C, Rust, Go, C#, Python</td>\n",
       "    </tr>\n",
       "    <tr>\n",
       "      <th>18</th>\n",
       "      <td>2014</td>\n",
       "      <td>Hack</td>\n",
       "      <td>Facebook</td>\n",
       "      <td>PHP</td>\n",
       "    </tr>\n",
       "    <tr>\n",
       "      <th>19</th>\n",
       "      <td>2014</td>\n",
       "      <td>Swift</td>\n",
       "      <td>Apple Inc.</td>\n",
       "      <td>Objective-C, Rust, Haskell, Ruby, Python, C#, CLU</td>\n",
       "    </tr>\n",
       "    <tr>\n",
       "      <th>20</th>\n",
       "      <td>2014</td>\n",
       "      <td>C++14</td>\n",
       "      <td>C++ ISO/IEC 14882:2014</td>\n",
       "      <td>C++, Standard C, C</td>\n",
       "    </tr>\n",
       "    <tr>\n",
       "      <th>21</th>\n",
       "      <td>2015</td>\n",
       "      <td>Perl 6</td>\n",
       "      <td>The Rakudo Team</td>\n",
       "      <td>Perl, Haskell, Python, Ruby</td>\n",
       "    </tr>\n",
       "    <tr>\n",
       "      <th>22</th>\n",
       "      <td>2015</td>\n",
       "      <td>Pony</td>\n",
       "      <td>NaN</td>\n",
       "      <td>NaN</td>\n",
       "    </tr>\n",
       "    <tr>\n",
       "      <th>23</th>\n",
       "      <td>2016</td>\n",
       "      <td>Reason</td>\n",
       "      <td>Jordan Walke</td>\n",
       "      <td>JavaScript, OCaml[11]</td>\n",
       "    </tr>\n",
       "    <tr>\n",
       "      <th>24</th>\n",
       "      <td>2016</td>\n",
       "      <td>Ring</td>\n",
       "      <td>Mahmoud Fayed</td>\n",
       "      <td>Lua, Python, Ruby, C, C#, BASIC, QML, xBase, S...</td>\n",
       "    </tr>\n",
       "    <tr>\n",
       "      <th>25</th>\n",
       "      <td>2017</td>\n",
       "      <td>C++17</td>\n",
       "      <td>C++ ISO/IEC 14882:2017</td>\n",
       "      <td>C++, Standard C, C</td>\n",
       "    </tr>\n",
       "    <tr>\n",
       "      <th>26</th>\n",
       "      <td>2017</td>\n",
       "      <td>Ballerina</td>\n",
       "      <td>WSO2, Open Source[12]</td>\n",
       "      <td>Java, Javascript, Go, Rust, C#</td>\n",
       "    </tr>\n",
       "    <tr>\n",
       "      <th>27</th>\n",
       "      <td>2018</td>\n",
       "      <td>C18</td>\n",
       "      <td>C18 ISO/IEC 9899:2018</td>\n",
       "      <td>NaN</td>\n",
       "    </tr>\n",
       "    <tr>\n",
       "      <th>28</th>\n",
       "      <td>2018</td>\n",
       "      <td>Fortran 2018</td>\n",
       "      <td>ISO/IEC JTC1/SC22/WG5 N2150:2018</td>\n",
       "      <td>Fortran 2008</td>\n",
       "    </tr>\n",
       "    <tr>\n",
       "      <th>29</th>\n",
       "      <td>2019</td>\n",
       "      <td>V</td>\n",
       "      <td>Alexander Medvednikov</td>\n",
       "      <td>Go, Rust</td>\n",
       "    </tr>\n",
       "  </tbody>\n",
       "</table>\n",
       "<p>391 rows × 4 columns</p>\n",
       "</div>"
      ],
      "text/plain": [
       "       Year  ...                                     Predecessor(s)\n",
       "0      1804  ...                             none (unique language)\n",
       "1   1943–45  ...                             none (unique language)\n",
       "2   1943–46  ...                             none (unique language)\n",
       "3      1946  ...                                ENIAC coding system\n",
       "4      1946  ...                                ENIAC coding system\n",
       "5      1947  ...                                ENIAC coding system\n",
       "6      1948  ...                       Analytical Engine order code\n",
       "7      1948  ...                                ENIAC coding system\n",
       "8      1948  ...                             none (unique language)\n",
       "9      1949  ...                                   ENIAC Short Code\n",
       "0      1950  ...                                         Brief Code\n",
       "1      1950  ...                                                ARC\n",
       "2      1951  ...                                         Plankalkül\n",
       "3      1951  ...                             none (unique language)\n",
       "4      1951  ...                                         Short Code\n",
       "5      1951  ...                                              EDSAC\n",
       "6      1951  ...                                  CPC Coding scheme\n",
       "7      1951  ...                                         Plankalkül\n",
       "8      1951  ...                                         Short Code\n",
       "9      1951  ...                             none (unique language)\n",
       "10     1951  ...                                              EDSAC\n",
       "11     1951  ...                                              EDSAC\n",
       "12     1951  ...                             none (unique language)\n",
       "13     1952  ...                                         Short Code\n",
       "14     1952  ...                                  CPC Coding scheme\n",
       "15     1952  ...                                         SORT/MERGE\n",
       "16     1952  ...                             none (unique language)\n",
       "17     1953  ...                             none (unique language)\n",
       "18     1953  ...                             none (unique language)\n",
       "19     1954  ...                             none (unique language)\n",
       "..      ...  ...                                                ...\n",
       "0      2010  ...  Alef, C++, Camlp4, Erlang, Hermes, Limbo, Napi...\n",
       "1      2011  ...                                                NaN\n",
       "2      2011  ...                                               Java\n",
       "3      2011  ...                 Java, JavaScript, CoffeeScript, Go\n",
       "4      2011  ...                                 C++, Standard C, C\n",
       "5      2011  ...                      Java, Scala, Groovy, C#, Gosu\n",
       "6      2011  ...                                  Rebol, Scala, Lua\n",
       "7      2011  ...                                                NaN\n",
       "8      2011  ...                          OCaml, Erlang, JavaScript\n",
       "9      2012  ...                              Erlang, Ruby, Clojure\n",
       "10     2012  ...                    Haskell, Standard ML, OCaml, F#\n",
       "11     2012  ...                           JavaScript, CoffeeScript\n",
       "12     2012  ...  MATLAB, Lisp, C, Fortran, Mathematica[9] (stri...\n",
       "13     2012  ...                                                NaN\n",
       "14     2012  ...             Ada 2005, ISO/IEC 8652:1995/Amd 1:2007\n",
       "15     2013  ...                                                NaN\n",
       "16     2013  ...                Swift (parallel scripting language)\n",
       "17     2014  ...                      Ruby, C, Rust, Go, C#, Python\n",
       "18     2014  ...                                                PHP\n",
       "19     2014  ...  Objective-C, Rust, Haskell, Ruby, Python, C#, CLU\n",
       "20     2014  ...                                 C++, Standard C, C\n",
       "21     2015  ...                        Perl, Haskell, Python, Ruby\n",
       "22     2015  ...                                                NaN\n",
       "23     2016  ...                              JavaScript, OCaml[11]\n",
       "24     2016  ...  Lua, Python, Ruby, C, C#, BASIC, QML, xBase, S...\n",
       "25     2017  ...                                 C++, Standard C, C\n",
       "26     2017  ...                     Java, Javascript, Go, Rust, C#\n",
       "27     2018  ...                                                NaN\n",
       "28     2018  ...                                       Fortran 2008\n",
       "29     2019  ...                                           Go, Rust\n",
       "\n",
       "[391 rows x 4 columns]"
      ]
     },
     "execution_count": 61,
     "metadata": {
      "tags": []
     },
     "output_type": "execute_result"
    }
   ],
   "source": [
    "# Remove the last row? \n",
    "merged_long_df = merged_long_df[merged_long_df.Year != 'Year']\n",
    "merged_long_df"
   ]
  },
  {
   "cell_type": "code",
   "execution_count": 0,
   "metadata": {
    "colab": {},
    "colab_type": "code",
    "id": "LLmW3NXeToXR"
   },
   "outputs": [],
   "source": [
    "# In what year was Julia created?"
   ]
  },
  {
   "cell_type": "code",
   "execution_count": 0,
   "metadata": {
    "colab": {
     "base_uri": "https://localhost:8080/",
     "height": 51
    },
    "colab_type": "code",
    "id": "IRfyDH_1WWGZ",
    "outputId": "5741559c-431a-4057-90c9-4bd457c8637d"
   },
   "outputs": [
    {
     "data": {
      "text/plain": [
       "12    2012\n",
       "Name: Year, dtype: object"
      ]
     },
     "execution_count": 63,
     "metadata": {
      "tags": []
     },
     "output_type": "execute_result"
    }
   ],
   "source": [
    "merged_long_df[merged_long_df.Name == \"Julia\"].Year"
   ]
  },
  {
   "cell_type": "code",
   "execution_count": 0,
   "metadata": {
    "colab": {},
    "colab_type": "code",
    "id": "eQT3XX9xWWGa"
   },
   "outputs": [],
   "source": [
    "# Can we read tables in different languages?\n",
    "# How about encoding issues? "
   ]
  },
  {
   "cell_type": "code",
   "execution_count": 0,
   "metadata": {
    "colab": {},
    "colab_type": "code",
    "id": "D2yHIJIYWWGc"
   },
   "outputs": [],
   "source": []
  },
  {
   "cell_type": "markdown",
   "metadata": {
    "colab_type": "text",
    "id": "ypBFXSmkWWGc"
   },
   "source": [
    "- Another way to get HTML elements:\n",
    "    - Send Request to Wikipedia Server and get HTML elements\n",
    "    - Read HTML document with Pandas. "
   ]
  },
  {
   "cell_type": "code",
   "execution_count": 0,
   "metadata": {
    "colab": {},
    "colab_type": "code",
    "id": "1aCQgFDYWWGf"
   },
   "outputs": [],
   "source": [
    "'https://en.wikipedia.org/wiki/Python_(programming_language)'"
   ]
  },
  {
   "cell_type": "code",
   "execution_count": 0,
   "metadata": {
    "colab": {},
    "colab_type": "code",
    "id": "MPvwQO-NWWGf"
   },
   "outputs": [],
   "source": [
    "# here we import requests package: \n",
    "import requests \n",
    "request = requests.get('https://en.wikipedia.org/wiki/Python_(programming_language)')\n",
    "#request.text\n",
    "#type(request.text)\n",
    "#type(request)"
   ]
  },
  {
   "cell_type": "code",
   "execution_count": 0,
   "metadata": {
    "colab": {
     "base_uri": "https://localhost:8080/",
     "height": 34
    },
    "colab_type": "code",
    "id": "6uaxWCuhRIQc",
    "outputId": "23b07bb8-fd54-45b7-dc6b-ccf9dab88454"
   },
   "outputs": [
    {
     "data": {
      "text/plain": [
       "requests.models.Response"
      ]
     },
     "execution_count": 65,
     "metadata": {
      "tags": []
     },
     "output_type": "execute_result"
    }
   ],
   "source": [
    "type(request)"
   ]
  },
  {
   "cell_type": "code",
   "execution_count": null,
   "metadata": {},
   "outputs": [],
   "source": [
    "request.text"
   ]
  },
  {
   "cell_type": "code",
   "execution_count": 0,
   "metadata": {
    "colab": {
     "base_uri": "https://localhost:8080/",
     "height": 34
    },
    "colab_type": "code",
    "id": "sJaIzge7EGby",
    "outputId": "c92de8ee-104c-472c-ca3d-0590d4d11a83"
   },
   "outputs": [
    {
     "data": {
      "text/plain": [
       "392286"
      ]
     },
     "execution_count": 70,
     "metadata": {
      "tags": []
     },
     "output_type": "execute_result"
    }
   ],
   "source": []
  },
  {
   "cell_type": "markdown",
   "metadata": {
    "colab_type": "text",
    "id": "261rLUimEisj"
   },
   "source": []
  },
  {
   "cell_type": "markdown",
   "metadata": {
    "colab_type": "text",
    "id": "u64xQRZdEi-C"
   },
   "source": []
  },
  {
   "cell_type": "code",
   "execution_count": 0,
   "metadata": {
    "colab": {
     "base_uri": "https://localhost:8080/",
     "height": 34
    },
    "colab_type": "code",
    "id": "jcYg5bQWDsaY",
    "outputId": "7f4ff7bc-f302-4aa6-a230-ec59d9cbd458"
   },
   "outputs": [
    {
     "data": {
      "text/plain": [
       "8"
      ]
     },
     "execution_count": 72,
     "metadata": {
      "tags": []
     },
     "output_type": "execute_result"
    }
   ],
   "source": [
    "list_new = pd.read_html(request.text)\n",
    "len(list_new)"
   ]
  },
  {
   "cell_type": "code",
   "execution_count": 0,
   "metadata": {
    "colab": {},
    "colab_type": "code",
    "id": "noPNbJUGWWGg"
   },
   "outputs": [],
   "source": [
    "# Try this table?\n",
    "# https://en.wikipedia.org/wiki/List_of_footballers_with_the_most_official_appearances"
   ]
  },
  {
   "cell_type": "code",
   "execution_count": 0,
   "metadata": {
    "colab": {},
    "colab_type": "code",
    "id": "8C3qgW4xRJbo"
   },
   "outputs": [],
   "source": []
  },
  {
   "cell_type": "code",
   "execution_count": 0,
   "metadata": {
    "colab": {},
    "colab_type": "code",
    "id": "C2cY7M1SWWGh"
   },
   "outputs": [],
   "source": [
    "# Which position stay as a footballer the most? "
   ]
  },
  {
   "cell_type": "code",
   "execution_count": 0,
   "metadata": {
    "colab": {},
    "colab_type": "code",
    "id": "kFktVuEGWWGi"
   },
   "outputs": [],
   "source": [
    "# Task 10 - 15 mins"
   ]
  },
  {
   "cell_type": "code",
   "execution_count": 0,
   "metadata": {
    "colab": {},
    "colab_type": "code",
    "id": "MCIaR3ciWWGi"
   },
   "outputs": [],
   "source": []
  },
  {
   "cell_type": "markdown",
   "metadata": {
    "colab_type": "text",
    "id": "ujRnIqS7WWGj"
   },
   "source": [
    "### Parse Wiki Infoboxes\n",
    "- What if you are interested in Wiki Infobox not a table\n",
    "    - You can identify wikinfobox on a specific wiki page and pass it through `read_html` function"
   ]
  },
  {
   "cell_type": "code",
   "execution_count": 0,
   "metadata": {
    "colab": {},
    "colab_type": "code",
    "id": "wt2bdh44WWGj"
   },
   "outputs": [],
   "source": [
    "# page = 'https://en.wikipedia.org/wiki/Claremont,_California'\n",
    "\n"
   ]
  },
  {
   "cell_type": "code",
   "execution_count": 0,
   "metadata": {
    "colab": {},
    "colab_type": "code",
    "id": "Mh47AwZTYBXv"
   },
   "outputs": [],
   "source": [
    "# len(infobox)"
   ]
  },
  {
   "cell_type": "code",
   "execution_count": 0,
   "metadata": {
    "colab": {},
    "colab_type": "code",
    "id": "SUpCl63aYEcw"
   },
   "outputs": [],
   "source": [
    "# infobox[0]"
   ]
  },
  {
   "cell_type": "code",
   "execution_count": 0,
   "metadata": {
    "colab": {},
    "colab_type": "code",
    "id": "NI7HY-0kWWGk"
   },
   "outputs": [],
   "source": [
    "# infobox[0][9:26]"
   ]
  },
  {
   "cell_type": "markdown",
   "metadata": {
    "colab_type": "text",
    "id": "6sKCvOWhWWGl"
   },
   "source": [
    "## Parsing non-Wikipedia Tables"
   ]
  },
  {
   "cell_type": "code",
   "execution_count": 0,
   "metadata": {
    "colab": {},
    "colab_type": "code",
    "id": "g4L5Hn_DWWGl"
   },
   "outputs": [],
   "source": [
    "# Let's get some financial data, say Dow Jones big 30 stock market prices: \n",
    "# https://money.cnn.com/data/dow30/"
   ]
  },
  {
   "cell_type": "code",
   "execution_count": 0,
   "metadata": {
    "colab": {
     "base_uri": "https://localhost:8080/",
     "height": 34
    },
    "colab_type": "code",
    "id": "S00vyPjHWWGl",
    "outputId": "1390cbd9-74d0-414f-a201-d8977e4cf42c"
   },
   "outputs": [
    {
     "data": {
      "text/plain": [
       "1"
      ]
     },
     "execution_count": 74,
     "metadata": {
      "tags": []
     },
     "output_type": "execute_result"
    }
   ],
   "source": [
    "page = 'https://money.cnn.com/data/dow30/'\n",
    "dowjones_list = read_html(page, attrs={\"class\" : \"wsod_dataTable wsod_dataTableBig\"})\n",
    "\n",
    "len(dowjones_list)"
   ]
  },
  {
   "cell_type": "code",
   "execution_count": 0,
   "metadata": {
    "colab": {},
    "colab_type": "code",
    "id": "RbMrR0mxWWGm"
   },
   "outputs": [],
   "source": [
    "dow30 = dowjones_list[0]\n",
    "\n",
    "file_name = './dow30.csv'\n",
    "dow30.to_csv(file_name, sep=',', encoding='utf-8')"
   ]
  },
  {
   "cell_type": "code",
   "execution_count": 0,
   "metadata": {
    "colab": {},
    "colab_type": "code",
    "id": "XcMMetK6RsjY"
   },
   "outputs": [],
   "source": []
  },
  {
   "cell_type": "code",
   "execution_count": 0,
   "metadata": {
    "colab": {},
    "colab_type": "code",
    "id": "VJi2PtwdRs5l"
   },
   "outputs": [],
   "source": [
    "# Let's try this website: \n",
    "from pandas.io.html import read_html\n",
    "page = 'https://www.wunderground.com/weather/us/ca/claremont/91711'\n",
    "# call table class:  \n",
    "table = read_html(page, index_col=0, attrs={\"class\":\"mat-table\"})"
   ]
  },
  {
   "cell_type": "markdown",
   "metadata": {
    "colab_type": "text",
    "id": "6Bue9YItWWGm"
   },
   "source": [
    "## Write html tables to csv/excel"
   ]
  },
  {
   "cell_type": "code",
   "execution_count": 0,
   "metadata": {
    "colab": {},
    "colab_type": "code",
    "id": "wzAFoerMWWGm"
   },
   "outputs": [],
   "source": []
  },
  {
   "cell_type": "markdown",
   "metadata": {
    "colab_type": "text",
    "id": "dGnIRP9HbLdg"
   },
   "source": []
  },
  {
   "cell_type": "code",
   "execution_count": 0,
   "metadata": {
    "colab": {},
    "colab_type": "code",
    "id": "JPptN_q2WWGn"
   },
   "outputs": [],
   "source": [
    "# Find your csv? View it "
   ]
  },
  {
   "cell_type": "code",
   "execution_count": 0,
   "metadata": {
    "colab": {},
    "colab_type": "code",
    "id": "GHap-xC7WWGo"
   },
   "outputs": [],
   "source": []
  }
 ],
 "metadata": {
  "accelerator": "GPU",
  "colab": {
   "collapsed_sections": [],
   "name": "Web Scraping Workshop_QCL_Handson_913.ipynb",
   "provenance": [],
   "toc_visible": true
  },
  "kernelspec": {
   "display_name": "Python 3",
   "language": "python",
   "name": "python3"
  },
  "language_info": {
   "codemirror_mode": {
    "name": "ipython",
    "version": 3
   },
   "file_extension": ".py",
   "mimetype": "text/x-python",
   "name": "python",
   "nbconvert_exporter": "python",
   "pygments_lexer": "ipython3",
   "version": "3.7.6"
  }
 },
 "nbformat": 4,
 "nbformat_minor": 1
}
